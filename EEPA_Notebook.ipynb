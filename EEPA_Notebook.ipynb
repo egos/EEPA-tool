{
 "cells": [
  {
   "cell_type": "markdown",
   "id": "464f1570",
   "metadata": {
    "jp-MarkdownHeadingCollapsed": true
   },
   "source": [
    "# Import"
   ]
  },
  {
   "cell_type": "code",
   "execution_count": 1,
   "id": "72c3d8ad",
   "metadata": {},
   "outputs": [],
   "source": [
    "import pandas as pd\n",
    "import numpy as np\n",
    "from io import BytesIO\n",
    "import os\n",
    "import plotly.graph_objects as go\n",
    "from plotly.subplots import make_subplots\n",
    "import matplotlib.pyplot as plt\n",
    "from matplotlib.lines import Line2D\n",
    "\n",
    "import streamlit as st\n",
    "from streamlit import session_state\n",
    "from utils import *\n",
    "from datetime import datetime\n",
    "import warnings"
   ]
  },
  {
   "cell_type": "markdown",
   "id": "dccef945",
   "metadata": {},
   "source": [
    "# Output v1"
   ]
  },
  {
   "cell_type": "code",
   "execution_count": 2,
   "id": "b8931b65",
   "metadata": {},
   "outputs": [
    {
     "name": "stdout",
     "output_type": "stream",
     "text": [
      "[None, None]\n",
      "[None, None]\n"
     ]
    }
   ],
   "source": [
    "data = Init_data()\n",
    "data.keys()\n",
    "lenA = data['lenA']\n",
    "lenB = data['lenB']\n",
    "\n",
    "for i in range(6,8):\n",
    "    print(data[f'Q{i}'])"
   ]
  },
  {
   "cell_type": "code",
   "execution_count": 8,
   "id": "87687623",
   "metadata": {},
   "outputs": [
    {
     "data": {
      "text/html": [
       "<div>\n",
       "<style scoped>\n",
       "    .dataframe tbody tr th:only-of-type {\n",
       "        vertical-align: middle;\n",
       "    }\n",
       "\n",
       "    .dataframe tbody tr th {\n",
       "        vertical-align: top;\n",
       "    }\n",
       "\n",
       "    .dataframe thead th {\n",
       "        text-align: right;\n",
       "    }\n",
       "</style>\n",
       "<table border=\"1\" class=\"dataframe\">\n",
       "  <thead>\n",
       "    <tr style=\"text-align: right;\">\n",
       "      <th></th>\n",
       "      <th>1</th>\n",
       "      <th>2</th>\n",
       "      <th>3</th>\n",
       "      <th>4</th>\n",
       "      <th>5</th>\n",
       "      <th>Definition</th>\n",
       "      <th>Pillar</th>\n",
       "      <th>Title</th>\n",
       "    </tr>\n",
       "    <tr>\n",
       "      <th>Q</th>\n",
       "      <th></th>\n",
       "      <th></th>\n",
       "      <th></th>\n",
       "      <th></th>\n",
       "      <th></th>\n",
       "      <th></th>\n",
       "      <th></th>\n",
       "      <th></th>\n",
       "    </tr>\n",
       "  </thead>\n",
       "  <tbody>\n",
       "    <tr>\n",
       "      <th>1</th>\n",
       "      <td>There is no clear understanding about the pros...</td>\n",
       "      <td>The pros and cons of an insurance program have...</td>\n",
       "      <td>The pros and cons of an insurance program have...</td>\n",
       "      <td>The pros and cons of an insurance program have...</td>\n",
       "      <td>The pros and cons of an insurance program have...</td>\n",
       "      <td>Strategic Alignment</td>\n",
       "      <td>1</td>\n",
       "      <td>Has the government assessed the benefits of an...</td>\n",
       "    </tr>\n",
       "    <tr>\n",
       "      <th>2</th>\n",
       "      <td>Broader agendas (e.g., disaster risk managemen...</td>\n",
       "      <td>Broader policy agendas have been acknowledged ...</td>\n",
       "      <td>Broader policy agendas have been acknowledged ...</td>\n",
       "      <td>Broader policy agendas have been fully integra...</td>\n",
       "      <td>Broader policy agendas have been reviewed and,...</td>\n",
       "      <td>Strategic Alignment</td>\n",
       "      <td>1</td>\n",
       "      <td>Are insurance program objectives aligned with ...</td>\n",
       "    </tr>\n",
       "    <tr>\n",
       "      <th>3</th>\n",
       "      <td>A set of strategic Disaster Risk Financing (DR...</td>\n",
       "      <td>A set of strategic DRF objectives have been id...</td>\n",
       "      <td>A set of strategic DRF objectives have been id...</td>\n",
       "      <td>A set of strategic DRF objectives have been id...</td>\n",
       "      <td>A set of strategic DRF objectives have been id...</td>\n",
       "      <td>Strategic Alignment</td>\n",
       "      <td>1</td>\n",
       "      <td>Have specific program objectives been identifi...</td>\n",
       "    </tr>\n",
       "    <tr>\n",
       "      <th>4</th>\n",
       "      <td>The scope of participation (i.e., which govern...</td>\n",
       "      <td>The scope of participating agencies and asset ...</td>\n",
       "      <td>The scope of participating agencies/assets has...</td>\n",
       "      <td>There is a systematic approach to agency or as...</td>\n",
       "      <td>There is a systematic approach to agency or as...</td>\n",
       "      <td>Policy &amp; Legislation</td>\n",
       "      <td>1</td>\n",
       "      <td>Have you decided which parts of government wil...</td>\n",
       "    </tr>\n",
       "    <tr>\n",
       "      <th>5</th>\n",
       "      <td>The program is not supported by legislation/re...</td>\n",
       "      <td>The program falls within general government po...</td>\n",
       "      <td>Legislation/regulation specifically refers to ...</td>\n",
       "      <td>Legislation/regulation specifically refers to ...</td>\n",
       "      <td>Legislation/regulation specifically refers to ...</td>\n",
       "      <td>Policy &amp; Legislation</td>\n",
       "      <td>1</td>\n",
       "      <td>Is there a legislation/regulation framework fo...</td>\n",
       "    </tr>\n",
       "  </tbody>\n",
       "</table>\n",
       "</div>"
      ],
      "text/plain": [
       "                                                   1  \\\n",
       "Q                                                      \n",
       "1  There is no clear understanding about the pros...   \n",
       "2  Broader agendas (e.g., disaster risk managemen...   \n",
       "3  A set of strategic Disaster Risk Financing (DR...   \n",
       "4  The scope of participation (i.e., which govern...   \n",
       "5  The program is not supported by legislation/re...   \n",
       "\n",
       "                                                   2  \\\n",
       "Q                                                      \n",
       "1  The pros and cons of an insurance program have...   \n",
       "2  Broader policy agendas have been acknowledged ...   \n",
       "3  A set of strategic DRF objectives have been id...   \n",
       "4  The scope of participating agencies and asset ...   \n",
       "5  The program falls within general government po...   \n",
       "\n",
       "                                                   3  \\\n",
       "Q                                                      \n",
       "1  The pros and cons of an insurance program have...   \n",
       "2  Broader policy agendas have been acknowledged ...   \n",
       "3  A set of strategic DRF objectives have been id...   \n",
       "4  The scope of participating agencies/assets has...   \n",
       "5  Legislation/regulation specifically refers to ...   \n",
       "\n",
       "                                                   4  \\\n",
       "Q                                                      \n",
       "1  The pros and cons of an insurance program have...   \n",
       "2  Broader policy agendas have been fully integra...   \n",
       "3  A set of strategic DRF objectives have been id...   \n",
       "4  There is a systematic approach to agency or as...   \n",
       "5  Legislation/regulation specifically refers to ...   \n",
       "\n",
       "                                                   5            Definition  \\\n",
       "Q                                                                            \n",
       "1  The pros and cons of an insurance program have...   Strategic Alignment   \n",
       "2  Broader policy agendas have been reviewed and,...   Strategic Alignment   \n",
       "3  A set of strategic DRF objectives have been id...   Strategic Alignment   \n",
       "4  There is a systematic approach to agency or as...  Policy & Legislation   \n",
       "5  Legislation/regulation specifically refers to ...  Policy & Legislation   \n",
       "\n",
       "   Pillar                                              Title  \n",
       "Q                                                             \n",
       "1       1  Has the government assessed the benefits of an...  \n",
       "2       1  Are insurance program objectives aligned with ...  \n",
       "3       1  Have specific program objectives been identifi...  \n",
       "4       1  Have you decided which parts of government wil...  \n",
       "5       1  Is there a legislation/regulation framework fo...  "
      ]
     },
     "execution_count": 8,
     "metadata": {},
     "output_type": "execute_result"
    }
   ],
   "source": [
    "data = Init_data()\n",
    "dfa = data['dfa'].copy()\n",
    "dfb = data['dfb'].copy()\n",
    "dfp = data['dfp'].copy()\n",
    "lenA = data['lenA']\n",
    "lenB = data['lenB']\n",
    "dfb.head()\n"
   ]
  },
  {
   "cell_type": "code",
   "execution_count": 10,
   "id": "6919df00",
   "metadata": {},
   "outputs": [
    {
     "data": {
      "text/plain": [
       "45"
      ]
     },
     "execution_count": 10,
     "metadata": {},
     "output_type": "execute_result"
    }
   ],
   "source": [
    "lenA\n",
    "lenB"
   ]
  },
  {
   "cell_type": "code",
   "execution_count": 41,
   "id": "9773d8f1",
   "metadata": {},
   "outputs": [
    {
     "data": {
      "text/html": [
       "<div>\n",
       "<style scoped>\n",
       "    .dataframe tbody tr th:only-of-type {\n",
       "        vertical-align: middle;\n",
       "    }\n",
       "\n",
       "    .dataframe tbody tr th {\n",
       "        vertical-align: top;\n",
       "    }\n",
       "\n",
       "    .dataframe thead th {\n",
       "        text-align: right;\n",
       "    }\n",
       "</style>\n",
       "<table border=\"1\" class=\"dataframe\">\n",
       "  <thead>\n",
       "    <tr style=\"text-align: right;\">\n",
       "      <th></th>\n",
       "      <th>Current</th>\n",
       "      <th>Aspirational</th>\n",
       "    </tr>\n",
       "    <tr>\n",
       "      <th>Q</th>\n",
       "      <th></th>\n",
       "      <th></th>\n",
       "    </tr>\n",
       "  </thead>\n",
       "  <tbody>\n",
       "    <tr>\n",
       "      <th>6</th>\n",
       "      <td>2</td>\n",
       "      <td>-1</td>\n",
       "    </tr>\n",
       "    <tr>\n",
       "      <th>7</th>\n",
       "      <td>3</td>\n",
       "      <td>-2</td>\n",
       "    </tr>\n",
       "  </tbody>\n",
       "</table>\n",
       "</div>"
      ],
      "text/plain": [
       "   Current  Aspirational\n",
       "Q                       \n",
       "6        2            -1\n",
       "7        3            -2"
      ]
     },
     "execution_count": 41,
     "metadata": {},
     "output_type": "execute_result"
    }
   ],
   "source": [
    "dfb2.loc[6:7,['Current', 'Aspirational']]"
   ]
  },
  {
   "cell_type": "code",
   "execution_count": 18,
   "id": "11e7d3ef",
   "metadata": {},
   "outputs": [
    {
     "ename": "SyntaxError",
     "evalue": "illegal target for annotation (1602298709.py, line 1)",
     "output_type": "error",
     "traceback": [
      "\u001b[1;36m  Cell \u001b[1;32mIn[18], line 1\u001b[1;36m\u001b[0m\n\u001b[1;33m    lenA+1:lenB + lenA + 1\u001b[0m\n\u001b[1;37m    ^\u001b[0m\n\u001b[1;31mSyntaxError\u001b[0m\u001b[1;31m:\u001b[0m illegal target for annotation\n"
     ]
    }
   ],
   "source": [
    "lenA+1:lenB + lenA + 1"
   ]
  },
  {
   "cell_type": "code",
   "execution_count": null,
   "id": "c2c7f863",
   "metadata": {},
   "outputs": [
    {
     "name": "stdout",
     "output_type": "stream",
     "text": [
      "[[None, None], [None, None], [None, None], [None, None], [None, None], [None, None], [None, None], [None, None], [None, None], [None, None], [None, None], [None, None], [None, None], [None, None], [None, None], [None, None], [None, None], [None, None], [None, None], [None, None], [None, None], [None, None], [None, None], [None, None], [None, None], [None, None], [None, None], [None, None], [None, None], [None, None], [None, None], [None, None], [None, None], [None, None], [None, None], [None, None], [None, None], [None, None], [None, None], [None, None], [None, None], [None, None], [None, None], [None, None], [None, None]]\n"
     ]
    }
   ],
   "source": [
    "\n",
    "L = [data[f'Q{i}'] for i in range(lenA+1,lenB + lenA + 1)]\n",
    "print(L)\n",
    "len(L)\n",
    "\n",
    "dfb2.loc[:lenB,['Current', 'Aspirational']] = L "
   ]
  },
  {
   "cell_type": "code",
   "execution_count": 20,
   "id": "23780eff",
   "metadata": {},
   "outputs": [
    {
     "data": {
      "text/plain": [
       "array([3, 2])"
      ]
     },
     "execution_count": 20,
     "metadata": {},
     "output_type": "execute_result"
    }
   ],
   "source": [
    "np.random.randint(1, 6, size=2)"
   ]
  },
  {
   "cell_type": "code",
   "execution_count": 12,
   "id": "5308b52c",
   "metadata": {},
   "outputs": [
    {
     "data": {
      "text/html": [
       "<div>\n",
       "<style scoped>\n",
       "    .dataframe tbody tr th:only-of-type {\n",
       "        vertical-align: middle;\n",
       "    }\n",
       "\n",
       "    .dataframe tbody tr th {\n",
       "        vertical-align: top;\n",
       "    }\n",
       "\n",
       "    .dataframe thead th {\n",
       "        text-align: right;\n",
       "    }\n",
       "</style>\n",
       "<table border=\"1\" class=\"dataframe\">\n",
       "  <thead>\n",
       "    <tr style=\"text-align: right;\">\n",
       "      <th></th>\n",
       "      <th>category</th>\n",
       "      <th>question</th>\n",
       "      <th>Pillar</th>\n",
       "      <th>Current</th>\n",
       "      <th>Aspirational</th>\n",
       "    </tr>\n",
       "    <tr>\n",
       "      <th>Q</th>\n",
       "      <th></th>\n",
       "      <th></th>\n",
       "      <th></th>\n",
       "      <th></th>\n",
       "      <th></th>\n",
       "    </tr>\n",
       "  </thead>\n",
       "  <tbody>\n",
       "    <tr>\n",
       "      <th>1</th>\n",
       "      <td>Strategic Alignment</td>\n",
       "      <td>Has the government assessed the benefits of an...</td>\n",
       "      <td>1</td>\n",
       "      <td>1</td>\n",
       "      <td>4</td>\n",
       "    </tr>\n",
       "    <tr>\n",
       "      <th>2</th>\n",
       "      <td>Strategic Alignment</td>\n",
       "      <td>Are insurance program objectives aligned with ...</td>\n",
       "      <td>1</td>\n",
       "      <td>5</td>\n",
       "      <td>-4</td>\n",
       "    </tr>\n",
       "    <tr>\n",
       "      <th>3</th>\n",
       "      <td>Strategic Alignment</td>\n",
       "      <td>Have specific program objectives been identifi...</td>\n",
       "      <td>1</td>\n",
       "      <td>4</td>\n",
       "      <td>-1</td>\n",
       "    </tr>\n",
       "    <tr>\n",
       "      <th>4</th>\n",
       "      <td>Policy &amp; Legislation</td>\n",
       "      <td>Have you decided which parts of government wil...</td>\n",
       "      <td>1</td>\n",
       "      <td>4</td>\n",
       "      <td>0</td>\n",
       "    </tr>\n",
       "    <tr>\n",
       "      <th>5</th>\n",
       "      <td>Policy &amp; Legislation</td>\n",
       "      <td>Is there a legislation/regulation framework fo...</td>\n",
       "      <td>1</td>\n",
       "      <td>3</td>\n",
       "      <td>1</td>\n",
       "    </tr>\n",
       "    <tr>\n",
       "      <th>6</th>\n",
       "      <td>Policy &amp; Legislation</td>\n",
       "      <td>Has an entity been assigned or established to ...</td>\n",
       "      <td>1</td>\n",
       "      <td>1</td>\n",
       "      <td>1</td>\n",
       "    </tr>\n",
       "    <tr>\n",
       "      <th>7</th>\n",
       "      <td>Funding and Financial Settings</td>\n",
       "      <td>Does the program have sufficient funding arran...</td>\n",
       "      <td>1</td>\n",
       "      <td>2</td>\n",
       "      <td>2</td>\n",
       "    </tr>\n",
       "    <tr>\n",
       "      <th>8</th>\n",
       "      <td>Governance</td>\n",
       "      <td>Does the program have documentation defining h...</td>\n",
       "      <td>1</td>\n",
       "      <td>5</td>\n",
       "      <td>-4</td>\n",
       "    </tr>\n",
       "    <tr>\n",
       "      <th>9</th>\n",
       "      <td>Governance</td>\n",
       "      <td>Is the governance framework independent and ac...</td>\n",
       "      <td>1</td>\n",
       "      <td>2</td>\n",
       "      <td>-1</td>\n",
       "    </tr>\n",
       "    <tr>\n",
       "      <th>10</th>\n",
       "      <td>Governance</td>\n",
       "      <td>Does the program have regular and effective re...</td>\n",
       "      <td>1</td>\n",
       "      <td>1</td>\n",
       "      <td>1</td>\n",
       "    </tr>\n",
       "  </tbody>\n",
       "</table>\n",
       "</div>"
      ],
      "text/plain": [
       "                          category  \\\n",
       "Q                                    \n",
       "1              Strategic Alignment   \n",
       "2              Strategic Alignment   \n",
       "3              Strategic Alignment   \n",
       "4             Policy & Legislation   \n",
       "5             Policy & Legislation   \n",
       "6             Policy & Legislation   \n",
       "7   Funding and Financial Settings   \n",
       "8                       Governance   \n",
       "9                       Governance   \n",
       "10                      Governance   \n",
       "\n",
       "                                             question  Pillar  Current  \\\n",
       "Q                                                                        \n",
       "1   Has the government assessed the benefits of an...       1        1   \n",
       "2   Are insurance program objectives aligned with ...       1        5   \n",
       "3   Have specific program objectives been identifi...       1        4   \n",
       "4   Have you decided which parts of government wil...       1        4   \n",
       "5   Is there a legislation/regulation framework fo...       1        3   \n",
       "6   Has an entity been assigned or established to ...       1        1   \n",
       "7   Does the program have sufficient funding arran...       1        2   \n",
       "8   Does the program have documentation defining h...       1        5   \n",
       "9   Is the governance framework independent and ac...       1        2   \n",
       "10  Does the program have regular and effective re...       1        1   \n",
       "\n",
       "    Aspirational  \n",
       "Q                 \n",
       "1              4  \n",
       "2             -4  \n",
       "3             -1  \n",
       "4              0  \n",
       "5              1  \n",
       "6              1  \n",
       "7              2  \n",
       "8             -4  \n",
       "9             -1  \n",
       "10             1  "
      ]
     },
     "execution_count": 12,
     "metadata": {},
     "output_type": "execute_result"
    }
   ],
   "source": [
    "dfb2 = dfb.copy()[['Definition','Title','Pillar']].rename(columns={\"Definition\": \"category\",'Title' :'question'})\n",
    "# dfb2 = dfb2.head(20)\n",
    "# dfb2['Current']      = None\n",
    "# dfb2['Aspirational'] = None\n",
    "# for i in range(len(dfb2)):\n",
    "\n",
    "dfb2['Current']       = np.random.randint(1, 6, size=len(dfb2))\n",
    "dfb2['Aspirational']  = np.random.randint(1, 6, size=len(dfb2))-dfb2['Current'] \n",
    "dfb2.head(10)"
   ]
  },
  {
   "cell_type": "code",
   "execution_count": 15,
   "id": "e9c35d8f",
   "metadata": {},
   "outputs": [
    {
     "data": {
      "text/plain": [
       "(45, 5)"
      ]
     },
     "execution_count": 15,
     "metadata": {},
     "output_type": "execute_result"
    }
   ],
   "source": [
    "dfb2.shape"
   ]
  },
  {
   "cell_type": "code",
   "execution_count": 21,
   "id": "c30128f3",
   "metadata": {},
   "outputs": [
    {
     "data": {
      "text/plain": [
       "Pillar\n",
       "1    4\n",
       "2    4\n",
       "3    7\n",
       "4    3\n",
       "Name: category, dtype: int64"
      ]
     },
     "execution_count": 21,
     "metadata": {},
     "output_type": "execute_result"
    }
   ],
   "source": [
    "dfb2.groupby('Pillar').category.nunique()"
   ]
  },
  {
   "cell_type": "code",
   "execution_count": 7,
   "id": "f089ba96",
   "metadata": {},
   "outputs": [
    {
     "data": {
      "application/vnd.plotly.v1+json": {
       "config": {
        "plotlyServerURL": "https://plot.ly"
       },
       "data": [
        {
         "marker": {
          "color": "steelblue"
         },
         "name": "Current",
         "orientation": "h",
         "showlegend": true,
         "type": "bar",
         "x": [
          4,
          3,
          4
         ],
         "xaxis": "x",
         "y": [
          "Has the government assessed the benefits of an insurance program?",
          "Are insurance program objectives aligned with broader policy agendas?",
          "Have specific program objectives been identified and embedded?"
         ],
         "yaxis": "y"
        },
        {
         "marker": {
          "color": "darkorange"
         },
         "name": "Aspirational",
         "orientation": "h",
         "showlegend": true,
         "type": "bar",
         "x": [
          -2,
          2,
          -2
         ],
         "xaxis": "x",
         "y": [
          "Has the government assessed the benefits of an insurance program?",
          "Are insurance program objectives aligned with broader policy agendas?",
          "Have specific program objectives been identified and embedded?"
         ],
         "yaxis": "y"
        },
        {
         "marker": {
          "color": "steelblue"
         },
         "orientation": "h",
         "showlegend": false,
         "type": "bar",
         "x": [
          2,
          4,
          4
         ],
         "xaxis": "x2",
         "y": [
          "Have you decided which parts of government will be invited/mandated to participate in the program?",
          "Is there a legislation/regulation framework for the program?",
          "Has an entity been assigned or established to manage the program? "
         ],
         "yaxis": "y2"
        },
        {
         "marker": {
          "color": "darkorange"
         },
         "orientation": "h",
         "showlegend": false,
         "type": "bar",
         "x": [
          -1,
          -3,
          -3
         ],
         "xaxis": "x2",
         "y": [
          "Have you decided which parts of government will be invited/mandated to participate in the program?",
          "Is there a legislation/regulation framework for the program?",
          "Has an entity been assigned or established to manage the program? "
         ],
         "yaxis": "y2"
        },
        {
         "marker": {
          "color": "steelblue"
         },
         "orientation": "h",
         "showlegend": false,
         "type": "bar",
         "x": [
          2
         ],
         "xaxis": "x3",
         "y": [
          "Does the program have sufficient funding arrangements?"
         ],
         "yaxis": "y3"
        },
        {
         "marker": {
          "color": "darkorange"
         },
         "orientation": "h",
         "showlegend": false,
         "type": "bar",
         "x": [
          2
         ],
         "xaxis": "x3",
         "y": [
          "Does the program have sufficient funding arrangements?"
         ],
         "yaxis": "y3"
        },
        {
         "marker": {
          "color": "steelblue"
         },
         "orientation": "h",
         "showlegend": false,
         "type": "bar",
         "x": [
          5,
          2,
          5,
          3
         ],
         "xaxis": "x4",
         "y": [
          "Does the program have documentation defining how  governance of the program will work (i.e., a governance framework)?",
          "Is the governance framework independent and accountable to stakeholders?",
          "Does the program have regular and effective reporting? ",
          "Does the program have effective assurance mechanisms? "
         ],
         "yaxis": "y4"
        },
        {
         "marker": {
          "color": "darkorange"
         },
         "orientation": "h",
         "showlegend": false,
         "type": "bar",
         "x": [
          -2,
          2,
          -1,
          -2
         ],
         "xaxis": "x4",
         "y": [
          "Does the program have documentation defining how  governance of the program will work (i.e., a governance framework)?",
          "Is the governance framework independent and accountable to stakeholders?",
          "Does the program have regular and effective reporting? ",
          "Does the program have effective assurance mechanisms? "
         ],
         "yaxis": "y4"
        }
       ],
       "layout": {
        "barmode": "stack",
        "height": 900,
        "legend": {
         "orientation": "h",
         "x": 1,
         "xanchor": "right",
         "y": 1.02,
         "yanchor": "bottom"
        },
        "margin": {
         "b": 40,
         "l": 220,
         "r": 40,
         "t": 100
        },
        "template": {
         "data": {
          "candlestick": [
           {
            "decreasing": {
             "line": {
              "color": "#000033"
             }
            },
            "increasing": {
             "line": {
              "color": "#000032"
             }
            },
            "type": "candlestick"
           }
          ],
          "contour": [
           {
            "colorscale": [
             [
              0,
              "#000011"
             ],
             [
              0.1111111111111111,
              "#000012"
             ],
             [
              0.2222222222222222,
              "#000013"
             ],
             [
              0.3333333333333333,
              "#000014"
             ],
             [
              0.4444444444444444,
              "#000015"
             ],
             [
              0.5555555555555556,
              "#000016"
             ],
             [
              0.6666666666666666,
              "#000017"
             ],
             [
              0.7777777777777778,
              "#000018"
             ],
             [
              0.8888888888888888,
              "#000019"
             ],
             [
              1,
              "#000020"
             ]
            ],
            "type": "contour"
           }
          ],
          "contourcarpet": [
           {
            "colorscale": [
             [
              0,
              "#000011"
             ],
             [
              0.1111111111111111,
              "#000012"
             ],
             [
              0.2222222222222222,
              "#000013"
             ],
             [
              0.3333333333333333,
              "#000014"
             ],
             [
              0.4444444444444444,
              "#000015"
             ],
             [
              0.5555555555555556,
              "#000016"
             ],
             [
              0.6666666666666666,
              "#000017"
             ],
             [
              0.7777777777777778,
              "#000018"
             ],
             [
              0.8888888888888888,
              "#000019"
             ],
             [
              1,
              "#000020"
             ]
            ],
            "type": "contourcarpet"
           }
          ],
          "heatmap": [
           {
            "colorscale": [
             [
              0,
              "#000011"
             ],
             [
              0.1111111111111111,
              "#000012"
             ],
             [
              0.2222222222222222,
              "#000013"
             ],
             [
              0.3333333333333333,
              "#000014"
             ],
             [
              0.4444444444444444,
              "#000015"
             ],
             [
              0.5555555555555556,
              "#000016"
             ],
             [
              0.6666666666666666,
              "#000017"
             ],
             [
              0.7777777777777778,
              "#000018"
             ],
             [
              0.8888888888888888,
              "#000019"
             ],
             [
              1,
              "#000020"
             ]
            ],
            "type": "heatmap"
           }
          ],
          "histogram2d": [
           {
            "colorscale": [
             [
              0,
              "#000011"
             ],
             [
              0.1111111111111111,
              "#000012"
             ],
             [
              0.2222222222222222,
              "#000013"
             ],
             [
              0.3333333333333333,
              "#000014"
             ],
             [
              0.4444444444444444,
              "#000015"
             ],
             [
              0.5555555555555556,
              "#000016"
             ],
             [
              0.6666666666666666,
              "#000017"
             ],
             [
              0.7777777777777778,
              "#000018"
             ],
             [
              0.8888888888888888,
              "#000019"
             ],
             [
              1,
              "#000020"
             ]
            ],
            "type": "histogram2d"
           }
          ],
          "icicle": [
           {
            "textfont": {
             "color": "white"
            },
            "type": "icicle"
           }
          ],
          "sankey": [
           {
            "textfont": {
             "color": "#000036"
            },
            "type": "sankey"
           }
          ],
          "scatter": [
           {
            "marker": {
             "line": {
              "width": 0
             }
            },
            "type": "scatter"
           }
          ],
          "table": [
           {
            "cells": {
             "fill": {
              "color": "#000038"
             },
             "font": {
              "color": "#000037"
             },
             "line": {
              "color": "#000039"
             }
            },
            "header": {
             "fill": {
              "color": "#000040"
             },
             "font": {
              "color": "#000036"
             },
             "line": {
              "color": "#000039"
             }
            },
            "type": "table"
           }
          ],
          "waterfall": [
           {
            "connector": {
             "line": {
              "color": "#000036",
              "width": 2
             }
            },
            "decreasing": {
             "marker": {
              "color": "#000033"
             }
            },
            "increasing": {
             "marker": {
              "color": "#000032"
             }
            },
            "totals": {
             "marker": {
              "color": "#000034"
             }
            },
            "type": "waterfall"
           }
          ]
         },
         "layout": {
          "coloraxis": {
           "colorscale": [
            [
             0,
             "#000011"
            ],
            [
             0.1111111111111111,
             "#000012"
            ],
            [
             0.2222222222222222,
             "#000013"
            ],
            [
             0.3333333333333333,
             "#000014"
            ],
            [
             0.4444444444444444,
             "#000015"
            ],
            [
             0.5555555555555556,
             "#000016"
            ],
            [
             0.6666666666666666,
             "#000017"
            ],
            [
             0.7777777777777778,
             "#000018"
            ],
            [
             0.8888888888888888,
             "#000019"
            ],
            [
             1,
             "#000020"
            ]
           ]
          },
          "colorscale": {
           "diverging": [
            [
             0,
             "#000021"
            ],
            [
             0.1,
             "#000022"
            ],
            [
             0.2,
             "#000023"
            ],
            [
             0.3,
             "#000024"
            ],
            [
             0.4,
             "#000025"
            ],
            [
             0.5,
             "#000026"
            ],
            [
             0.6,
             "#000027"
            ],
            [
             0.7,
             "#000028"
            ],
            [
             0.8,
             "#000029"
            ],
            [
             0.9,
             "#000030"
            ],
            [
             1,
             "#000031"
            ]
           ],
           "sequential": [
            [
             0,
             "#000011"
            ],
            [
             0.1111111111111111,
             "#000012"
            ],
            [
             0.2222222222222222,
             "#000013"
            ],
            [
             0.3333333333333333,
             "#000014"
            ],
            [
             0.4444444444444444,
             "#000015"
            ],
            [
             0.5555555555555556,
             "#000016"
            ],
            [
             0.6666666666666666,
             "#000017"
            ],
            [
             0.7777777777777778,
             "#000018"
            ],
            [
             0.8888888888888888,
             "#000019"
            ],
            [
             1,
             "#000020"
            ]
           ],
           "sequentialminus": [
            [
             0,
             "#000011"
            ],
            [
             0.1111111111111111,
             "#000012"
            ],
            [
             0.2222222222222222,
             "#000013"
            ],
            [
             0.3333333333333333,
             "#000014"
            ],
            [
             0.4444444444444444,
             "#000015"
            ],
            [
             0.5555555555555556,
             "#000016"
            ],
            [
             0.6666666666666666,
             "#000017"
            ],
            [
             0.7777777777777778,
             "#000018"
            ],
            [
             0.8888888888888888,
             "#000019"
            ],
            [
             1,
             "#000020"
            ]
           ]
          },
          "colorway": [
           "#000001",
           "#000002",
           "#000003",
           "#000004",
           "#000005",
           "#000006",
           "#000007",
           "#000008",
           "#000009",
           "#000010"
          ]
         }
        },
        "title": {
         "text": "Pillar 1: Institutional Readiness"
        },
        "xaxis": {
         "anchor": "y",
         "domain": [
          0,
          1
         ],
         "matches": "x4",
         "showticklabels": false,
         "title": {
          "text": ""
         }
        },
        "xaxis2": {
         "anchor": "y2",
         "domain": [
          0,
          1
         ],
         "matches": "x4",
         "showticklabels": false,
         "title": {
          "text": ""
         }
        },
        "xaxis3": {
         "anchor": "y3",
         "domain": [
          0,
          1
         ],
         "matches": "x4",
         "showticklabels": false,
         "title": {
          "text": ""
         }
        },
        "xaxis4": {
         "anchor": "y4",
         "domain": [
          0,
          1
         ],
         "dtick": 1,
         "range": [
          0,
          5
         ],
         "tick0": 0,
         "title": {
          "text": "Level"
         }
        },
        "yaxis": {
         "anchor": "x",
         "automargin": true,
         "categoryarray": [
          "Have specific program objectives been identified and embedded?",
          "Are insurance program objectives aligned with broader policy agendas?",
          "Has the government assessed the benefits of an insurance program?"
         ],
         "categoryorder": "array",
         "domain": [
          0.7649999999999999,
          0.9999999999999999
         ],
         "title": {
          "font": {
           "size": 14
          },
          "standoff": 40,
          "text": "Strategic Alignment"
         }
        },
        "yaxis2": {
         "anchor": "x2",
         "automargin": true,
         "categoryarray": [
          "Has an entity been assigned or established to manage the program? ",
          "Is there a legislation/regulation framework for the program?",
          "Have you decided which parts of government will be invited/mandated to participate in the program?"
         ],
         "categoryorder": "array",
         "domain": [
          0.51,
          0.745
         ],
         "title": {
          "font": {
           "size": 14
          },
          "standoff": 40,
          "text": "Policy & Legislation"
         }
        },
        "yaxis3": {
         "anchor": "x3",
         "automargin": true,
         "categoryarray": [
          "Does the program have sufficient funding arrangements?"
         ],
         "categoryorder": "array",
         "domain": [
          0.255,
          0.49
         ],
         "title": {
          "font": {
           "size": 14
          },
          "standoff": 40,
          "text": "Funding and Financial Settings"
         }
        },
        "yaxis4": {
         "anchor": "x4",
         "automargin": true,
         "categoryarray": [
          "Does the program have effective assurance mechanisms? ",
          "Does the program have regular and effective reporting? ",
          "Is the governance framework independent and accountable to stakeholders?",
          "Does the program have documentation defining how  governance of the program will work (i.e., a governance framework)?"
         ],
         "categoryorder": "array",
         "domain": [
          0,
          0.235
         ],
         "title": {
          "font": {
           "size": 14
          },
          "standoff": 40,
          "text": "Governance"
         }
        }
       }
      }
     },
     "metadata": {},
     "output_type": "display_data"
    }
   ],
   "source": [
    "pn = 1\n",
    "df = dfb2[dfb2.Pillar == pn]\n",
    "Pillar = dfp.loc[pn].tolist()[0]\n",
    "plot_output2(df, Pillar)"
   ]
  },
  {
   "cell_type": "code",
   "execution_count": 6,
   "id": "e4e26be2",
   "metadata": {},
   "outputs": [],
   "source": [
    "def plot_output2(df, Pillar):\n",
    "    cats = df.category.unique()\n",
    "    colors = {\"Current\":\"steelblue\", \"Aspirational\":\"darkorange\"}\n",
    "\n",
    "\n",
    "    # 2) Créez vos subplots\n",
    "    fig = make_subplots(\n",
    "        rows=len(cats), cols=1,\n",
    "        shared_xaxes=True,\n",
    "        vertical_spacing=0.02,\n",
    "        subplot_titles=[\"\"]*len(cats)\n",
    "    )\n",
    "\n",
    "    # 3) Tracez les barres et mettez le titre Y=cat à chaque rangée\n",
    "    for i, cat in enumerate(cats, start=1):\n",
    "        dfi = df[df.category==cat]\n",
    "        # Barres empilées\n",
    "        fig.add_trace(go.Bar(\n",
    "            x=dfi[\"Current\"], y=dfi[\"question\"],\n",
    "            orientation=\"h\", marker_color=colors[\"Current\"],\n",
    "            name=\"Current\" if i==1 else None,\n",
    "            showlegend=(i==1)\n",
    "        ), row=i, col=1)\n",
    "        fig.add_trace(go.Bar(\n",
    "            x=dfi[\"Aspirational\"], y=dfi[\"question\"],\n",
    "            orientation=\"h\", marker_color=colors[\"Aspirational\"],\n",
    "            name=\"Aspirational\" if i==1 else None,\n",
    "            showlegend=(i==1)\n",
    "        ), row=i, col=1)\n",
    "\n",
    "        # Inversion pour que la 1ʳᵉ question soit en haut\n",
    "        fig.update_yaxes(\n",
    "            categoryorder=\"array\",\n",
    "            categoryarray=dfi[\"question\"][::-1],\n",
    "            automargin=True,\n",
    "            row=i, col=1\n",
    "        )\n",
    "\n",
    "        # Le seul “titre Y” qu’on utilise : le nom de la section\n",
    "        fig.update_yaxes(\n",
    "            title_text=cat,\n",
    "            title_standoff=40,             # espace entre le texte et les labels\n",
    "            title_font=dict(size=14),\n",
    "            row=i, col=1\n",
    "        )\n",
    "\n",
    "    # 4) Layout général\n",
    "    fig.update_layout(\n",
    "        height=900,\n",
    "        barmode=\"stack\",\n",
    "        title=Pillar,\n",
    "        margin=dict(l=220, r=40, t=100, b=40),\n",
    "        legend=dict(orientation=\"h\", yanchor=\"bottom\", y=1.02, xanchor=\"right\", x=1)\n",
    "    )\n",
    "    # On ne veut “Level” que sous le dernier subplot\n",
    "    for i in range(1,5):\n",
    "        fig.update_xaxes(title_text=\"\", row=i, col=1)\n",
    "    fig.update_xaxes(\n",
    "        title_text=\"Level\", tick0=0, dtick=1, range=[0,5],\n",
    "        row=4, col=1\n",
    "    )\n",
    "\n",
    "    return fig"
   ]
  },
  {
   "cell_type": "markdown",
   "id": "a21cf64a",
   "metadata": {},
   "source": [
    "## plot"
   ]
  },
  {
   "cell_type": "code",
   "execution_count": 21,
   "id": "066547f4",
   "metadata": {},
   "outputs": [
    {
     "data": {
      "text/plain": [
       "array(['Strategic Alignment', 'Policy & Legislation',\n",
       "       'Funding and Financial Settings', 'Governance',\n",
       "       'Data Definition & Availability', 'Data Management',\n",
       "       'Risk Assessment', 'Risk Models'], dtype=object)"
      ]
     },
     "execution_count": 21,
     "metadata": {},
     "output_type": "execute_result"
    }
   ],
   "source": [
    "cats"
   ]
  },
  {
   "cell_type": "code",
   "execution_count": 22,
   "id": "6816d7f4",
   "metadata": {},
   "outputs": [
    {
     "data": {
      "text/html": [
       "<div>\n",
       "<style scoped>\n",
       "    .dataframe tbody tr th:only-of-type {\n",
       "        vertical-align: middle;\n",
       "    }\n",
       "\n",
       "    .dataframe tbody tr th {\n",
       "        vertical-align: top;\n",
       "    }\n",
       "\n",
       "    .dataframe thead th {\n",
       "        text-align: right;\n",
       "    }\n",
       "</style>\n",
       "<table border=\"1\" class=\"dataframe\">\n",
       "  <thead>\n",
       "    <tr style=\"text-align: right;\">\n",
       "      <th></th>\n",
       "      <th>category</th>\n",
       "      <th>question</th>\n",
       "      <th>Current</th>\n",
       "      <th>Aspirational</th>\n",
       "    </tr>\n",
       "    <tr>\n",
       "      <th>Q</th>\n",
       "      <th></th>\n",
       "      <th></th>\n",
       "      <th></th>\n",
       "      <th></th>\n",
       "    </tr>\n",
       "  </thead>\n",
       "  <tbody>\n",
       "    <tr>\n",
       "      <th>1</th>\n",
       "      <td>Strategic Alignment</td>\n",
       "      <td>Has the government assessed the benefits of an...</td>\n",
       "      <td>4</td>\n",
       "      <td>5</td>\n",
       "    </tr>\n",
       "    <tr>\n",
       "      <th>2</th>\n",
       "      <td>Strategic Alignment</td>\n",
       "      <td>Are insurance program objectives aligned with ...</td>\n",
       "      <td>2</td>\n",
       "      <td>3</td>\n",
       "    </tr>\n",
       "    <tr>\n",
       "      <th>3</th>\n",
       "      <td>Strategic Alignment</td>\n",
       "      <td>Have specific program objectives been identifi...</td>\n",
       "      <td>3</td>\n",
       "      <td>5</td>\n",
       "    </tr>\n",
       "    <tr>\n",
       "      <th>4</th>\n",
       "      <td>Policy &amp; Legislation</td>\n",
       "      <td>Have you decided which parts of government wil...</td>\n",
       "      <td>1</td>\n",
       "      <td>1</td>\n",
       "    </tr>\n",
       "    <tr>\n",
       "      <th>5</th>\n",
       "      <td>Policy &amp; Legislation</td>\n",
       "      <td>Is there a legislation/regulation framework fo...</td>\n",
       "      <td>2</td>\n",
       "      <td>3</td>\n",
       "    </tr>\n",
       "    <tr>\n",
       "      <th>6</th>\n",
       "      <td>Policy &amp; Legislation</td>\n",
       "      <td>Has an entity been assigned or established to ...</td>\n",
       "      <td>3</td>\n",
       "      <td>4</td>\n",
       "    </tr>\n",
       "    <tr>\n",
       "      <th>7</th>\n",
       "      <td>Funding and Financial Settings</td>\n",
       "      <td>Does the program have sufficient funding arran...</td>\n",
       "      <td>3</td>\n",
       "      <td>5</td>\n",
       "    </tr>\n",
       "    <tr>\n",
       "      <th>8</th>\n",
       "      <td>Governance</td>\n",
       "      <td>Does the program have documentation defining h...</td>\n",
       "      <td>4</td>\n",
       "      <td>1</td>\n",
       "    </tr>\n",
       "    <tr>\n",
       "      <th>9</th>\n",
       "      <td>Governance</td>\n",
       "      <td>Is the governance framework independent and ac...</td>\n",
       "      <td>5</td>\n",
       "      <td>2</td>\n",
       "    </tr>\n",
       "    <tr>\n",
       "      <th>10</th>\n",
       "      <td>Governance</td>\n",
       "      <td>Does the program have regular and effective re...</td>\n",
       "      <td>3</td>\n",
       "      <td>5</td>\n",
       "    </tr>\n",
       "    <tr>\n",
       "      <th>11</th>\n",
       "      <td>Governance</td>\n",
       "      <td>Does the program have effective assurance mech...</td>\n",
       "      <td>5</td>\n",
       "      <td>4</td>\n",
       "    </tr>\n",
       "    <tr>\n",
       "      <th>12</th>\n",
       "      <td>Data Definition &amp; Availability</td>\n",
       "      <td>Have you confirmed which assets you will colle...</td>\n",
       "      <td>5</td>\n",
       "      <td>5</td>\n",
       "    </tr>\n",
       "    <tr>\n",
       "      <th>13</th>\n",
       "      <td>Data Definition &amp; Availability</td>\n",
       "      <td>Are there standards set for the required data,...</td>\n",
       "      <td>2</td>\n",
       "      <td>4</td>\n",
       "    </tr>\n",
       "    <tr>\n",
       "      <th>14</th>\n",
       "      <td>Data Definition &amp; Availability</td>\n",
       "      <td>Is there a strategy for ensuring asset valuati...</td>\n",
       "      <td>1</td>\n",
       "      <td>5</td>\n",
       "    </tr>\n",
       "    <tr>\n",
       "      <th>15</th>\n",
       "      <td>Data Definition &amp; Availability</td>\n",
       "      <td>Do you collect information about losses/claims...</td>\n",
       "      <td>4</td>\n",
       "      <td>1</td>\n",
       "    </tr>\n",
       "    <tr>\n",
       "      <th>16</th>\n",
       "      <td>Data Management</td>\n",
       "      <td>How coordinated is the process of collecting d...</td>\n",
       "      <td>4</td>\n",
       "      <td>5</td>\n",
       "    </tr>\n",
       "    <tr>\n",
       "      <th>17</th>\n",
       "      <td>Data Management</td>\n",
       "      <td>Once data is collected, how do you pull all th...</td>\n",
       "      <td>1</td>\n",
       "      <td>1</td>\n",
       "    </tr>\n",
       "    <tr>\n",
       "      <th>18</th>\n",
       "      <td>Data Management</td>\n",
       "      <td>Is data checked for accuracy and updated regul...</td>\n",
       "      <td>2</td>\n",
       "      <td>5</td>\n",
       "    </tr>\n",
       "    <tr>\n",
       "      <th>19</th>\n",
       "      <td>Risk Assessment</td>\n",
       "      <td>Is the data analyzed to help you make decision...</td>\n",
       "      <td>3</td>\n",
       "      <td>1</td>\n",
       "    </tr>\n",
       "    <tr>\n",
       "      <th>20</th>\n",
       "      <td>Risk Models</td>\n",
       "      <td>Do you use risk models to help you understand ...</td>\n",
       "      <td>5</td>\n",
       "      <td>2</td>\n",
       "    </tr>\n",
       "  </tbody>\n",
       "</table>\n",
       "</div>"
      ],
      "text/plain": [
       "                          category  \\\n",
       "Q                                    \n",
       "1              Strategic Alignment   \n",
       "2              Strategic Alignment   \n",
       "3              Strategic Alignment   \n",
       "4             Policy & Legislation   \n",
       "5             Policy & Legislation   \n",
       "6             Policy & Legislation   \n",
       "7   Funding and Financial Settings   \n",
       "8                       Governance   \n",
       "9                       Governance   \n",
       "10                      Governance   \n",
       "11                      Governance   \n",
       "12  Data Definition & Availability   \n",
       "13  Data Definition & Availability   \n",
       "14  Data Definition & Availability   \n",
       "15  Data Definition & Availability   \n",
       "16                 Data Management   \n",
       "17                 Data Management   \n",
       "18                 Data Management   \n",
       "19                 Risk Assessment   \n",
       "20                     Risk Models   \n",
       "\n",
       "                                             question  Current  Aspirational  \n",
       "Q                                                                             \n",
       "1   Has the government assessed the benefits of an...        4             5  \n",
       "2   Are insurance program objectives aligned with ...        2             3  \n",
       "3   Have specific program objectives been identifi...        3             5  \n",
       "4   Have you decided which parts of government wil...        1             1  \n",
       "5   Is there a legislation/regulation framework fo...        2             3  \n",
       "6   Has an entity been assigned or established to ...        3             4  \n",
       "7   Does the program have sufficient funding arran...        3             5  \n",
       "8   Does the program have documentation defining h...        4             1  \n",
       "9   Is the governance framework independent and ac...        5             2  \n",
       "10  Does the program have regular and effective re...        3             5  \n",
       "11  Does the program have effective assurance mech...        5             4  \n",
       "12  Have you confirmed which assets you will colle...        5             5  \n",
       "13  Are there standards set for the required data,...        2             4  \n",
       "14  Is there a strategy for ensuring asset valuati...        1             5  \n",
       "15  Do you collect information about losses/claims...        4             1  \n",
       "16  How coordinated is the process of collecting d...        4             5  \n",
       "17  Once data is collected, how do you pull all th...        1             1  \n",
       "18  Is data checked for accuracy and updated regul...        2             5  \n",
       "19  Is the data analyzed to help you make decision...        3             1  \n",
       "20  Do you use risk models to help you understand ...        5             2  "
      ]
     },
     "execution_count": 22,
     "metadata": {},
     "output_type": "execute_result"
    }
   ],
   "source": [
    "df"
   ]
  },
  {
   "cell_type": "code",
   "execution_count": 26,
   "id": "dc899d42",
   "metadata": {},
   "outputs": [
    {
     "data": {
      "application/vnd.plotly.v1+json": {
       "config": {
        "plotlyServerURL": "https://plot.ly"
       },
       "data": [
        {
         "marker": {
          "color": "steelblue"
         },
         "name": "Current",
         "orientation": "h",
         "showlegend": true,
         "type": "bar",
         "x": [
          0,
          0,
          2
         ],
         "xaxis": "x",
         "y": [
          "Has the government assessed the benefits of an insurance program?",
          "Are insurance program objectives aligned with broader policy agendas?",
          "Have specific program objectives been identified and embedded?"
         ],
         "yaxis": "y"
        },
        {
         "marker": {
          "color": "darkorange"
         },
         "name": "Aspirational",
         "orientation": "h",
         "showlegend": true,
         "type": "bar",
         "x": [
          0,
          0,
          3
         ],
         "xaxis": "x",
         "y": [
          "Has the government assessed the benefits of an insurance program?",
          "Are insurance program objectives aligned with broader policy agendas?",
          "Have specific program objectives been identified and embedded?"
         ],
         "yaxis": "y"
        },
        {
         "marker": {
          "color": "steelblue"
         },
         "orientation": "h",
         "showlegend": false,
         "type": "bar",
         "x": [
          1,
          2,
          0
         ],
         "xaxis": "x2",
         "y": [
          "Have you decided which parts of government will be invited/mandated to participate in the program?",
          "Is there a legislation/regulation framework for the program?",
          "Has an entity been assigned or established to manage the program?"
         ],
         "yaxis": "y2"
        },
        {
         "marker": {
          "color": "darkorange"
         },
         "orientation": "h",
         "showlegend": false,
         "type": "bar",
         "x": [
          4,
          3,
          0
         ],
         "xaxis": "x2",
         "y": [
          "Have you decided which parts of government will be invited/mandated to participate in the program?",
          "Is there a legislation/regulation framework for the program?",
          "Has an entity been assigned or established to manage the program?"
         ],
         "yaxis": "y2"
        },
        {
         "marker": {
          "color": "steelblue"
         },
         "orientation": "h",
         "showlegend": false,
         "type": "bar",
         "x": [
          2,
          1
         ],
         "xaxis": "x3",
         "y": [
          "Does the program have sufficient funding arrangements?",
          "Does the program have documentation defining how governance of the program will work\n(i.e., a governance framework)?"
         ],
         "yaxis": "y3"
        },
        {
         "marker": {
          "color": "darkorange"
         },
         "orientation": "h",
         "showlegend": false,
         "type": "bar",
         "x": [
          1,
          4
         ],
         "xaxis": "x3",
         "y": [
          "Does the program have sufficient funding arrangements?",
          "Does the program have documentation defining how governance of the program will work\n(i.e., a governance framework)?"
         ],
         "yaxis": "y3"
        },
        {
         "marker": {
          "color": "steelblue"
         },
         "orientation": "h",
         "showlegend": false,
         "type": "bar",
         "x": [
          0,
          0,
          0
         ],
         "xaxis": "x4",
         "y": [
          "Is the governance framework independent and accountable to stakeholders?",
          "Does the program have regular and effective reporting?",
          "Does the program have effective assurance mechanisms?"
         ],
         "yaxis": "y4"
        },
        {
         "marker": {
          "color": "darkorange"
         },
         "orientation": "h",
         "showlegend": false,
         "type": "bar",
         "x": [
          0,
          0,
          0
         ],
         "xaxis": "x4",
         "y": [
          "Is the governance framework independent and accountable to stakeholders?",
          "Does the program have regular and effective reporting?",
          "Does the program have effective assurance mechanisms?"
         ],
         "yaxis": "y4"
        }
       ],
       "layout": {
        "barmode": "stack",
        "height": 900,
        "legend": {
         "orientation": "h",
         "x": 1,
         "xanchor": "right",
         "y": 1.02,
         "yanchor": "bottom"
        },
        "margin": {
         "b": 40,
         "l": 220,
         "r": 40,
         "t": 100
        },
        "template": {
         "data": {
          "candlestick": [
           {
            "decreasing": {
             "line": {
              "color": "#000033"
             }
            },
            "increasing": {
             "line": {
              "color": "#000032"
             }
            },
            "type": "candlestick"
           }
          ],
          "contour": [
           {
            "colorscale": [
             [
              0,
              "#000011"
             ],
             [
              0.1111111111111111,
              "#000012"
             ],
             [
              0.2222222222222222,
              "#000013"
             ],
             [
              0.3333333333333333,
              "#000014"
             ],
             [
              0.4444444444444444,
              "#000015"
             ],
             [
              0.5555555555555556,
              "#000016"
             ],
             [
              0.6666666666666666,
              "#000017"
             ],
             [
              0.7777777777777778,
              "#000018"
             ],
             [
              0.8888888888888888,
              "#000019"
             ],
             [
              1,
              "#000020"
             ]
            ],
            "type": "contour"
           }
          ],
          "contourcarpet": [
           {
            "colorscale": [
             [
              0,
              "#000011"
             ],
             [
              0.1111111111111111,
              "#000012"
             ],
             [
              0.2222222222222222,
              "#000013"
             ],
             [
              0.3333333333333333,
              "#000014"
             ],
             [
              0.4444444444444444,
              "#000015"
             ],
             [
              0.5555555555555556,
              "#000016"
             ],
             [
              0.6666666666666666,
              "#000017"
             ],
             [
              0.7777777777777778,
              "#000018"
             ],
             [
              0.8888888888888888,
              "#000019"
             ],
             [
              1,
              "#000020"
             ]
            ],
            "type": "contourcarpet"
           }
          ],
          "heatmap": [
           {
            "colorscale": [
             [
              0,
              "#000011"
             ],
             [
              0.1111111111111111,
              "#000012"
             ],
             [
              0.2222222222222222,
              "#000013"
             ],
             [
              0.3333333333333333,
              "#000014"
             ],
             [
              0.4444444444444444,
              "#000015"
             ],
             [
              0.5555555555555556,
              "#000016"
             ],
             [
              0.6666666666666666,
              "#000017"
             ],
             [
              0.7777777777777778,
              "#000018"
             ],
             [
              0.8888888888888888,
              "#000019"
             ],
             [
              1,
              "#000020"
             ]
            ],
            "type": "heatmap"
           }
          ],
          "histogram2d": [
           {
            "colorscale": [
             [
              0,
              "#000011"
             ],
             [
              0.1111111111111111,
              "#000012"
             ],
             [
              0.2222222222222222,
              "#000013"
             ],
             [
              0.3333333333333333,
              "#000014"
             ],
             [
              0.4444444444444444,
              "#000015"
             ],
             [
              0.5555555555555556,
              "#000016"
             ],
             [
              0.6666666666666666,
              "#000017"
             ],
             [
              0.7777777777777778,
              "#000018"
             ],
             [
              0.8888888888888888,
              "#000019"
             ],
             [
              1,
              "#000020"
             ]
            ],
            "type": "histogram2d"
           }
          ],
          "icicle": [
           {
            "textfont": {
             "color": "white"
            },
            "type": "icicle"
           }
          ],
          "sankey": [
           {
            "textfont": {
             "color": "#000036"
            },
            "type": "sankey"
           }
          ],
          "scatter": [
           {
            "marker": {
             "line": {
              "width": 0
             }
            },
            "type": "scatter"
           }
          ],
          "table": [
           {
            "cells": {
             "fill": {
              "color": "#000038"
             },
             "font": {
              "color": "#000037"
             },
             "line": {
              "color": "#000039"
             }
            },
            "header": {
             "fill": {
              "color": "#000040"
             },
             "font": {
              "color": "#000036"
             },
             "line": {
              "color": "#000039"
             }
            },
            "type": "table"
           }
          ],
          "waterfall": [
           {
            "connector": {
             "line": {
              "color": "#000036",
              "width": 2
             }
            },
            "decreasing": {
             "marker": {
              "color": "#000033"
             }
            },
            "increasing": {
             "marker": {
              "color": "#000032"
             }
            },
            "totals": {
             "marker": {
              "color": "#000034"
             }
            },
            "type": "waterfall"
           }
          ]
         },
         "layout": {
          "coloraxis": {
           "colorscale": [
            [
             0,
             "#000011"
            ],
            [
             0.1111111111111111,
             "#000012"
            ],
            [
             0.2222222222222222,
             "#000013"
            ],
            [
             0.3333333333333333,
             "#000014"
            ],
            [
             0.4444444444444444,
             "#000015"
            ],
            [
             0.5555555555555556,
             "#000016"
            ],
            [
             0.6666666666666666,
             "#000017"
            ],
            [
             0.7777777777777778,
             "#000018"
            ],
            [
             0.8888888888888888,
             "#000019"
            ],
            [
             1,
             "#000020"
            ]
           ]
          },
          "colorscale": {
           "diverging": [
            [
             0,
             "#000021"
            ],
            [
             0.1,
             "#000022"
            ],
            [
             0.2,
             "#000023"
            ],
            [
             0.3,
             "#000024"
            ],
            [
             0.4,
             "#000025"
            ],
            [
             0.5,
             "#000026"
            ],
            [
             0.6,
             "#000027"
            ],
            [
             0.7,
             "#000028"
            ],
            [
             0.8,
             "#000029"
            ],
            [
             0.9,
             "#000030"
            ],
            [
             1,
             "#000031"
            ]
           ],
           "sequential": [
            [
             0,
             "#000011"
            ],
            [
             0.1111111111111111,
             "#000012"
            ],
            [
             0.2222222222222222,
             "#000013"
            ],
            [
             0.3333333333333333,
             "#000014"
            ],
            [
             0.4444444444444444,
             "#000015"
            ],
            [
             0.5555555555555556,
             "#000016"
            ],
            [
             0.6666666666666666,
             "#000017"
            ],
            [
             0.7777777777777778,
             "#000018"
            ],
            [
             0.8888888888888888,
             "#000019"
            ],
            [
             1,
             "#000020"
            ]
           ],
           "sequentialminus": [
            [
             0,
             "#000011"
            ],
            [
             0.1111111111111111,
             "#000012"
            ],
            [
             0.2222222222222222,
             "#000013"
            ],
            [
             0.3333333333333333,
             "#000014"
            ],
            [
             0.4444444444444444,
             "#000015"
            ],
            [
             0.5555555555555556,
             "#000016"
            ],
            [
             0.6666666666666666,
             "#000017"
            ],
            [
             0.7777777777777778,
             "#000018"
            ],
            [
             0.8888888888888888,
             "#000019"
            ],
            [
             1,
             "#000020"
            ]
           ]
          },
          "colorway": [
           "#000001",
           "#000002",
           "#000003",
           "#000004",
           "#000005",
           "#000006",
           "#000007",
           "#000008",
           "#000009",
           "#000010"
          ]
         }
        },
        "title": {
         "text": "Pillar 1: Institutional Readiness"
        },
        "xaxis": {
         "anchor": "y",
         "domain": [
          0,
          1
         ],
         "matches": "x4",
         "showticklabels": false,
         "title": {
          "text": ""
         }
        },
        "xaxis2": {
         "anchor": "y2",
         "domain": [
          0,
          1
         ],
         "matches": "x4",
         "showticklabels": false,
         "title": {
          "text": ""
         }
        },
        "xaxis3": {
         "anchor": "y3",
         "domain": [
          0,
          1
         ],
         "matches": "x4",
         "showticklabels": false,
         "title": {
          "text": ""
         }
        },
        "xaxis4": {
         "anchor": "y4",
         "domain": [
          0,
          1
         ],
         "dtick": 1,
         "range": [
          0,
          5
         ],
         "tick0": 0,
         "title": {
          "text": "Level"
         }
        },
        "yaxis": {
         "anchor": "x",
         "automargin": true,
         "categoryarray": [
          "Have specific program objectives been identified and embedded?",
          "Are insurance program objectives aligned with broader policy agendas?",
          "Has the government assessed the benefits of an insurance program?"
         ],
         "categoryorder": "array",
         "domain": [
          0.7649999999999999,
          0.9999999999999999
         ],
         "title": {
          "font": {
           "size": 14
          },
          "standoff": 40,
          "text": "Strategic Alignment"
         }
        },
        "yaxis2": {
         "anchor": "x2",
         "automargin": true,
         "categoryarray": [
          "Has an entity been assigned or established to manage the program?",
          "Is there a legislation/regulation framework for the program?",
          "Have you decided which parts of government will be invited/mandated to participate in the program?"
         ],
         "categoryorder": "array",
         "domain": [
          0.51,
          0.745
         ],
         "title": {
          "font": {
           "size": 14
          },
          "standoff": 40,
          "text": "Policy & Legislation"
         }
        },
        "yaxis3": {
         "anchor": "x3",
         "automargin": true,
         "categoryarray": [
          "Does the program have documentation defining how governance of the program will work\n(i.e., a governance framework)?",
          "Does the program have sufficient funding arrangements?"
         ],
         "categoryorder": "array",
         "domain": [
          0.255,
          0.49
         ],
         "title": {
          "font": {
           "size": 14
          },
          "standoff": 40,
          "text": "Funding & Financial Settings"
         }
        },
        "yaxis4": {
         "anchor": "x4",
         "automargin": true,
         "categoryarray": [
          "Does the program have effective assurance mechanisms?",
          "Does the program have regular and effective reporting?",
          "Is the governance framework independent and accountable to stakeholders?"
         ],
         "categoryorder": "array",
         "domain": [
          0,
          0.235
         ],
         "title": {
          "font": {
           "size": 14
          },
          "standoff": 40,
          "text": "Governance"
         }
        }
       }
      }
     },
     "metadata": {},
     "output_type": "display_data"
    }
   ],
   "source": [
    "questions = [\n",
    "    # Strategic Alignment\n",
    "    \"Has the government assessed the benefits of an insurance program?\",\n",
    "    \"Are insurance program objectives aligned with broader policy agendas?\",\n",
    "    \"Have specific program objectives been identified and embedded?\",\n",
    "    # Policy & Legislation\n",
    "    \"Have you decided which parts of government will be invited/mandated to participate in the program?\",\n",
    "    \"Is there a legislation/regulation framework for the program?\",\n",
    "    \"Has an entity been assigned or established to manage the program?\",\n",
    "    # Funding & Financial Settings\n",
    "    \"Does the program have sufficient funding arrangements?\",\n",
    "    \"Does the program have documentation defining how governance of the program will work\\n(i.e., a governance framework)?\",\n",
    "    # Governance\n",
    "    \"Is the governance framework independent and accountable to stakeholders?\",\n",
    "    \"Does the program have regular and effective reporting?\",\n",
    "    \"Does the program have effective assurance mechanisms?\"\n",
    "]\n",
    "\n",
    "categories = [\n",
    "    \"Strategic Alignment\", \"Strategic Alignment\", \"Strategic Alignment\",\n",
    "    \"Policy & Legislation\", \"Policy & Legislation\", \"Policy & Legislation\",\n",
    "    \"Funding & Financial Settings\", \"Funding & Financial Settings\",\n",
    "    \"Governance\", \"Governance\", \"Governance\"\n",
    "]\n",
    "\n",
    "current = [0, 0, 2, 1, 2, 0, 2, 1, 0, 0, 0]\n",
    "aspirational = [0, 0, 3, 4, 3, 0, 1, 4, 0, 0, 0]  # ajustez si nécessaire\n",
    "\n",
    "\n",
    "# 1) Vos données\n",
    "df = pd.DataFrame({\n",
    "    \"question\": questions,\n",
    "    \"category\": categories,\n",
    "    \"Current\": current,\n",
    "    \"Aspirational\": aspirational\n",
    "})\n",
    "cats = [\n",
    "    \"Strategic Alignment\",\n",
    "    \"Policy & Legislation\",\n",
    "    \"Funding & Financial Settings\",\n",
    "    \"Governance\"\n",
    "]\n",
    "colors = {\"Current\":\"steelblue\", \"Aspirational\":\"darkorange\"}\n",
    "\n",
    "# df = dfb2.copy()\n",
    "# cats = dfb2.category.unique()\n",
    "\n",
    "\n",
    "# 2) Créez vos subplots\n",
    "fig = make_subplots(\n",
    "    rows=len(cats), cols=1,\n",
    "    shared_xaxes=True,\n",
    "    vertical_spacing=0.02,\n",
    "    subplot_titles=[\"\"]*len(cats)\n",
    ")\n",
    "\n",
    "# 3) Tracez les barres et mettez le titre Y=cat à chaque rangée\n",
    "for i, cat in enumerate(cats, start=1):\n",
    "    dfi = df[df.category==cat]\n",
    "    # Barres empilées\n",
    "    fig.add_trace(go.Bar(\n",
    "        x=dfi[\"Current\"], y=dfi[\"question\"],\n",
    "        orientation=\"h\", marker_color=colors[\"Current\"],\n",
    "        name=\"Current\" if i==1 else None,\n",
    "        showlegend=(i==1)\n",
    "    ), row=i, col=1)\n",
    "    fig.add_trace(go.Bar(\n",
    "        x=dfi[\"Aspirational\"], y=dfi[\"question\"],\n",
    "        orientation=\"h\", marker_color=colors[\"Aspirational\"],\n",
    "        name=\"Aspirational\" if i==1 else None,\n",
    "        showlegend=(i==1)\n",
    "    ), row=i, col=1)\n",
    "\n",
    "    # Inversion pour que la 1ʳᵉ question soit en haut\n",
    "    fig.update_yaxes(\n",
    "        categoryorder=\"array\",\n",
    "        categoryarray=dfi[\"question\"][::-1],\n",
    "        automargin=True,\n",
    "        row=i, col=1\n",
    "    )\n",
    "\n",
    "    # Le seul “titre Y” qu’on utilise : le nom de la section\n",
    "    fig.update_yaxes(\n",
    "        title_text=cat,\n",
    "        title_standoff=40,             # espace entre le texte et les labels\n",
    "        title_font=dict(size=14),\n",
    "        row=i, col=1\n",
    "    )\n",
    "\n",
    "# 4) Layout général\n",
    "fig.update_layout(\n",
    "    height=900,\n",
    "    barmode=\"stack\",\n",
    "    title=\"Pillar 1: Institutional Readiness\",\n",
    "    margin=dict(l=220, r=40, t=100, b=40),\n",
    "    legend=dict(orientation=\"h\", yanchor=\"bottom\", y=1.02, xanchor=\"right\", x=1)\n",
    ")\n",
    "# On ne veut “Level” que sous le dernier subplot\n",
    "for i in range(1,5):\n",
    "    fig.update_xaxes(title_text=\"\", row=i, col=1)\n",
    "fig.update_xaxes(\n",
    "    title_text=\"Level\", tick0=0, dtick=1, range=[0,5],\n",
    "    row=4, col=1\n",
    ")\n",
    "\n",
    "fig.show()\n"
   ]
  },
  {
   "cell_type": "code",
   "execution_count": null,
   "id": "20df71d4",
   "metadata": {},
   "outputs": [],
   "source": []
  },
  {
   "cell_type": "code",
   "execution_count": null,
   "id": "f3dec01f",
   "metadata": {},
   "outputs": [],
   "source": []
  },
  {
   "cell_type": "code",
   "execution_count": null,
   "id": "a467496c",
   "metadata": {},
   "outputs": [],
   "source": []
  },
  {
   "cell_type": "markdown",
   "id": "c1536d43",
   "metadata": {},
   "source": [
    "# test Output"
   ]
  },
  {
   "cell_type": "code",
   "execution_count": null,
   "id": "53ecd8b8",
   "metadata": {},
   "outputs": [
    {
     "data": {
      "application/vnd.plotly.v1+json": {
       "config": {
        "plotlyServerURL": "https://plot.ly"
       },
       "data": [
        {
         "marker": {
          "color": "steelblue"
         },
         "name": "Current Level",
         "orientation": "h",
         "type": "bar",
         "x": [
          0,
          0,
          2,
          1,
          2,
          0,
          2,
          1,
          0,
          0,
          0
         ],
         "y": [
          "Has the government assessed the benefits of an insurance program?",
          "Are insurance program objectives aligned with broader policy agendas?",
          "Have specific program objectives been identified and embedded?",
          "Have you decided which parts of government will be invited/mandated to participate in the program?",
          "Is there a legislation/regulation framework for the program?",
          "Has an entity been assigned or established to manage the program?",
          "Does the program have sufficient funding arrangements?",
          "Does the program have documentation defining how governance of the program will work\n(i.e., a governance framework)?",
          "Is the governance framework independent and accountable to stakeholders?",
          "Does the program have regular and effective reporting?",
          "Does the program have effective assurance mechanisms?"
         ]
        },
        {
         "marker": {
          "color": "darkorange"
         },
         "name": "Aspirational Level",
         "orientation": "h",
         "type": "bar",
         "x": [
          0,
          0,
          3,
          4,
          3,
          0,
          1,
          4,
          0,
          0,
          0
         ],
         "y": [
          "Has the government assessed the benefits of an insurance program?",
          "Are insurance program objectives aligned with broader policy agendas?",
          "Have specific program objectives been identified and embedded?",
          "Have you decided which parts of government will be invited/mandated to participate in the program?",
          "Is there a legislation/regulation framework for the program?",
          "Has an entity been assigned or established to manage the program?",
          "Does the program have sufficient funding arrangements?",
          "Does the program have documentation defining how governance of the program will work\n(i.e., a governance framework)?",
          "Is the governance framework independent and accountable to stakeholders?",
          "Does the program have regular and effective reporting?",
          "Does the program have effective assurance mechanisms?"
         ]
        }
       ],
       "layout": {
        "barmode": "stack",
        "height": 600,
        "legend": {
         "orientation": "h",
         "x": 1,
         "xanchor": "right",
         "y": 1.02,
         "yanchor": "bottom"
        },
        "margin": {
         "b": 40,
         "l": 300,
         "r": 40,
         "t": 80
        },
        "shapes": [
         {
          "fillcolor": "white",
          "layer": "below",
          "line": {
           "width": 0
          },
          "opacity": 0.1,
          "type": "rect",
          "x0": 0,
          "x1": 5,
          "y0": 8,
          "y1": 11
         },
         {
          "fillcolor": "lightgrey",
          "layer": "below",
          "line": {
           "width": 0
          },
          "opacity": 0.1,
          "type": "rect",
          "x0": 0,
          "x1": 5,
          "y0": 5,
          "y1": 8
         },
         {
          "fillcolor": "white",
          "layer": "below",
          "line": {
           "width": 0
          },
          "opacity": 0.1,
          "type": "rect",
          "x0": 0,
          "x1": 5,
          "y0": 3,
          "y1": 5
         },
         {
          "fillcolor": "lightgrey",
          "layer": "below",
          "line": {
           "width": 0
          },
          "opacity": 0.1,
          "type": "rect",
          "x0": 0,
          "x1": 5,
          "y0": 0,
          "y1": 3
         }
        ],
        "template": {
         "data": {
          "bar": [
           {
            "error_x": {
             "color": "#2a3f5f"
            },
            "error_y": {
             "color": "#2a3f5f"
            },
            "marker": {
             "line": {
              "color": "#E5ECF6",
              "width": 0.5
             },
             "pattern": {
              "fillmode": "overlay",
              "size": 10,
              "solidity": 0.2
             }
            },
            "type": "bar"
           }
          ],
          "barpolar": [
           {
            "marker": {
             "line": {
              "color": "#E5ECF6",
              "width": 0.5
             },
             "pattern": {
              "fillmode": "overlay",
              "size": 10,
              "solidity": 0.2
             }
            },
            "type": "barpolar"
           }
          ],
          "carpet": [
           {
            "aaxis": {
             "endlinecolor": "#2a3f5f",
             "gridcolor": "white",
             "linecolor": "white",
             "minorgridcolor": "white",
             "startlinecolor": "#2a3f5f"
            },
            "baxis": {
             "endlinecolor": "#2a3f5f",
             "gridcolor": "white",
             "linecolor": "white",
             "minorgridcolor": "white",
             "startlinecolor": "#2a3f5f"
            },
            "type": "carpet"
           }
          ],
          "choropleth": [
           {
            "colorbar": {
             "outlinewidth": 0,
             "ticks": ""
            },
            "type": "choropleth"
           }
          ],
          "contour": [
           {
            "colorbar": {
             "outlinewidth": 0,
             "ticks": ""
            },
            "colorscale": [
             [
              0,
              "#0d0887"
             ],
             [
              0.1111111111111111,
              "#46039f"
             ],
             [
              0.2222222222222222,
              "#7201a8"
             ],
             [
              0.3333333333333333,
              "#9c179e"
             ],
             [
              0.4444444444444444,
              "#bd3786"
             ],
             [
              0.5555555555555556,
              "#d8576b"
             ],
             [
              0.6666666666666666,
              "#ed7953"
             ],
             [
              0.7777777777777778,
              "#fb9f3a"
             ],
             [
              0.8888888888888888,
              "#fdca26"
             ],
             [
              1,
              "#f0f921"
             ]
            ],
            "type": "contour"
           }
          ],
          "contourcarpet": [
           {
            "colorbar": {
             "outlinewidth": 0,
             "ticks": ""
            },
            "type": "contourcarpet"
           }
          ],
          "heatmap": [
           {
            "colorbar": {
             "outlinewidth": 0,
             "ticks": ""
            },
            "colorscale": [
             [
              0,
              "#0d0887"
             ],
             [
              0.1111111111111111,
              "#46039f"
             ],
             [
              0.2222222222222222,
              "#7201a8"
             ],
             [
              0.3333333333333333,
              "#9c179e"
             ],
             [
              0.4444444444444444,
              "#bd3786"
             ],
             [
              0.5555555555555556,
              "#d8576b"
             ],
             [
              0.6666666666666666,
              "#ed7953"
             ],
             [
              0.7777777777777778,
              "#fb9f3a"
             ],
             [
              0.8888888888888888,
              "#fdca26"
             ],
             [
              1,
              "#f0f921"
             ]
            ],
            "type": "heatmap"
           }
          ],
          "heatmapgl": [
           {
            "colorbar": {
             "outlinewidth": 0,
             "ticks": ""
            },
            "colorscale": [
             [
              0,
              "#0d0887"
             ],
             [
              0.1111111111111111,
              "#46039f"
             ],
             [
              0.2222222222222222,
              "#7201a8"
             ],
             [
              0.3333333333333333,
              "#9c179e"
             ],
             [
              0.4444444444444444,
              "#bd3786"
             ],
             [
              0.5555555555555556,
              "#d8576b"
             ],
             [
              0.6666666666666666,
              "#ed7953"
             ],
             [
              0.7777777777777778,
              "#fb9f3a"
             ],
             [
              0.8888888888888888,
              "#fdca26"
             ],
             [
              1,
              "#f0f921"
             ]
            ],
            "type": "heatmapgl"
           }
          ],
          "histogram": [
           {
            "marker": {
             "pattern": {
              "fillmode": "overlay",
              "size": 10,
              "solidity": 0.2
             }
            },
            "type": "histogram"
           }
          ],
          "histogram2d": [
           {
            "colorbar": {
             "outlinewidth": 0,
             "ticks": ""
            },
            "colorscale": [
             [
              0,
              "#0d0887"
             ],
             [
              0.1111111111111111,
              "#46039f"
             ],
             [
              0.2222222222222222,
              "#7201a8"
             ],
             [
              0.3333333333333333,
              "#9c179e"
             ],
             [
              0.4444444444444444,
              "#bd3786"
             ],
             [
              0.5555555555555556,
              "#d8576b"
             ],
             [
              0.6666666666666666,
              "#ed7953"
             ],
             [
              0.7777777777777778,
              "#fb9f3a"
             ],
             [
              0.8888888888888888,
              "#fdca26"
             ],
             [
              1,
              "#f0f921"
             ]
            ],
            "type": "histogram2d"
           }
          ],
          "histogram2dcontour": [
           {
            "colorbar": {
             "outlinewidth": 0,
             "ticks": ""
            },
            "colorscale": [
             [
              0,
              "#0d0887"
             ],
             [
              0.1111111111111111,
              "#46039f"
             ],
             [
              0.2222222222222222,
              "#7201a8"
             ],
             [
              0.3333333333333333,
              "#9c179e"
             ],
             [
              0.4444444444444444,
              "#bd3786"
             ],
             [
              0.5555555555555556,
              "#d8576b"
             ],
             [
              0.6666666666666666,
              "#ed7953"
             ],
             [
              0.7777777777777778,
              "#fb9f3a"
             ],
             [
              0.8888888888888888,
              "#fdca26"
             ],
             [
              1,
              "#f0f921"
             ]
            ],
            "type": "histogram2dcontour"
           }
          ],
          "mesh3d": [
           {
            "colorbar": {
             "outlinewidth": 0,
             "ticks": ""
            },
            "type": "mesh3d"
           }
          ],
          "parcoords": [
           {
            "line": {
             "colorbar": {
              "outlinewidth": 0,
              "ticks": ""
             }
            },
            "type": "parcoords"
           }
          ],
          "pie": [
           {
            "automargin": true,
            "type": "pie"
           }
          ],
          "scatter": [
           {
            "fillpattern": {
             "fillmode": "overlay",
             "size": 10,
             "solidity": 0.2
            },
            "type": "scatter"
           }
          ],
          "scatter3d": [
           {
            "line": {
             "colorbar": {
              "outlinewidth": 0,
              "ticks": ""
             }
            },
            "marker": {
             "colorbar": {
              "outlinewidth": 0,
              "ticks": ""
             }
            },
            "type": "scatter3d"
           }
          ],
          "scattercarpet": [
           {
            "marker": {
             "colorbar": {
              "outlinewidth": 0,
              "ticks": ""
             }
            },
            "type": "scattercarpet"
           }
          ],
          "scattergeo": [
           {
            "marker": {
             "colorbar": {
              "outlinewidth": 0,
              "ticks": ""
             }
            },
            "type": "scattergeo"
           }
          ],
          "scattergl": [
           {
            "marker": {
             "colorbar": {
              "outlinewidth": 0,
              "ticks": ""
             }
            },
            "type": "scattergl"
           }
          ],
          "scattermapbox": [
           {
            "marker": {
             "colorbar": {
              "outlinewidth": 0,
              "ticks": ""
             }
            },
            "type": "scattermapbox"
           }
          ],
          "scatterpolar": [
           {
            "marker": {
             "colorbar": {
              "outlinewidth": 0,
              "ticks": ""
             }
            },
            "type": "scatterpolar"
           }
          ],
          "scatterpolargl": [
           {
            "marker": {
             "colorbar": {
              "outlinewidth": 0,
              "ticks": ""
             }
            },
            "type": "scatterpolargl"
           }
          ],
          "scatterternary": [
           {
            "marker": {
             "colorbar": {
              "outlinewidth": 0,
              "ticks": ""
             }
            },
            "type": "scatterternary"
           }
          ],
          "surface": [
           {
            "colorbar": {
             "outlinewidth": 0,
             "ticks": ""
            },
            "colorscale": [
             [
              0,
              "#0d0887"
             ],
             [
              0.1111111111111111,
              "#46039f"
             ],
             [
              0.2222222222222222,
              "#7201a8"
             ],
             [
              0.3333333333333333,
              "#9c179e"
             ],
             [
              0.4444444444444444,
              "#bd3786"
             ],
             [
              0.5555555555555556,
              "#d8576b"
             ],
             [
              0.6666666666666666,
              "#ed7953"
             ],
             [
              0.7777777777777778,
              "#fb9f3a"
             ],
             [
              0.8888888888888888,
              "#fdca26"
             ],
             [
              1,
              "#f0f921"
             ]
            ],
            "type": "surface"
           }
          ],
          "table": [
           {
            "cells": {
             "fill": {
              "color": "#EBF0F8"
             },
             "line": {
              "color": "white"
             }
            },
            "header": {
             "fill": {
              "color": "#C8D4E3"
             },
             "line": {
              "color": "white"
             }
            },
            "type": "table"
           }
          ]
         },
         "layout": {
          "annotationdefaults": {
           "arrowcolor": "#2a3f5f",
           "arrowhead": 0,
           "arrowwidth": 1
          },
          "autotypenumbers": "strict",
          "coloraxis": {
           "colorbar": {
            "outlinewidth": 0,
            "ticks": ""
           }
          },
          "colorscale": {
           "diverging": [
            [
             0,
             "#8e0152"
            ],
            [
             0.1,
             "#c51b7d"
            ],
            [
             0.2,
             "#de77ae"
            ],
            [
             0.3,
             "#f1b6da"
            ],
            [
             0.4,
             "#fde0ef"
            ],
            [
             0.5,
             "#f7f7f7"
            ],
            [
             0.6,
             "#e6f5d0"
            ],
            [
             0.7,
             "#b8e186"
            ],
            [
             0.8,
             "#7fbc41"
            ],
            [
             0.9,
             "#4d9221"
            ],
            [
             1,
             "#276419"
            ]
           ],
           "sequential": [
            [
             0,
             "#0d0887"
            ],
            [
             0.1111111111111111,
             "#46039f"
            ],
            [
             0.2222222222222222,
             "#7201a8"
            ],
            [
             0.3333333333333333,
             "#9c179e"
            ],
            [
             0.4444444444444444,
             "#bd3786"
            ],
            [
             0.5555555555555556,
             "#d8576b"
            ],
            [
             0.6666666666666666,
             "#ed7953"
            ],
            [
             0.7777777777777778,
             "#fb9f3a"
            ],
            [
             0.8888888888888888,
             "#fdca26"
            ],
            [
             1,
             "#f0f921"
            ]
           ],
           "sequentialminus": [
            [
             0,
             "#0d0887"
            ],
            [
             0.1111111111111111,
             "#46039f"
            ],
            [
             0.2222222222222222,
             "#7201a8"
            ],
            [
             0.3333333333333333,
             "#9c179e"
            ],
            [
             0.4444444444444444,
             "#bd3786"
            ],
            [
             0.5555555555555556,
             "#d8576b"
            ],
            [
             0.6666666666666666,
             "#ed7953"
            ],
            [
             0.7777777777777778,
             "#fb9f3a"
            ],
            [
             0.8888888888888888,
             "#fdca26"
            ],
            [
             1,
             "#f0f921"
            ]
           ]
          },
          "colorway": [
           "#636efa",
           "#EF553B",
           "#00cc96",
           "#ab63fa",
           "#FFA15A",
           "#19d3f3",
           "#FF6692",
           "#B6E880",
           "#FF97FF",
           "#FECB52"
          ],
          "font": {
           "color": "#2a3f5f"
          },
          "geo": {
           "bgcolor": "white",
           "lakecolor": "white",
           "landcolor": "#E5ECF6",
           "showlakes": true,
           "showland": true,
           "subunitcolor": "white"
          },
          "hoverlabel": {
           "align": "left"
          },
          "hovermode": "closest",
          "mapbox": {
           "style": "light"
          },
          "paper_bgcolor": "white",
          "plot_bgcolor": "#E5ECF6",
          "polar": {
           "angularaxis": {
            "gridcolor": "white",
            "linecolor": "white",
            "ticks": ""
           },
           "bgcolor": "#E5ECF6",
           "radialaxis": {
            "gridcolor": "white",
            "linecolor": "white",
            "ticks": ""
           }
          },
          "scene": {
           "xaxis": {
            "backgroundcolor": "#E5ECF6",
            "gridcolor": "white",
            "gridwidth": 2,
            "linecolor": "white",
            "showbackground": true,
            "ticks": "",
            "zerolinecolor": "white"
           },
           "yaxis": {
            "backgroundcolor": "#E5ECF6",
            "gridcolor": "white",
            "gridwidth": 2,
            "linecolor": "white",
            "showbackground": true,
            "ticks": "",
            "zerolinecolor": "white"
           },
           "zaxis": {
            "backgroundcolor": "#E5ECF6",
            "gridcolor": "white",
            "gridwidth": 2,
            "linecolor": "white",
            "showbackground": true,
            "ticks": "",
            "zerolinecolor": "white"
           }
          },
          "shapedefaults": {
           "line": {
            "color": "#2a3f5f"
           }
          },
          "ternary": {
           "aaxis": {
            "gridcolor": "white",
            "linecolor": "white",
            "ticks": ""
           },
           "baxis": {
            "gridcolor": "white",
            "linecolor": "white",
            "ticks": ""
           },
           "bgcolor": "#E5ECF6",
           "caxis": {
            "gridcolor": "white",
            "linecolor": "white",
            "ticks": ""
           }
          },
          "title": {
           "x": 0.05
          },
          "xaxis": {
           "automargin": true,
           "gridcolor": "white",
           "linecolor": "white",
           "ticks": "",
           "title": {
            "standoff": 15
           },
           "zerolinecolor": "white",
           "zerolinewidth": 2
          },
          "yaxis": {
           "automargin": true,
           "gridcolor": "white",
           "linecolor": "white",
           "ticks": "",
           "title": {
            "standoff": 15
           },
           "zerolinecolor": "white",
           "zerolinewidth": 2
          }
         }
        },
        "title": {
         "text": "Pillar 1: Institutional Readiness"
        },
        "xaxis": {
         "dtick": 1,
         "range": [
          0,
          5
         ],
         "tick0": 0,
         "title": {
          "text": "Level"
         }
        },
        "yaxis": {
         "automargin": true,
         "categoryarray": [
          "Does the program have effective assurance mechanisms?",
          "Does the program have regular and effective reporting?",
          "Is the governance framework independent and accountable to stakeholders?",
          "Does the program have documentation defining how governance of the program will work\n(i.e., a governance framework)?",
          "Does the program have sufficient funding arrangements?",
          "Has an entity been assigned or established to manage the program?",
          "Is there a legislation/regulation framework for the program?",
          "Have you decided which parts of government will be invited/mandated to participate in the program?",
          "Have specific program objectives been identified and embedded?",
          "Are insurance program objectives aligned with broader policy agendas?",
          "Has the government assessed the benefits of an insurance program?"
         ],
         "categoryorder": "array",
         "tickfont": {
          "size": 12
         },
         "title": {
          "text": ""
         }
        }
       }
      }
     },
     "metadata": {},
     "output_type": "display_data"
    }
   ],
   "source": [
    "import plotly.graph_objects as go\n",
    "\n",
    "# Données\n",
    "questions = [\n",
    "    # Strategic Alignment\n",
    "    \"Has the government assessed the benefits of an insurance program?\",\n",
    "    \"Are insurance program objectives aligned with broader policy agendas?\",\n",
    "    \"Have specific program objectives been identified and embedded?\",\n",
    "    # Policy & Legislation\n",
    "    \"Have you decided which parts of government will be invited/mandated to participate in the program?\",\n",
    "    \"Is there a legislation/regulation framework for the program?\",\n",
    "    \"Has an entity been assigned or established to manage the program?\",\n",
    "    # Funding & Financial Settings\n",
    "    \"Does the program have sufficient funding arrangements?\",\n",
    "    \"Does the program have documentation defining how governance of the program will work\\n(i.e., a governance framework)?\",\n",
    "    # Governance\n",
    "    \"Is the governance framework independent and accountable to stakeholders?\",\n",
    "    \"Does the program have regular and effective reporting?\",\n",
    "    \"Does the program have effective assurance mechanisms?\"\n",
    "]\n",
    "\n",
    "categories = [\n",
    "    \"Strategic Alignment\", \"Strategic Alignment\", \"Strategic Alignment\",\n",
    "    \"Policy & Legislation\", \"Policy & Legislation\", \"Policy & Legislation\",\n",
    "    \"Funding & Financial Settings\", \"Funding & Financial Settings\",\n",
    "    \"Governance\", \"Governance\", \"Governance\"\n",
    "]\n",
    "\n",
    "current = [0, 0, 2, 1, 2, 0, 2, 1, 0, 0, 0]\n",
    "aspirational = [0, 0, 3, 4, 3, 0, 1, 4, 0, 0, 0]  # ajustez si nécessaire\n",
    "\n",
    "# Création de la figure\n",
    "fig = go.Figure()\n",
    "\n",
    "fig.add_trace(go.Bar(\n",
    "    y=questions,\n",
    "    x=current,\n",
    "    orientation='h',\n",
    "    name='Current Level',\n",
    "    marker_color='steelblue'\n",
    "))\n",
    "fig.add_trace(go.Bar(\n",
    "    y=questions,\n",
    "    x=aspirational,\n",
    "    orientation='h',\n",
    "    name='Aspirational Level',\n",
    "    marker_color='darkorange'\n",
    "))\n",
    "\n",
    "# Layout\n",
    "fig.update_layout(\n",
    "    barmode='stack',\n",
    "    title=\"Pillar 1: Institutional Readiness\",\n",
    "    xaxis=dict(title='Level', tick0=0, dtick=1, range=[0, 5]),\n",
    "    yaxis=dict(\n",
    "        title='', \n",
    "        automargin=True,\n",
    "        tickfont=dict(size=12),\n",
    "        # Pour forcer l'ordre tel que listé\n",
    "        categoryorder='array',\n",
    "        categoryarray=questions[::-1]\n",
    "    ),\n",
    "    legend=dict(orientation='h', yanchor='bottom', y=1.02, xanchor='right', x=1),\n",
    "    margin=dict(l=300, r=40, t=80, b=40),\n",
    "    height=600\n",
    ")\n",
    "\n",
    "# Pour afficher un fond léger par catégorie, on peut ajouter des shapes :\n",
    "y_locs = list(range(len(questions)))\n",
    "for idx, cat in enumerate(categories):\n",
    "    if idx == 0 or categories[idx] != categories[idx-1]:\n",
    "        # début d'un nouveau groupe : dessiner un rectangle sous-jacent\n",
    "        start = idx\n",
    "        # trouver la fin du groupe\n",
    "        end = idx + categories[idx:].count(categories[idx])\n",
    "        fig.add_shape(\n",
    "            type=\"rect\",\n",
    "            x0=0, x1=5,\n",
    "            y0=len(questions)-end, y1=len(questions)-start,\n",
    "            fillcolor=\"lightgrey\" if cat in [\"Policy & Legislation\",\"Governance\"] else \"white\",\n",
    "            opacity=0.1,\n",
    "            layer=\"below\",\n",
    "            line_width=0,\n",
    "        )\n",
    "\n",
    "fig.show()\n"
   ]
  },
  {
   "cell_type": "code",
   "execution_count": 23,
   "id": "01fa3a65",
   "metadata": {},
   "outputs": [
    {
     "data": {
      "text/html": [
       "<div>\n",
       "<style scoped>\n",
       "    .dataframe tbody tr th:only-of-type {\n",
       "        vertical-align: middle;\n",
       "    }\n",
       "\n",
       "    .dataframe tbody tr th {\n",
       "        vertical-align: top;\n",
       "    }\n",
       "\n",
       "    .dataframe thead th {\n",
       "        text-align: right;\n",
       "    }\n",
       "</style>\n",
       "<table border=\"1\" class=\"dataframe\">\n",
       "  <thead>\n",
       "    <tr style=\"text-align: right;\">\n",
       "      <th></th>\n",
       "      <th>question</th>\n",
       "      <th>category</th>\n",
       "      <th>LevelType</th>\n",
       "      <th>Value</th>\n",
       "    </tr>\n",
       "  </thead>\n",
       "  <tbody>\n",
       "    <tr>\n",
       "      <th>0</th>\n",
       "      <td>Has the government assessed the benefits of an...</td>\n",
       "      <td>Strategic Alignment</td>\n",
       "      <td>Current</td>\n",
       "      <td>0</td>\n",
       "    </tr>\n",
       "    <tr>\n",
       "      <th>1</th>\n",
       "      <td>Are insurance program objectives aligned with ...</td>\n",
       "      <td>Strategic Alignment</td>\n",
       "      <td>Current</td>\n",
       "      <td>0</td>\n",
       "    </tr>\n",
       "    <tr>\n",
       "      <th>2</th>\n",
       "      <td>Have specific program objectives been identifi...</td>\n",
       "      <td>Strategic Alignment</td>\n",
       "      <td>Current</td>\n",
       "      <td>2</td>\n",
       "    </tr>\n",
       "    <tr>\n",
       "      <th>3</th>\n",
       "      <td>Have you decided which parts of government wil...</td>\n",
       "      <td>Policy &amp; Legislation</td>\n",
       "      <td>Current</td>\n",
       "      <td>1</td>\n",
       "    </tr>\n",
       "    <tr>\n",
       "      <th>4</th>\n",
       "      <td>Is there a legislation/regulation framework fo...</td>\n",
       "      <td>Policy &amp; Legislation</td>\n",
       "      <td>Current</td>\n",
       "      <td>2</td>\n",
       "    </tr>\n",
       "    <tr>\n",
       "      <th>5</th>\n",
       "      <td>Has an entity been assigned or established to ...</td>\n",
       "      <td>Policy &amp; Legislation</td>\n",
       "      <td>Current</td>\n",
       "      <td>0</td>\n",
       "    </tr>\n",
       "    <tr>\n",
       "      <th>6</th>\n",
       "      <td>Does the program have sufficient funding arran...</td>\n",
       "      <td>Funding &amp; Financial Settings</td>\n",
       "      <td>Current</td>\n",
       "      <td>2</td>\n",
       "    </tr>\n",
       "    <tr>\n",
       "      <th>7</th>\n",
       "      <td>Does the program have documentation defining h...</td>\n",
       "      <td>Funding &amp; Financial Settings</td>\n",
       "      <td>Current</td>\n",
       "      <td>1</td>\n",
       "    </tr>\n",
       "    <tr>\n",
       "      <th>8</th>\n",
       "      <td>Is the governance framework independent and ac...</td>\n",
       "      <td>Governance</td>\n",
       "      <td>Current</td>\n",
       "      <td>0</td>\n",
       "    </tr>\n",
       "    <tr>\n",
       "      <th>9</th>\n",
       "      <td>Does the program have regular and effective re...</td>\n",
       "      <td>Governance</td>\n",
       "      <td>Current</td>\n",
       "      <td>0</td>\n",
       "    </tr>\n",
       "    <tr>\n",
       "      <th>10</th>\n",
       "      <td>Does the program have effective assurance mech...</td>\n",
       "      <td>Governance</td>\n",
       "      <td>Current</td>\n",
       "      <td>0</td>\n",
       "    </tr>\n",
       "    <tr>\n",
       "      <th>11</th>\n",
       "      <td>Has the government assessed the benefits of an...</td>\n",
       "      <td>Strategic Alignment</td>\n",
       "      <td>Aspirational</td>\n",
       "      <td>0</td>\n",
       "    </tr>\n",
       "    <tr>\n",
       "      <th>12</th>\n",
       "      <td>Are insurance program objectives aligned with ...</td>\n",
       "      <td>Strategic Alignment</td>\n",
       "      <td>Aspirational</td>\n",
       "      <td>0</td>\n",
       "    </tr>\n",
       "    <tr>\n",
       "      <th>13</th>\n",
       "      <td>Have specific program objectives been identifi...</td>\n",
       "      <td>Strategic Alignment</td>\n",
       "      <td>Aspirational</td>\n",
       "      <td>3</td>\n",
       "    </tr>\n",
       "    <tr>\n",
       "      <th>14</th>\n",
       "      <td>Have you decided which parts of government wil...</td>\n",
       "      <td>Policy &amp; Legislation</td>\n",
       "      <td>Aspirational</td>\n",
       "      <td>4</td>\n",
       "    </tr>\n",
       "    <tr>\n",
       "      <th>15</th>\n",
       "      <td>Is there a legislation/regulation framework fo...</td>\n",
       "      <td>Policy &amp; Legislation</td>\n",
       "      <td>Aspirational</td>\n",
       "      <td>3</td>\n",
       "    </tr>\n",
       "    <tr>\n",
       "      <th>16</th>\n",
       "      <td>Has an entity been assigned or established to ...</td>\n",
       "      <td>Policy &amp; Legislation</td>\n",
       "      <td>Aspirational</td>\n",
       "      <td>0</td>\n",
       "    </tr>\n",
       "    <tr>\n",
       "      <th>17</th>\n",
       "      <td>Does the program have sufficient funding arran...</td>\n",
       "      <td>Funding &amp; Financial Settings</td>\n",
       "      <td>Aspirational</td>\n",
       "      <td>1</td>\n",
       "    </tr>\n",
       "    <tr>\n",
       "      <th>18</th>\n",
       "      <td>Does the program have documentation defining h...</td>\n",
       "      <td>Funding &amp; Financial Settings</td>\n",
       "      <td>Aspirational</td>\n",
       "      <td>4</td>\n",
       "    </tr>\n",
       "    <tr>\n",
       "      <th>19</th>\n",
       "      <td>Is the governance framework independent and ac...</td>\n",
       "      <td>Governance</td>\n",
       "      <td>Aspirational</td>\n",
       "      <td>0</td>\n",
       "    </tr>\n",
       "    <tr>\n",
       "      <th>20</th>\n",
       "      <td>Does the program have regular and effective re...</td>\n",
       "      <td>Governance</td>\n",
       "      <td>Aspirational</td>\n",
       "      <td>0</td>\n",
       "    </tr>\n",
       "    <tr>\n",
       "      <th>21</th>\n",
       "      <td>Does the program have effective assurance mech...</td>\n",
       "      <td>Governance</td>\n",
       "      <td>Aspirational</td>\n",
       "      <td>0</td>\n",
       "    </tr>\n",
       "  </tbody>\n",
       "</table>\n",
       "</div>"
      ],
      "text/plain": [
       "                                             question  \\\n",
       "0   Has the government assessed the benefits of an...   \n",
       "1   Are insurance program objectives aligned with ...   \n",
       "2   Have specific program objectives been identifi...   \n",
       "3   Have you decided which parts of government wil...   \n",
       "4   Is there a legislation/regulation framework fo...   \n",
       "5   Has an entity been assigned or established to ...   \n",
       "6   Does the program have sufficient funding arran...   \n",
       "7   Does the program have documentation defining h...   \n",
       "8   Is the governance framework independent and ac...   \n",
       "9   Does the program have regular and effective re...   \n",
       "10  Does the program have effective assurance mech...   \n",
       "11  Has the government assessed the benefits of an...   \n",
       "12  Are insurance program objectives aligned with ...   \n",
       "13  Have specific program objectives been identifi...   \n",
       "14  Have you decided which parts of government wil...   \n",
       "15  Is there a legislation/regulation framework fo...   \n",
       "16  Has an entity been assigned or established to ...   \n",
       "17  Does the program have sufficient funding arran...   \n",
       "18  Does the program have documentation defining h...   \n",
       "19  Is the governance framework independent and ac...   \n",
       "20  Does the program have regular and effective re...   \n",
       "21  Does the program have effective assurance mech...   \n",
       "\n",
       "                        category     LevelType  Value  \n",
       "0            Strategic Alignment       Current      0  \n",
       "1            Strategic Alignment       Current      0  \n",
       "2            Strategic Alignment       Current      2  \n",
       "3           Policy & Legislation       Current      1  \n",
       "4           Policy & Legislation       Current      2  \n",
       "5           Policy & Legislation       Current      0  \n",
       "6   Funding & Financial Settings       Current      2  \n",
       "7   Funding & Financial Settings       Current      1  \n",
       "8                     Governance       Current      0  \n",
       "9                     Governance       Current      0  \n",
       "10                    Governance       Current      0  \n",
       "11           Strategic Alignment  Aspirational      0  \n",
       "12           Strategic Alignment  Aspirational      0  \n",
       "13           Strategic Alignment  Aspirational      3  \n",
       "14          Policy & Legislation  Aspirational      4  \n",
       "15          Policy & Legislation  Aspirational      3  \n",
       "16          Policy & Legislation  Aspirational      0  \n",
       "17  Funding & Financial Settings  Aspirational      1  \n",
       "18  Funding & Financial Settings  Aspirational      4  \n",
       "19                    Governance  Aspirational      0  \n",
       "20                    Governance  Aspirational      0  \n",
       "21                    Governance  Aspirational      0  "
      ]
     },
     "execution_count": 23,
     "metadata": {},
     "output_type": "execute_result"
    }
   ],
   "source": [
    "df"
   ]
  },
  {
   "cell_type": "code",
   "execution_count": 22,
   "id": "aef1ab3e",
   "metadata": {},
   "outputs": [
    {
     "data": {
      "application/vnd.plotly.v1+json": {
       "config": {
        "plotlyServerURL": "https://plot.ly"
       },
       "data": [
        {
         "alignmentgroup": "True",
         "hovertemplate": "LevelType=Current<br>category=Strategic Alignment<br>Value=%{x}<br>question=%{y}<extra></extra>",
         "legendgroup": "Current",
         "marker": {
          "color": "steelblue",
          "pattern": {
           "shape": ""
          }
         },
         "name": "Current",
         "offsetgroup": "Current",
         "orientation": "h",
         "showlegend": true,
         "textposition": "auto",
         "type": "bar",
         "x": [
          0,
          0,
          2
         ],
         "xaxis": "x4",
         "y": [
          "Has the government assessed the benefits of an insurance program?",
          "Are insurance program objectives aligned with broader policy agendas?",
          "Have specific program objectives been identified and embedded?"
         ],
         "yaxis": "y4"
        },
        {
         "alignmentgroup": "True",
         "hovertemplate": "LevelType=Current<br>category=Policy & Legislation<br>Value=%{x}<br>question=%{y}<extra></extra>",
         "legendgroup": "Current",
         "marker": {
          "color": "steelblue",
          "pattern": {
           "shape": ""
          }
         },
         "name": "Current",
         "offsetgroup": "Current",
         "orientation": "h",
         "showlegend": false,
         "textposition": "auto",
         "type": "bar",
         "x": [
          1,
          2,
          0
         ],
         "xaxis": "x3",
         "y": [
          "Have you decided which parts of government will be invited/mandated to participate in the program?",
          "Is there a legislation/regulation framework for the program?",
          "Has an entity been assigned or established to manage the program?"
         ],
         "yaxis": "y3"
        },
        {
         "alignmentgroup": "True",
         "hovertemplate": "LevelType=Current<br>category=Funding & Financial Settings<br>Value=%{x}<br>question=%{y}<extra></extra>",
         "legendgroup": "Current",
         "marker": {
          "color": "steelblue",
          "pattern": {
           "shape": ""
          }
         },
         "name": "Current",
         "offsetgroup": "Current",
         "orientation": "h",
         "showlegend": false,
         "textposition": "auto",
         "type": "bar",
         "x": [
          2,
          1
         ],
         "xaxis": "x2",
         "y": [
          "Does the program have sufficient funding arrangements?",
          "Does the program have documentation defining how governance of the program will work\n(i.e., a governance framework)?"
         ],
         "yaxis": "y2"
        },
        {
         "alignmentgroup": "True",
         "hovertemplate": "LevelType=Current<br>category=Governance<br>Value=%{x}<br>question=%{y}<extra></extra>",
         "legendgroup": "Current",
         "marker": {
          "color": "steelblue",
          "pattern": {
           "shape": ""
          }
         },
         "name": "Current",
         "offsetgroup": "Current",
         "orientation": "h",
         "showlegend": false,
         "textposition": "auto",
         "type": "bar",
         "x": [
          0,
          0,
          0
         ],
         "xaxis": "x",
         "y": [
          "Is the governance framework independent and accountable to stakeholders?",
          "Does the program have regular and effective reporting?",
          "Does the program have effective assurance mechanisms?"
         ],
         "yaxis": "y"
        },
        {
         "alignmentgroup": "True",
         "hovertemplate": "LevelType=Aspirational<br>category=Strategic Alignment<br>Value=%{x}<br>question=%{y}<extra></extra>",
         "legendgroup": "Aspirational",
         "marker": {
          "color": "darkorange",
          "pattern": {
           "shape": ""
          }
         },
         "name": "Aspirational",
         "offsetgroup": "Aspirational",
         "orientation": "h",
         "showlegend": true,
         "textposition": "auto",
         "type": "bar",
         "x": [
          0,
          0,
          3
         ],
         "xaxis": "x4",
         "y": [
          "Has the government assessed the benefits of an insurance program?",
          "Are insurance program objectives aligned with broader policy agendas?",
          "Have specific program objectives been identified and embedded?"
         ],
         "yaxis": "y4"
        },
        {
         "alignmentgroup": "True",
         "hovertemplate": "LevelType=Aspirational<br>category=Policy & Legislation<br>Value=%{x}<br>question=%{y}<extra></extra>",
         "legendgroup": "Aspirational",
         "marker": {
          "color": "darkorange",
          "pattern": {
           "shape": ""
          }
         },
         "name": "Aspirational",
         "offsetgroup": "Aspirational",
         "orientation": "h",
         "showlegend": false,
         "textposition": "auto",
         "type": "bar",
         "x": [
          4,
          3,
          0
         ],
         "xaxis": "x3",
         "y": [
          "Have you decided which parts of government will be invited/mandated to participate in the program?",
          "Is there a legislation/regulation framework for the program?",
          "Has an entity been assigned or established to manage the program?"
         ],
         "yaxis": "y3"
        },
        {
         "alignmentgroup": "True",
         "hovertemplate": "LevelType=Aspirational<br>category=Funding & Financial Settings<br>Value=%{x}<br>question=%{y}<extra></extra>",
         "legendgroup": "Aspirational",
         "marker": {
          "color": "darkorange",
          "pattern": {
           "shape": ""
          }
         },
         "name": "Aspirational",
         "offsetgroup": "Aspirational",
         "orientation": "h",
         "showlegend": false,
         "textposition": "auto",
         "type": "bar",
         "x": [
          1,
          4
         ],
         "xaxis": "x2",
         "y": [
          "Does the program have sufficient funding arrangements?",
          "Does the program have documentation defining how governance of the program will work\n(i.e., a governance framework)?"
         ],
         "yaxis": "y2"
        },
        {
         "alignmentgroup": "True",
         "hovertemplate": "LevelType=Aspirational<br>category=Governance<br>Value=%{x}<br>question=%{y}<extra></extra>",
         "legendgroup": "Aspirational",
         "marker": {
          "color": "darkorange",
          "pattern": {
           "shape": ""
          }
         },
         "name": "Aspirational",
         "offsetgroup": "Aspirational",
         "orientation": "h",
         "showlegend": false,
         "textposition": "auto",
         "type": "bar",
         "x": [
          0,
          0,
          0
         ],
         "xaxis": "x",
         "y": [
          "Is the governance framework independent and accountable to stakeholders?",
          "Does the program have regular and effective reporting?",
          "Does the program have effective assurance mechanisms?"
         ],
         "yaxis": "y"
        }
       ],
       "layout": {
        "annotations": [
         {
          "font": {},
          "showarrow": false,
          "text": "GOVERNANCE",
          "textangle": 90,
          "x": 0.98,
          "xanchor": "left",
          "xref": "paper",
          "y": 0.11375,
          "yanchor": "middle",
          "yref": "paper"
         },
         {
          "font": {},
          "showarrow": false,
          "text": "FUNDING & FINANCIAL SETTINGS",
          "textangle": 90,
          "x": 0.98,
          "xanchor": "left",
          "xref": "paper",
          "y": 0.37124999999999997,
          "yanchor": "middle",
          "yref": "paper"
         },
         {
          "font": {},
          "showarrow": false,
          "text": "POLICY & LEGISLATION",
          "textangle": 90,
          "x": 0.98,
          "xanchor": "left",
          "xref": "paper",
          "y": 0.62875,
          "yanchor": "middle",
          "yref": "paper"
         },
         {
          "font": {},
          "showarrow": false,
          "text": "STRATEGIC ALIGNMENT",
          "textangle": 90,
          "x": 0.98,
          "xanchor": "left",
          "xref": "paper",
          "y": 0.88625,
          "yanchor": "middle",
          "yref": "paper"
         }
        ],
        "barmode": "stack",
        "height": 900,
        "legend": {
         "title": {
          "text": "LevelType"
         },
         "tracegroupgap": 0
        },
        "margin": {
         "b": 40,
         "l": 200,
         "r": 40,
         "t": 80
        },
        "template": {
         "data": {
          "bar": [
           {
            "error_x": {
             "color": "#2a3f5f"
            },
            "error_y": {
             "color": "#2a3f5f"
            },
            "marker": {
             "line": {
              "color": "#E5ECF6",
              "width": 0.5
             },
             "pattern": {
              "fillmode": "overlay",
              "size": 10,
              "solidity": 0.2
             }
            },
            "type": "bar"
           }
          ],
          "barpolar": [
           {
            "marker": {
             "line": {
              "color": "#E5ECF6",
              "width": 0.5
             },
             "pattern": {
              "fillmode": "overlay",
              "size": 10,
              "solidity": 0.2
             }
            },
            "type": "barpolar"
           }
          ],
          "carpet": [
           {
            "aaxis": {
             "endlinecolor": "#2a3f5f",
             "gridcolor": "white",
             "linecolor": "white",
             "minorgridcolor": "white",
             "startlinecolor": "#2a3f5f"
            },
            "baxis": {
             "endlinecolor": "#2a3f5f",
             "gridcolor": "white",
             "linecolor": "white",
             "minorgridcolor": "white",
             "startlinecolor": "#2a3f5f"
            },
            "type": "carpet"
           }
          ],
          "choropleth": [
           {
            "colorbar": {
             "outlinewidth": 0,
             "ticks": ""
            },
            "type": "choropleth"
           }
          ],
          "contour": [
           {
            "colorbar": {
             "outlinewidth": 0,
             "ticks": ""
            },
            "colorscale": [
             [
              0,
              "#0d0887"
             ],
             [
              0.1111111111111111,
              "#46039f"
             ],
             [
              0.2222222222222222,
              "#7201a8"
             ],
             [
              0.3333333333333333,
              "#9c179e"
             ],
             [
              0.4444444444444444,
              "#bd3786"
             ],
             [
              0.5555555555555556,
              "#d8576b"
             ],
             [
              0.6666666666666666,
              "#ed7953"
             ],
             [
              0.7777777777777778,
              "#fb9f3a"
             ],
             [
              0.8888888888888888,
              "#fdca26"
             ],
             [
              1,
              "#f0f921"
             ]
            ],
            "type": "contour"
           }
          ],
          "contourcarpet": [
           {
            "colorbar": {
             "outlinewidth": 0,
             "ticks": ""
            },
            "type": "contourcarpet"
           }
          ],
          "heatmap": [
           {
            "colorbar": {
             "outlinewidth": 0,
             "ticks": ""
            },
            "colorscale": [
             [
              0,
              "#0d0887"
             ],
             [
              0.1111111111111111,
              "#46039f"
             ],
             [
              0.2222222222222222,
              "#7201a8"
             ],
             [
              0.3333333333333333,
              "#9c179e"
             ],
             [
              0.4444444444444444,
              "#bd3786"
             ],
             [
              0.5555555555555556,
              "#d8576b"
             ],
             [
              0.6666666666666666,
              "#ed7953"
             ],
             [
              0.7777777777777778,
              "#fb9f3a"
             ],
             [
              0.8888888888888888,
              "#fdca26"
             ],
             [
              1,
              "#f0f921"
             ]
            ],
            "type": "heatmap"
           }
          ],
          "heatmapgl": [
           {
            "colorbar": {
             "outlinewidth": 0,
             "ticks": ""
            },
            "colorscale": [
             [
              0,
              "#0d0887"
             ],
             [
              0.1111111111111111,
              "#46039f"
             ],
             [
              0.2222222222222222,
              "#7201a8"
             ],
             [
              0.3333333333333333,
              "#9c179e"
             ],
             [
              0.4444444444444444,
              "#bd3786"
             ],
             [
              0.5555555555555556,
              "#d8576b"
             ],
             [
              0.6666666666666666,
              "#ed7953"
             ],
             [
              0.7777777777777778,
              "#fb9f3a"
             ],
             [
              0.8888888888888888,
              "#fdca26"
             ],
             [
              1,
              "#f0f921"
             ]
            ],
            "type": "heatmapgl"
           }
          ],
          "histogram": [
           {
            "marker": {
             "pattern": {
              "fillmode": "overlay",
              "size": 10,
              "solidity": 0.2
             }
            },
            "type": "histogram"
           }
          ],
          "histogram2d": [
           {
            "colorbar": {
             "outlinewidth": 0,
             "ticks": ""
            },
            "colorscale": [
             [
              0,
              "#0d0887"
             ],
             [
              0.1111111111111111,
              "#46039f"
             ],
             [
              0.2222222222222222,
              "#7201a8"
             ],
             [
              0.3333333333333333,
              "#9c179e"
             ],
             [
              0.4444444444444444,
              "#bd3786"
             ],
             [
              0.5555555555555556,
              "#d8576b"
             ],
             [
              0.6666666666666666,
              "#ed7953"
             ],
             [
              0.7777777777777778,
              "#fb9f3a"
             ],
             [
              0.8888888888888888,
              "#fdca26"
             ],
             [
              1,
              "#f0f921"
             ]
            ],
            "type": "histogram2d"
           }
          ],
          "histogram2dcontour": [
           {
            "colorbar": {
             "outlinewidth": 0,
             "ticks": ""
            },
            "colorscale": [
             [
              0,
              "#0d0887"
             ],
             [
              0.1111111111111111,
              "#46039f"
             ],
             [
              0.2222222222222222,
              "#7201a8"
             ],
             [
              0.3333333333333333,
              "#9c179e"
             ],
             [
              0.4444444444444444,
              "#bd3786"
             ],
             [
              0.5555555555555556,
              "#d8576b"
             ],
             [
              0.6666666666666666,
              "#ed7953"
             ],
             [
              0.7777777777777778,
              "#fb9f3a"
             ],
             [
              0.8888888888888888,
              "#fdca26"
             ],
             [
              1,
              "#f0f921"
             ]
            ],
            "type": "histogram2dcontour"
           }
          ],
          "mesh3d": [
           {
            "colorbar": {
             "outlinewidth": 0,
             "ticks": ""
            },
            "type": "mesh3d"
           }
          ],
          "parcoords": [
           {
            "line": {
             "colorbar": {
              "outlinewidth": 0,
              "ticks": ""
             }
            },
            "type": "parcoords"
           }
          ],
          "pie": [
           {
            "automargin": true,
            "type": "pie"
           }
          ],
          "scatter": [
           {
            "fillpattern": {
             "fillmode": "overlay",
             "size": 10,
             "solidity": 0.2
            },
            "type": "scatter"
           }
          ],
          "scatter3d": [
           {
            "line": {
             "colorbar": {
              "outlinewidth": 0,
              "ticks": ""
             }
            },
            "marker": {
             "colorbar": {
              "outlinewidth": 0,
              "ticks": ""
             }
            },
            "type": "scatter3d"
           }
          ],
          "scattercarpet": [
           {
            "marker": {
             "colorbar": {
              "outlinewidth": 0,
              "ticks": ""
             }
            },
            "type": "scattercarpet"
           }
          ],
          "scattergeo": [
           {
            "marker": {
             "colorbar": {
              "outlinewidth": 0,
              "ticks": ""
             }
            },
            "type": "scattergeo"
           }
          ],
          "scattergl": [
           {
            "marker": {
             "colorbar": {
              "outlinewidth": 0,
              "ticks": ""
             }
            },
            "type": "scattergl"
           }
          ],
          "scattermapbox": [
           {
            "marker": {
             "colorbar": {
              "outlinewidth": 0,
              "ticks": ""
             }
            },
            "type": "scattermapbox"
           }
          ],
          "scatterpolar": [
           {
            "marker": {
             "colorbar": {
              "outlinewidth": 0,
              "ticks": ""
             }
            },
            "type": "scatterpolar"
           }
          ],
          "scatterpolargl": [
           {
            "marker": {
             "colorbar": {
              "outlinewidth": 0,
              "ticks": ""
             }
            },
            "type": "scatterpolargl"
           }
          ],
          "scatterternary": [
           {
            "marker": {
             "colorbar": {
              "outlinewidth": 0,
              "ticks": ""
             }
            },
            "type": "scatterternary"
           }
          ],
          "surface": [
           {
            "colorbar": {
             "outlinewidth": 0,
             "ticks": ""
            },
            "colorscale": [
             [
              0,
              "#0d0887"
             ],
             [
              0.1111111111111111,
              "#46039f"
             ],
             [
              0.2222222222222222,
              "#7201a8"
             ],
             [
              0.3333333333333333,
              "#9c179e"
             ],
             [
              0.4444444444444444,
              "#bd3786"
             ],
             [
              0.5555555555555556,
              "#d8576b"
             ],
             [
              0.6666666666666666,
              "#ed7953"
             ],
             [
              0.7777777777777778,
              "#fb9f3a"
             ],
             [
              0.8888888888888888,
              "#fdca26"
             ],
             [
              1,
              "#f0f921"
             ]
            ],
            "type": "surface"
           }
          ],
          "table": [
           {
            "cells": {
             "fill": {
              "color": "#EBF0F8"
             },
             "line": {
              "color": "white"
             }
            },
            "header": {
             "fill": {
              "color": "#C8D4E3"
             },
             "line": {
              "color": "white"
             }
            },
            "type": "table"
           }
          ]
         },
         "layout": {
          "annotationdefaults": {
           "arrowcolor": "#2a3f5f",
           "arrowhead": 0,
           "arrowwidth": 1
          },
          "autotypenumbers": "strict",
          "coloraxis": {
           "colorbar": {
            "outlinewidth": 0,
            "ticks": ""
           }
          },
          "colorscale": {
           "diverging": [
            [
             0,
             "#8e0152"
            ],
            [
             0.1,
             "#c51b7d"
            ],
            [
             0.2,
             "#de77ae"
            ],
            [
             0.3,
             "#f1b6da"
            ],
            [
             0.4,
             "#fde0ef"
            ],
            [
             0.5,
             "#f7f7f7"
            ],
            [
             0.6,
             "#e6f5d0"
            ],
            [
             0.7,
             "#b8e186"
            ],
            [
             0.8,
             "#7fbc41"
            ],
            [
             0.9,
             "#4d9221"
            ],
            [
             1,
             "#276419"
            ]
           ],
           "sequential": [
            [
             0,
             "#0d0887"
            ],
            [
             0.1111111111111111,
             "#46039f"
            ],
            [
             0.2222222222222222,
             "#7201a8"
            ],
            [
             0.3333333333333333,
             "#9c179e"
            ],
            [
             0.4444444444444444,
             "#bd3786"
            ],
            [
             0.5555555555555556,
             "#d8576b"
            ],
            [
             0.6666666666666666,
             "#ed7953"
            ],
            [
             0.7777777777777778,
             "#fb9f3a"
            ],
            [
             0.8888888888888888,
             "#fdca26"
            ],
            [
             1,
             "#f0f921"
            ]
           ],
           "sequentialminus": [
            [
             0,
             "#0d0887"
            ],
            [
             0.1111111111111111,
             "#46039f"
            ],
            [
             0.2222222222222222,
             "#7201a8"
            ],
            [
             0.3333333333333333,
             "#9c179e"
            ],
            [
             0.4444444444444444,
             "#bd3786"
            ],
            [
             0.5555555555555556,
             "#d8576b"
            ],
            [
             0.6666666666666666,
             "#ed7953"
            ],
            [
             0.7777777777777778,
             "#fb9f3a"
            ],
            [
             0.8888888888888888,
             "#fdca26"
            ],
            [
             1,
             "#f0f921"
            ]
           ]
          },
          "colorway": [
           "#636efa",
           "#EF553B",
           "#00cc96",
           "#ab63fa",
           "#FFA15A",
           "#19d3f3",
           "#FF6692",
           "#B6E880",
           "#FF97FF",
           "#FECB52"
          ],
          "font": {
           "color": "#2a3f5f"
          },
          "geo": {
           "bgcolor": "white",
           "lakecolor": "white",
           "landcolor": "#E5ECF6",
           "showlakes": true,
           "showland": true,
           "subunitcolor": "white"
          },
          "hoverlabel": {
           "align": "left"
          },
          "hovermode": "closest",
          "mapbox": {
           "style": "light"
          },
          "paper_bgcolor": "white",
          "plot_bgcolor": "#E5ECF6",
          "polar": {
           "angularaxis": {
            "gridcolor": "white",
            "linecolor": "white",
            "ticks": ""
           },
           "bgcolor": "#E5ECF6",
           "radialaxis": {
            "gridcolor": "white",
            "linecolor": "white",
            "ticks": ""
           }
          },
          "scene": {
           "xaxis": {
            "backgroundcolor": "#E5ECF6",
            "gridcolor": "white",
            "gridwidth": 2,
            "linecolor": "white",
            "showbackground": true,
            "ticks": "",
            "zerolinecolor": "white"
           },
           "yaxis": {
            "backgroundcolor": "#E5ECF6",
            "gridcolor": "white",
            "gridwidth": 2,
            "linecolor": "white",
            "showbackground": true,
            "ticks": "",
            "zerolinecolor": "white"
           },
           "zaxis": {
            "backgroundcolor": "#E5ECF6",
            "gridcolor": "white",
            "gridwidth": 2,
            "linecolor": "white",
            "showbackground": true,
            "ticks": "",
            "zerolinecolor": "white"
           }
          },
          "shapedefaults": {
           "line": {
            "color": "#2a3f5f"
           }
          },
          "ternary": {
           "aaxis": {
            "gridcolor": "white",
            "linecolor": "white",
            "ticks": ""
           },
           "baxis": {
            "gridcolor": "white",
            "linecolor": "white",
            "ticks": ""
           },
           "bgcolor": "#E5ECF6",
           "caxis": {
            "gridcolor": "white",
            "linecolor": "white",
            "ticks": ""
           }
          },
          "title": {
           "x": 0.05
          },
          "xaxis": {
           "automargin": true,
           "gridcolor": "white",
           "linecolor": "white",
           "ticks": "",
           "title": {
            "standoff": 15
           },
           "zerolinecolor": "white",
           "zerolinewidth": 2
          },
          "yaxis": {
           "automargin": true,
           "gridcolor": "white",
           "linecolor": "white",
           "ticks": "",
           "title": {
            "standoff": 15
           },
           "zerolinecolor": "white",
           "zerolinewidth": 2
          }
         }
        },
        "xaxis": {
         "anchor": "y",
         "domain": [
          0,
          0.98
         ],
         "title": {
          "text": "Value"
         }
        },
        "xaxis2": {
         "anchor": "y2",
         "domain": [
          0,
          0.98
         ],
         "matches": "x",
         "showticklabels": false
        },
        "xaxis3": {
         "anchor": "y3",
         "domain": [
          0,
          0.98
         ],
         "matches": "x",
         "showticklabels": false
        },
        "xaxis4": {
         "anchor": "y4",
         "domain": [
          0,
          0.98
         ],
         "matches": "x",
         "showticklabels": false
        },
        "yaxis": {
         "anchor": "x",
         "categoryarray": [
          "Has the government assessed the benefits of an insurance program?",
          "Are insurance program objectives aligned with broader policy agendas?",
          "Have specific program objectives been identified and embedded?",
          "Have you decided which parts of government will be invited/mandated to participate in the program?",
          "Is there a legislation/regulation framework for the program?",
          "Has an entity been assigned or established to manage the program?",
          "Does the program have sufficient funding arrangements?",
          "Does the program have documentation defining how governance of the program will work\n(i.e., a governance framework)?",
          "Is the governance framework independent and accountable to stakeholders?",
          "Does the program have regular and effective reporting?",
          "Does the program have effective assurance mechanisms?"
         ],
         "categoryorder": "array",
         "domain": [
          0,
          0.2275
         ],
         "title": {
          "text": "question"
         }
        },
        "yaxis2": {
         "anchor": "x2",
         "categoryarray": [
          "Has the government assessed the benefits of an insurance program?",
          "Are insurance program objectives aligned with broader policy agendas?",
          "Have specific program objectives been identified and embedded?",
          "Have you decided which parts of government will be invited/mandated to participate in the program?",
          "Is there a legislation/regulation framework for the program?",
          "Has an entity been assigned or established to manage the program?",
          "Does the program have sufficient funding arrangements?",
          "Does the program have documentation defining how governance of the program will work\n(i.e., a governance framework)?",
          "Is the governance framework independent and accountable to stakeholders?",
          "Does the program have regular and effective reporting?",
          "Does the program have effective assurance mechanisms?"
         ],
         "categoryorder": "array",
         "domain": [
          0.2575,
          0.485
         ],
         "matches": "y",
         "title": {
          "text": "question"
         }
        },
        "yaxis3": {
         "anchor": "x3",
         "categoryarray": [
          "Has the government assessed the benefits of an insurance program?",
          "Are insurance program objectives aligned with broader policy agendas?",
          "Have specific program objectives been identified and embedded?",
          "Have you decided which parts of government will be invited/mandated to participate in the program?",
          "Is there a legislation/regulation framework for the program?",
          "Has an entity been assigned or established to manage the program?",
          "Does the program have sufficient funding arrangements?",
          "Does the program have documentation defining how governance of the program will work\n(i.e., a governance framework)?",
          "Is the governance framework independent and accountable to stakeholders?",
          "Does the program have regular and effective reporting?",
          "Does the program have effective assurance mechanisms?"
         ],
         "categoryorder": "array",
         "domain": [
          0.515,
          0.7425
         ],
         "matches": "y",
         "title": {
          "text": "question"
         }
        },
        "yaxis4": {
         "anchor": "x4",
         "categoryarray": [
          "Has the government assessed the benefits of an insurance program?",
          "Are insurance program objectives aligned with broader policy agendas?",
          "Have specific program objectives been identified and embedded?",
          "Have you decided which parts of government will be invited/mandated to participate in the program?",
          "Is there a legislation/regulation framework for the program?",
          "Has an entity been assigned or established to manage the program?",
          "Does the program have sufficient funding arrangements?",
          "Does the program have documentation defining how governance of the program will work\n(i.e., a governance framework)?",
          "Is the governance framework independent and accountable to stakeholders?",
          "Does the program have regular and effective reporting?",
          "Does the program have effective assurance mechanisms?"
         ],
         "categoryorder": "array",
         "domain": [
          0.7725,
          1
         ],
         "matches": "y",
         "title": {
          "text": "question"
         }
        }
       }
      }
     },
     "metadata": {},
     "output_type": "display_data"
    }
   ],
   "source": [
    "import pandas as pd\n",
    "import plotly.express as px\n",
    "\n",
    "df = pd.DataFrame({\n",
    "    \"question\": questions,\n",
    "    \"category\": categories,\n",
    "    \"Current\": current,\n",
    "    \"Aspirational\": aspirational\n",
    "})\n",
    "df = df.melt(id_vars=[\"question\",\"category\"], var_name=\"LevelType\", value_name=\"Value\")\n",
    "\n",
    "fig2 = px.bar(\n",
    "    df,\n",
    "    x=\"Value\", y=\"question\", color=\"LevelType\",\n",
    "    orientation=\"h\",\n",
    "    facet_row=\"category\",\n",
    "    category_orders={\"question\": questions[::-1]},\n",
    "    color_discrete_map={\"Current\":\"steelblue\",\"Aspirational\":\"darkorange\"},\n",
    "    height=900,\n",
    ")\n",
    "fig2.update_layout(barmode=\"stack\", margin=dict(l=200, r=40, t=80, b=40))\n",
    "fig2.for_each_annotation(lambda a: a.update(text=a.text.split(\"=\")[-1].upper()))\n",
    "fig2.show()\n"
   ]
  },
  {
   "cell_type": "code",
   "execution_count": 25,
   "id": "62700837",
   "metadata": {},
   "outputs": [
    {
     "data": {
      "text/html": [
       "<div>\n",
       "<style scoped>\n",
       "    .dataframe tbody tr th:only-of-type {\n",
       "        vertical-align: middle;\n",
       "    }\n",
       "\n",
       "    .dataframe tbody tr th {\n",
       "        vertical-align: top;\n",
       "    }\n",
       "\n",
       "    .dataframe thead th {\n",
       "        text-align: right;\n",
       "    }\n",
       "</style>\n",
       "<table border=\"1\" class=\"dataframe\">\n",
       "  <thead>\n",
       "    <tr style=\"text-align: right;\">\n",
       "      <th></th>\n",
       "      <th>question</th>\n",
       "      <th>category</th>\n",
       "      <th>LevelType</th>\n",
       "      <th>Value</th>\n",
       "    </tr>\n",
       "  </thead>\n",
       "  <tbody>\n",
       "    <tr>\n",
       "      <th>0</th>\n",
       "      <td>Has the government assessed the benefits of an...</td>\n",
       "      <td>Strategic Alignment</td>\n",
       "      <td>Current</td>\n",
       "      <td>0</td>\n",
       "    </tr>\n",
       "    <tr>\n",
       "      <th>1</th>\n",
       "      <td>Are insurance program objectives aligned with ...</td>\n",
       "      <td>Strategic Alignment</td>\n",
       "      <td>Current</td>\n",
       "      <td>0</td>\n",
       "    </tr>\n",
       "    <tr>\n",
       "      <th>2</th>\n",
       "      <td>Have specific program objectives been identifi...</td>\n",
       "      <td>Strategic Alignment</td>\n",
       "      <td>Current</td>\n",
       "      <td>2</td>\n",
       "    </tr>\n",
       "    <tr>\n",
       "      <th>3</th>\n",
       "      <td>Have you decided which parts of government wil...</td>\n",
       "      <td>Policy &amp; Legislation</td>\n",
       "      <td>Current</td>\n",
       "      <td>1</td>\n",
       "    </tr>\n",
       "    <tr>\n",
       "      <th>4</th>\n",
       "      <td>Is there a legislation/regulation framework fo...</td>\n",
       "      <td>Policy &amp; Legislation</td>\n",
       "      <td>Current</td>\n",
       "      <td>2</td>\n",
       "    </tr>\n",
       "    <tr>\n",
       "      <th>5</th>\n",
       "      <td>Has an entity been assigned or established to ...</td>\n",
       "      <td>Policy &amp; Legislation</td>\n",
       "      <td>Current</td>\n",
       "      <td>0</td>\n",
       "    </tr>\n",
       "    <tr>\n",
       "      <th>6</th>\n",
       "      <td>Does the program have sufficient funding arran...</td>\n",
       "      <td>Funding &amp; Financial Settings</td>\n",
       "      <td>Current</td>\n",
       "      <td>2</td>\n",
       "    </tr>\n",
       "    <tr>\n",
       "      <th>7</th>\n",
       "      <td>Does the program have documentation defining h...</td>\n",
       "      <td>Funding &amp; Financial Settings</td>\n",
       "      <td>Current</td>\n",
       "      <td>1</td>\n",
       "    </tr>\n",
       "    <tr>\n",
       "      <th>8</th>\n",
       "      <td>Is the governance framework independent and ac...</td>\n",
       "      <td>Governance</td>\n",
       "      <td>Current</td>\n",
       "      <td>0</td>\n",
       "    </tr>\n",
       "    <tr>\n",
       "      <th>9</th>\n",
       "      <td>Does the program have regular and effective re...</td>\n",
       "      <td>Governance</td>\n",
       "      <td>Current</td>\n",
       "      <td>0</td>\n",
       "    </tr>\n",
       "    <tr>\n",
       "      <th>10</th>\n",
       "      <td>Does the program have effective assurance mech...</td>\n",
       "      <td>Governance</td>\n",
       "      <td>Current</td>\n",
       "      <td>0</td>\n",
       "    </tr>\n",
       "    <tr>\n",
       "      <th>11</th>\n",
       "      <td>Has the government assessed the benefits of an...</td>\n",
       "      <td>Strategic Alignment</td>\n",
       "      <td>Aspirational</td>\n",
       "      <td>0</td>\n",
       "    </tr>\n",
       "    <tr>\n",
       "      <th>12</th>\n",
       "      <td>Are insurance program objectives aligned with ...</td>\n",
       "      <td>Strategic Alignment</td>\n",
       "      <td>Aspirational</td>\n",
       "      <td>0</td>\n",
       "    </tr>\n",
       "    <tr>\n",
       "      <th>13</th>\n",
       "      <td>Have specific program objectives been identifi...</td>\n",
       "      <td>Strategic Alignment</td>\n",
       "      <td>Aspirational</td>\n",
       "      <td>3</td>\n",
       "    </tr>\n",
       "    <tr>\n",
       "      <th>14</th>\n",
       "      <td>Have you decided which parts of government wil...</td>\n",
       "      <td>Policy &amp; Legislation</td>\n",
       "      <td>Aspirational</td>\n",
       "      <td>4</td>\n",
       "    </tr>\n",
       "    <tr>\n",
       "      <th>15</th>\n",
       "      <td>Is there a legislation/regulation framework fo...</td>\n",
       "      <td>Policy &amp; Legislation</td>\n",
       "      <td>Aspirational</td>\n",
       "      <td>3</td>\n",
       "    </tr>\n",
       "    <tr>\n",
       "      <th>16</th>\n",
       "      <td>Has an entity been assigned or established to ...</td>\n",
       "      <td>Policy &amp; Legislation</td>\n",
       "      <td>Aspirational</td>\n",
       "      <td>0</td>\n",
       "    </tr>\n",
       "    <tr>\n",
       "      <th>17</th>\n",
       "      <td>Does the program have sufficient funding arran...</td>\n",
       "      <td>Funding &amp; Financial Settings</td>\n",
       "      <td>Aspirational</td>\n",
       "      <td>1</td>\n",
       "    </tr>\n",
       "    <tr>\n",
       "      <th>18</th>\n",
       "      <td>Does the program have documentation defining h...</td>\n",
       "      <td>Funding &amp; Financial Settings</td>\n",
       "      <td>Aspirational</td>\n",
       "      <td>4</td>\n",
       "    </tr>\n",
       "    <tr>\n",
       "      <th>19</th>\n",
       "      <td>Is the governance framework independent and ac...</td>\n",
       "      <td>Governance</td>\n",
       "      <td>Aspirational</td>\n",
       "      <td>0</td>\n",
       "    </tr>\n",
       "    <tr>\n",
       "      <th>20</th>\n",
       "      <td>Does the program have regular and effective re...</td>\n",
       "      <td>Governance</td>\n",
       "      <td>Aspirational</td>\n",
       "      <td>0</td>\n",
       "    </tr>\n",
       "    <tr>\n",
       "      <th>21</th>\n",
       "      <td>Does the program have effective assurance mech...</td>\n",
       "      <td>Governance</td>\n",
       "      <td>Aspirational</td>\n",
       "      <td>0</td>\n",
       "    </tr>\n",
       "  </tbody>\n",
       "</table>\n",
       "</div>"
      ],
      "text/plain": [
       "                                             question  \\\n",
       "0   Has the government assessed the benefits of an...   \n",
       "1   Are insurance program objectives aligned with ...   \n",
       "2   Have specific program objectives been identifi...   \n",
       "3   Have you decided which parts of government wil...   \n",
       "4   Is there a legislation/regulation framework fo...   \n",
       "5   Has an entity been assigned or established to ...   \n",
       "6   Does the program have sufficient funding arran...   \n",
       "7   Does the program have documentation defining h...   \n",
       "8   Is the governance framework independent and ac...   \n",
       "9   Does the program have regular and effective re...   \n",
       "10  Does the program have effective assurance mech...   \n",
       "11  Has the government assessed the benefits of an...   \n",
       "12  Are insurance program objectives aligned with ...   \n",
       "13  Have specific program objectives been identifi...   \n",
       "14  Have you decided which parts of government wil...   \n",
       "15  Is there a legislation/regulation framework fo...   \n",
       "16  Has an entity been assigned or established to ...   \n",
       "17  Does the program have sufficient funding arran...   \n",
       "18  Does the program have documentation defining h...   \n",
       "19  Is the governance framework independent and ac...   \n",
       "20  Does the program have regular and effective re...   \n",
       "21  Does the program have effective assurance mech...   \n",
       "\n",
       "                        category     LevelType  Value  \n",
       "0            Strategic Alignment       Current      0  \n",
       "1            Strategic Alignment       Current      0  \n",
       "2            Strategic Alignment       Current      2  \n",
       "3           Policy & Legislation       Current      1  \n",
       "4           Policy & Legislation       Current      2  \n",
       "5           Policy & Legislation       Current      0  \n",
       "6   Funding & Financial Settings       Current      2  \n",
       "7   Funding & Financial Settings       Current      1  \n",
       "8                     Governance       Current      0  \n",
       "9                     Governance       Current      0  \n",
       "10                    Governance       Current      0  \n",
       "11           Strategic Alignment  Aspirational      0  \n",
       "12           Strategic Alignment  Aspirational      0  \n",
       "13           Strategic Alignment  Aspirational      3  \n",
       "14          Policy & Legislation  Aspirational      4  \n",
       "15          Policy & Legislation  Aspirational      3  \n",
       "16          Policy & Legislation  Aspirational      0  \n",
       "17  Funding & Financial Settings  Aspirational      1  \n",
       "18  Funding & Financial Settings  Aspirational      4  \n",
       "19                    Governance  Aspirational      0  \n",
       "20                    Governance  Aspirational      0  \n",
       "21                    Governance  Aspirational      0  "
      ]
     },
     "execution_count": 25,
     "metadata": {},
     "output_type": "execute_result"
    }
   ],
   "source": [
    "df"
   ]
  },
  {
   "cell_type": "code",
   "execution_count": 28,
   "id": "d282ea9b",
   "metadata": {},
   "outputs": [
    {
     "data": {
      "application/vnd.plotly.v1+json": {
       "config": {
        "plotlyServerURL": "https://plot.ly"
       },
       "data": [
        {
         "marker": {
          "color": "steelblue"
         },
         "name": "Current",
         "orientation": "h",
         "showlegend": true,
         "type": "bar",
         "x": [
          0,
          0,
          2
         ],
         "xaxis": "x",
         "y": [
          "Has the government assessed the benefits of an insurance program?",
          "Are insurance program objectives aligned with broader policy agendas?",
          "Have specific program objectives been identified and embedded?"
         ],
         "yaxis": "y"
        },
        {
         "marker": {
          "color": "darkorange"
         },
         "name": "Aspirational",
         "orientation": "h",
         "showlegend": true,
         "type": "bar",
         "x": [
          0,
          0,
          3
         ],
         "xaxis": "x",
         "y": [
          "Has the government assessed the benefits of an insurance program?",
          "Are insurance program objectives aligned with broader policy agendas?",
          "Have specific program objectives been identified and embedded?"
         ],
         "yaxis": "y"
        },
        {
         "marker": {
          "color": "steelblue"
         },
         "orientation": "h",
         "showlegend": false,
         "type": "bar",
         "x": [
          1,
          2,
          0
         ],
         "xaxis": "x2",
         "y": [
          "Have you decided which parts of government will be invited/mandated to participate in the program?",
          "Is there a legislation/regulation framework for the program?",
          "Has an entity been assigned or established to manage the program?"
         ],
         "yaxis": "y2"
        },
        {
         "marker": {
          "color": "darkorange"
         },
         "orientation": "h",
         "showlegend": false,
         "type": "bar",
         "x": [
          4,
          3,
          0
         ],
         "xaxis": "x2",
         "y": [
          "Have you decided which parts of government will be invited/mandated to participate in the program?",
          "Is there a legislation/regulation framework for the program?",
          "Has an entity been assigned or established to manage the program?"
         ],
         "yaxis": "y2"
        },
        {
         "marker": {
          "color": "steelblue"
         },
         "orientation": "h",
         "showlegend": false,
         "type": "bar",
         "x": [
          2,
          1
         ],
         "xaxis": "x3",
         "y": [
          "Does the program have sufficient funding arrangements?",
          "Does the program have documentation defining how governance of the program will work\n(i.e., a governance framework)?"
         ],
         "yaxis": "y3"
        },
        {
         "marker": {
          "color": "darkorange"
         },
         "orientation": "h",
         "showlegend": false,
         "type": "bar",
         "x": [
          1,
          4
         ],
         "xaxis": "x3",
         "y": [
          "Does the program have sufficient funding arrangements?",
          "Does the program have documentation defining how governance of the program will work\n(i.e., a governance framework)?"
         ],
         "yaxis": "y3"
        },
        {
         "marker": {
          "color": "steelblue"
         },
         "orientation": "h",
         "showlegend": false,
         "type": "bar",
         "x": [
          0,
          0,
          0
         ],
         "xaxis": "x4",
         "y": [
          "Is the governance framework independent and accountable to stakeholders?",
          "Does the program have regular and effective reporting?",
          "Does the program have effective assurance mechanisms?"
         ],
         "yaxis": "y4"
        },
        {
         "marker": {
          "color": "darkorange"
         },
         "orientation": "h",
         "showlegend": false,
         "type": "bar",
         "x": [
          0,
          0,
          0
         ],
         "xaxis": "x4",
         "y": [
          "Is the governance framework independent and accountable to stakeholders?",
          "Does the program have regular and effective reporting?",
          "Does the program have effective assurance mechanisms?"
         ],
         "yaxis": "y4"
        }
       ],
       "layout": {
        "barmode": "stack",
        "height": 900,
        "legend": {
         "orientation": "h",
         "x": 1,
         "xanchor": "right",
         "y": 1.02,
         "yanchor": "bottom"
        },
        "margin": {
         "b": 40,
         "l": 220,
         "r": 40,
         "t": 100
        },
        "template": {
         "data": {
          "bar": [
           {
            "error_x": {
             "color": "#2a3f5f"
            },
            "error_y": {
             "color": "#2a3f5f"
            },
            "marker": {
             "line": {
              "color": "#E5ECF6",
              "width": 0.5
             },
             "pattern": {
              "fillmode": "overlay",
              "size": 10,
              "solidity": 0.2
             }
            },
            "type": "bar"
           }
          ],
          "barpolar": [
           {
            "marker": {
             "line": {
              "color": "#E5ECF6",
              "width": 0.5
             },
             "pattern": {
              "fillmode": "overlay",
              "size": 10,
              "solidity": 0.2
             }
            },
            "type": "barpolar"
           }
          ],
          "carpet": [
           {
            "aaxis": {
             "endlinecolor": "#2a3f5f",
             "gridcolor": "white",
             "linecolor": "white",
             "minorgridcolor": "white",
             "startlinecolor": "#2a3f5f"
            },
            "baxis": {
             "endlinecolor": "#2a3f5f",
             "gridcolor": "white",
             "linecolor": "white",
             "minorgridcolor": "white",
             "startlinecolor": "#2a3f5f"
            },
            "type": "carpet"
           }
          ],
          "choropleth": [
           {
            "colorbar": {
             "outlinewidth": 0,
             "ticks": ""
            },
            "type": "choropleth"
           }
          ],
          "contour": [
           {
            "colorbar": {
             "outlinewidth": 0,
             "ticks": ""
            },
            "colorscale": [
             [
              0,
              "#0d0887"
             ],
             [
              0.1111111111111111,
              "#46039f"
             ],
             [
              0.2222222222222222,
              "#7201a8"
             ],
             [
              0.3333333333333333,
              "#9c179e"
             ],
             [
              0.4444444444444444,
              "#bd3786"
             ],
             [
              0.5555555555555556,
              "#d8576b"
             ],
             [
              0.6666666666666666,
              "#ed7953"
             ],
             [
              0.7777777777777778,
              "#fb9f3a"
             ],
             [
              0.8888888888888888,
              "#fdca26"
             ],
             [
              1,
              "#f0f921"
             ]
            ],
            "type": "contour"
           }
          ],
          "contourcarpet": [
           {
            "colorbar": {
             "outlinewidth": 0,
             "ticks": ""
            },
            "type": "contourcarpet"
           }
          ],
          "heatmap": [
           {
            "colorbar": {
             "outlinewidth": 0,
             "ticks": ""
            },
            "colorscale": [
             [
              0,
              "#0d0887"
             ],
             [
              0.1111111111111111,
              "#46039f"
             ],
             [
              0.2222222222222222,
              "#7201a8"
             ],
             [
              0.3333333333333333,
              "#9c179e"
             ],
             [
              0.4444444444444444,
              "#bd3786"
             ],
             [
              0.5555555555555556,
              "#d8576b"
             ],
             [
              0.6666666666666666,
              "#ed7953"
             ],
             [
              0.7777777777777778,
              "#fb9f3a"
             ],
             [
              0.8888888888888888,
              "#fdca26"
             ],
             [
              1,
              "#f0f921"
             ]
            ],
            "type": "heatmap"
           }
          ],
          "heatmapgl": [
           {
            "colorbar": {
             "outlinewidth": 0,
             "ticks": ""
            },
            "colorscale": [
             [
              0,
              "#0d0887"
             ],
             [
              0.1111111111111111,
              "#46039f"
             ],
             [
              0.2222222222222222,
              "#7201a8"
             ],
             [
              0.3333333333333333,
              "#9c179e"
             ],
             [
              0.4444444444444444,
              "#bd3786"
             ],
             [
              0.5555555555555556,
              "#d8576b"
             ],
             [
              0.6666666666666666,
              "#ed7953"
             ],
             [
              0.7777777777777778,
              "#fb9f3a"
             ],
             [
              0.8888888888888888,
              "#fdca26"
             ],
             [
              1,
              "#f0f921"
             ]
            ],
            "type": "heatmapgl"
           }
          ],
          "histogram": [
           {
            "marker": {
             "pattern": {
              "fillmode": "overlay",
              "size": 10,
              "solidity": 0.2
             }
            },
            "type": "histogram"
           }
          ],
          "histogram2d": [
           {
            "colorbar": {
             "outlinewidth": 0,
             "ticks": ""
            },
            "colorscale": [
             [
              0,
              "#0d0887"
             ],
             [
              0.1111111111111111,
              "#46039f"
             ],
             [
              0.2222222222222222,
              "#7201a8"
             ],
             [
              0.3333333333333333,
              "#9c179e"
             ],
             [
              0.4444444444444444,
              "#bd3786"
             ],
             [
              0.5555555555555556,
              "#d8576b"
             ],
             [
              0.6666666666666666,
              "#ed7953"
             ],
             [
              0.7777777777777778,
              "#fb9f3a"
             ],
             [
              0.8888888888888888,
              "#fdca26"
             ],
             [
              1,
              "#f0f921"
             ]
            ],
            "type": "histogram2d"
           }
          ],
          "histogram2dcontour": [
           {
            "colorbar": {
             "outlinewidth": 0,
             "ticks": ""
            },
            "colorscale": [
             [
              0,
              "#0d0887"
             ],
             [
              0.1111111111111111,
              "#46039f"
             ],
             [
              0.2222222222222222,
              "#7201a8"
             ],
             [
              0.3333333333333333,
              "#9c179e"
             ],
             [
              0.4444444444444444,
              "#bd3786"
             ],
             [
              0.5555555555555556,
              "#d8576b"
             ],
             [
              0.6666666666666666,
              "#ed7953"
             ],
             [
              0.7777777777777778,
              "#fb9f3a"
             ],
             [
              0.8888888888888888,
              "#fdca26"
             ],
             [
              1,
              "#f0f921"
             ]
            ],
            "type": "histogram2dcontour"
           }
          ],
          "mesh3d": [
           {
            "colorbar": {
             "outlinewidth": 0,
             "ticks": ""
            },
            "type": "mesh3d"
           }
          ],
          "parcoords": [
           {
            "line": {
             "colorbar": {
              "outlinewidth": 0,
              "ticks": ""
             }
            },
            "type": "parcoords"
           }
          ],
          "pie": [
           {
            "automargin": true,
            "type": "pie"
           }
          ],
          "scatter": [
           {
            "fillpattern": {
             "fillmode": "overlay",
             "size": 10,
             "solidity": 0.2
            },
            "type": "scatter"
           }
          ],
          "scatter3d": [
           {
            "line": {
             "colorbar": {
              "outlinewidth": 0,
              "ticks": ""
             }
            },
            "marker": {
             "colorbar": {
              "outlinewidth": 0,
              "ticks": ""
             }
            },
            "type": "scatter3d"
           }
          ],
          "scattercarpet": [
           {
            "marker": {
             "colorbar": {
              "outlinewidth": 0,
              "ticks": ""
             }
            },
            "type": "scattercarpet"
           }
          ],
          "scattergeo": [
           {
            "marker": {
             "colorbar": {
              "outlinewidth": 0,
              "ticks": ""
             }
            },
            "type": "scattergeo"
           }
          ],
          "scattergl": [
           {
            "marker": {
             "colorbar": {
              "outlinewidth": 0,
              "ticks": ""
             }
            },
            "type": "scattergl"
           }
          ],
          "scattermapbox": [
           {
            "marker": {
             "colorbar": {
              "outlinewidth": 0,
              "ticks": ""
             }
            },
            "type": "scattermapbox"
           }
          ],
          "scatterpolar": [
           {
            "marker": {
             "colorbar": {
              "outlinewidth": 0,
              "ticks": ""
             }
            },
            "type": "scatterpolar"
           }
          ],
          "scatterpolargl": [
           {
            "marker": {
             "colorbar": {
              "outlinewidth": 0,
              "ticks": ""
             }
            },
            "type": "scatterpolargl"
           }
          ],
          "scatterternary": [
           {
            "marker": {
             "colorbar": {
              "outlinewidth": 0,
              "ticks": ""
             }
            },
            "type": "scatterternary"
           }
          ],
          "surface": [
           {
            "colorbar": {
             "outlinewidth": 0,
             "ticks": ""
            },
            "colorscale": [
             [
              0,
              "#0d0887"
             ],
             [
              0.1111111111111111,
              "#46039f"
             ],
             [
              0.2222222222222222,
              "#7201a8"
             ],
             [
              0.3333333333333333,
              "#9c179e"
             ],
             [
              0.4444444444444444,
              "#bd3786"
             ],
             [
              0.5555555555555556,
              "#d8576b"
             ],
             [
              0.6666666666666666,
              "#ed7953"
             ],
             [
              0.7777777777777778,
              "#fb9f3a"
             ],
             [
              0.8888888888888888,
              "#fdca26"
             ],
             [
              1,
              "#f0f921"
             ]
            ],
            "type": "surface"
           }
          ],
          "table": [
           {
            "cells": {
             "fill": {
              "color": "#EBF0F8"
             },
             "line": {
              "color": "white"
             }
            },
            "header": {
             "fill": {
              "color": "#C8D4E3"
             },
             "line": {
              "color": "white"
             }
            },
            "type": "table"
           }
          ]
         },
         "layout": {
          "annotationdefaults": {
           "arrowcolor": "#2a3f5f",
           "arrowhead": 0,
           "arrowwidth": 1
          },
          "autotypenumbers": "strict",
          "coloraxis": {
           "colorbar": {
            "outlinewidth": 0,
            "ticks": ""
           }
          },
          "colorscale": {
           "diverging": [
            [
             0,
             "#8e0152"
            ],
            [
             0.1,
             "#c51b7d"
            ],
            [
             0.2,
             "#de77ae"
            ],
            [
             0.3,
             "#f1b6da"
            ],
            [
             0.4,
             "#fde0ef"
            ],
            [
             0.5,
             "#f7f7f7"
            ],
            [
             0.6,
             "#e6f5d0"
            ],
            [
             0.7,
             "#b8e186"
            ],
            [
             0.8,
             "#7fbc41"
            ],
            [
             0.9,
             "#4d9221"
            ],
            [
             1,
             "#276419"
            ]
           ],
           "sequential": [
            [
             0,
             "#0d0887"
            ],
            [
             0.1111111111111111,
             "#46039f"
            ],
            [
             0.2222222222222222,
             "#7201a8"
            ],
            [
             0.3333333333333333,
             "#9c179e"
            ],
            [
             0.4444444444444444,
             "#bd3786"
            ],
            [
             0.5555555555555556,
             "#d8576b"
            ],
            [
             0.6666666666666666,
             "#ed7953"
            ],
            [
             0.7777777777777778,
             "#fb9f3a"
            ],
            [
             0.8888888888888888,
             "#fdca26"
            ],
            [
             1,
             "#f0f921"
            ]
           ],
           "sequentialminus": [
            [
             0,
             "#0d0887"
            ],
            [
             0.1111111111111111,
             "#46039f"
            ],
            [
             0.2222222222222222,
             "#7201a8"
            ],
            [
             0.3333333333333333,
             "#9c179e"
            ],
            [
             0.4444444444444444,
             "#bd3786"
            ],
            [
             0.5555555555555556,
             "#d8576b"
            ],
            [
             0.6666666666666666,
             "#ed7953"
            ],
            [
             0.7777777777777778,
             "#fb9f3a"
            ],
            [
             0.8888888888888888,
             "#fdca26"
            ],
            [
             1,
             "#f0f921"
            ]
           ]
          },
          "colorway": [
           "#636efa",
           "#EF553B",
           "#00cc96",
           "#ab63fa",
           "#FFA15A",
           "#19d3f3",
           "#FF6692",
           "#B6E880",
           "#FF97FF",
           "#FECB52"
          ],
          "font": {
           "color": "#2a3f5f"
          },
          "geo": {
           "bgcolor": "white",
           "lakecolor": "white",
           "landcolor": "#E5ECF6",
           "showlakes": true,
           "showland": true,
           "subunitcolor": "white"
          },
          "hoverlabel": {
           "align": "left"
          },
          "hovermode": "closest",
          "mapbox": {
           "style": "light"
          },
          "paper_bgcolor": "white",
          "plot_bgcolor": "#E5ECF6",
          "polar": {
           "angularaxis": {
            "gridcolor": "white",
            "linecolor": "white",
            "ticks": ""
           },
           "bgcolor": "#E5ECF6",
           "radialaxis": {
            "gridcolor": "white",
            "linecolor": "white",
            "ticks": ""
           }
          },
          "scene": {
           "xaxis": {
            "backgroundcolor": "#E5ECF6",
            "gridcolor": "white",
            "gridwidth": 2,
            "linecolor": "white",
            "showbackground": true,
            "ticks": "",
            "zerolinecolor": "white"
           },
           "yaxis": {
            "backgroundcolor": "#E5ECF6",
            "gridcolor": "white",
            "gridwidth": 2,
            "linecolor": "white",
            "showbackground": true,
            "ticks": "",
            "zerolinecolor": "white"
           },
           "zaxis": {
            "backgroundcolor": "#E5ECF6",
            "gridcolor": "white",
            "gridwidth": 2,
            "linecolor": "white",
            "showbackground": true,
            "ticks": "",
            "zerolinecolor": "white"
           }
          },
          "shapedefaults": {
           "line": {
            "color": "#2a3f5f"
           }
          },
          "ternary": {
           "aaxis": {
            "gridcolor": "white",
            "linecolor": "white",
            "ticks": ""
           },
           "baxis": {
            "gridcolor": "white",
            "linecolor": "white",
            "ticks": ""
           },
           "bgcolor": "#E5ECF6",
           "caxis": {
            "gridcolor": "white",
            "linecolor": "white",
            "ticks": ""
           }
          },
          "title": {
           "x": 0.05
          },
          "xaxis": {
           "automargin": true,
           "gridcolor": "white",
           "linecolor": "white",
           "ticks": "",
           "title": {
            "standoff": 15
           },
           "zerolinecolor": "white",
           "zerolinewidth": 2
          },
          "yaxis": {
           "automargin": true,
           "gridcolor": "white",
           "linecolor": "white",
           "ticks": "",
           "title": {
            "standoff": 15
           },
           "zerolinecolor": "white",
           "zerolinewidth": 2
          }
         }
        },
        "title": {
         "text": "Pillar 1: Institutional Readiness"
        },
        "xaxis": {
         "anchor": "y",
         "domain": [
          0,
          1
         ],
         "matches": "x4",
         "showticklabels": false,
         "title": {
          "text": ""
         }
        },
        "xaxis2": {
         "anchor": "y2",
         "domain": [
          0,
          1
         ],
         "matches": "x4",
         "showticklabels": false,
         "title": {
          "text": ""
         }
        },
        "xaxis3": {
         "anchor": "y3",
         "domain": [
          0,
          1
         ],
         "matches": "x4",
         "showticklabels": false,
         "title": {
          "text": ""
         }
        },
        "xaxis4": {
         "anchor": "y4",
         "domain": [
          0,
          1
         ],
         "dtick": 1,
         "range": [
          0,
          5
         ],
         "tick0": 0,
         "title": {
          "text": "Level"
         }
        },
        "yaxis": {
         "anchor": "x",
         "automargin": true,
         "categoryarray": [
          "Have specific program objectives been identified and embedded?",
          "Are insurance program objectives aligned with broader policy agendas?",
          "Has the government assessed the benefits of an insurance program?"
         ],
         "categoryorder": "array",
         "domain": [
          0.7649999999999999,
          0.9999999999999999
         ],
         "title": {
          "font": {
           "size": 14
          },
          "standoff": 40,
          "text": "Strategic Alignment"
         }
        },
        "yaxis2": {
         "anchor": "x2",
         "automargin": true,
         "categoryarray": [
          "Has an entity been assigned or established to manage the program?",
          "Is there a legislation/regulation framework for the program?",
          "Have you decided which parts of government will be invited/mandated to participate in the program?"
         ],
         "categoryorder": "array",
         "domain": [
          0.51,
          0.745
         ],
         "title": {
          "font": {
           "size": 14
          },
          "standoff": 40,
          "text": "Policy & Legislation"
         }
        },
        "yaxis3": {
         "anchor": "x3",
         "automargin": true,
         "categoryarray": [
          "Does the program have documentation defining how governance of the program will work\n(i.e., a governance framework)?",
          "Does the program have sufficient funding arrangements?"
         ],
         "categoryorder": "array",
         "domain": [
          0.255,
          0.49
         ],
         "title": {
          "font": {
           "size": 14
          },
          "standoff": 40,
          "text": "Funding & Financial Settings"
         }
        },
        "yaxis4": {
         "anchor": "x4",
         "automargin": true,
         "categoryarray": [
          "Does the program have effective assurance mechanisms?",
          "Does the program have regular and effective reporting?",
          "Is the governance framework independent and accountable to stakeholders?"
         ],
         "categoryorder": "array",
         "domain": [
          0,
          0.235
         ],
         "title": {
          "font": {
           "size": 14
          },
          "standoff": 40,
          "text": "Governance"
         }
        }
       }
      }
     },
     "metadata": {},
     "output_type": "display_data"
    }
   ],
   "source": [
    "import pandas as pd\n",
    "import plotly.graph_objects as go\n",
    "from plotly.subplots import make_subplots\n",
    "\n",
    "# 1) Vos données\n",
    "df = pd.DataFrame({\n",
    "    \"question\": questions,\n",
    "    \"category\": categories,\n",
    "    \"Current\": current,\n",
    "    \"Aspirational\": aspirational\n",
    "})\n",
    "cats = [\n",
    "    \"Strategic Alignment\",\n",
    "    \"Policy & Legislation\",\n",
    "    \"Funding & Financial Settings\",\n",
    "    \"Governance\"\n",
    "]\n",
    "colors = {\"Current\":\"steelblue\", \"Aspirational\":\"darkorange\"}\n",
    "\n",
    "# 2) Créez vos subplots\n",
    "fig = make_subplots(\n",
    "    rows=4, cols=1,\n",
    "    shared_xaxes=True,\n",
    "    vertical_spacing=0.02,\n",
    "    subplot_titles=[\"\"]*4\n",
    ")\n",
    "\n",
    "# 3) Tracez les barres et mettez le titre Y=cat à chaque rangée\n",
    "for i, cat in enumerate(cats, start=1):\n",
    "    dfi = df[df.category==cat]\n",
    "    # Barres empilées\n",
    "    fig.add_trace(go.Bar(\n",
    "        x=dfi[\"Current\"], y=dfi[\"question\"],\n",
    "        orientation=\"h\", marker_color=colors[\"Current\"],\n",
    "        name=\"Current\" if i==1 else None,\n",
    "        showlegend=(i==1)\n",
    "    ), row=i, col=1)\n",
    "    fig.add_trace(go.Bar(\n",
    "        x=dfi[\"Aspirational\"], y=dfi[\"question\"],\n",
    "        orientation=\"h\", marker_color=colors[\"Aspirational\"],\n",
    "        name=\"Aspirational\" if i==1 else None,\n",
    "        showlegend=(i==1)\n",
    "    ), row=i, col=1)\n",
    "\n",
    "    # Inversion pour que la 1ʳᵉ question soit en haut\n",
    "    fig.update_yaxes(\n",
    "        categoryorder=\"array\",\n",
    "        categoryarray=dfi[\"question\"][::-1],\n",
    "        automargin=True,\n",
    "        row=i, col=1\n",
    "    )\n",
    "\n",
    "    # Le seul “titre Y” qu’on utilise : le nom de la section\n",
    "    fig.update_yaxes(\n",
    "        title_text=cat,\n",
    "        title_standoff=40,             # espace entre le texte et les labels\n",
    "        title_font=dict(size=14),\n",
    "        row=i, col=1\n",
    "    )\n",
    "\n",
    "# 4) Layout général\n",
    "fig.update_layout(\n",
    "    height=900,\n",
    "    barmode=\"stack\",\n",
    "    title=\"Pillar 1: Institutional Readiness\",\n",
    "    margin=dict(l=220, r=40, t=100, b=40),\n",
    "    legend=dict(orientation=\"h\", yanchor=\"bottom\", y=1.02, xanchor=\"right\", x=1)\n",
    ")\n",
    "# On ne veut “Level” que sous le dernier subplot\n",
    "for i in range(1,5):\n",
    "    fig.update_xaxes(title_text=\"\", row=i, col=1)\n",
    "fig.update_xaxes(\n",
    "    title_text=\"Level\", tick0=0, dtick=1, range=[0,5],\n",
    "    row=4, col=1\n",
    ")\n",
    "\n",
    "fig.show()\n"
   ]
  },
  {
   "cell_type": "code",
   "execution_count": 29,
   "id": "29972428",
   "metadata": {},
   "outputs": [
    {
     "data": {
      "application/vnd.plotly.v1+json": {
       "config": {
        "plotlyServerURL": "https://plot.ly"
       },
       "data": [
        {
         "marker": {
          "color": "steelblue"
         },
         "name": "Current",
         "orientation": "h",
         "showlegend": true,
         "type": "bar",
         "x": [
          0,
          0,
          2
         ],
         "xaxis": "x",
         "y": [
          "Has the government assessed the benefits of an insurance program?",
          "Are insurance program objectives aligned with broader policy agendas?",
          "Have specific program objectives been identified and embedded?"
         ],
         "yaxis": "y"
        },
        {
         "marker": {
          "color": "darkorange"
         },
         "name": "Aspirational",
         "orientation": "h",
         "showlegend": true,
         "type": "bar",
         "x": [
          0,
          0,
          3
         ],
         "xaxis": "x",
         "y": [
          "Has the government assessed the benefits of an insurance program?",
          "Are insurance program objectives aligned with broader policy agendas?",
          "Have specific program objectives been identified and embedded?"
         ],
         "yaxis": "y"
        },
        {
         "marker": {
          "color": "steelblue"
         },
         "orientation": "h",
         "showlegend": false,
         "type": "bar",
         "x": [
          1,
          2,
          0
         ],
         "xaxis": "x2",
         "y": [
          "Have you decided which parts of government will be invited/mandated to participate in the program?",
          "Is there a legislation/regulation framework for the program?",
          "Has an entity been assigned or established to manage the program?"
         ],
         "yaxis": "y2"
        },
        {
         "marker": {
          "color": "darkorange"
         },
         "orientation": "h",
         "showlegend": false,
         "type": "bar",
         "x": [
          4,
          3,
          0
         ],
         "xaxis": "x2",
         "y": [
          "Have you decided which parts of government will be invited/mandated to participate in the program?",
          "Is there a legislation/regulation framework for the program?",
          "Has an entity been assigned or established to manage the program?"
         ],
         "yaxis": "y2"
        },
        {
         "marker": {
          "color": "steelblue"
         },
         "orientation": "h",
         "showlegend": false,
         "type": "bar",
         "x": [
          2,
          1
         ],
         "xaxis": "x3",
         "y": [
          "Does the program have sufficient funding arrangements?",
          "Does the program have documentation defining how governance of the program will work\n(i.e., a governance framework)?"
         ],
         "yaxis": "y3"
        },
        {
         "marker": {
          "color": "darkorange"
         },
         "orientation": "h",
         "showlegend": false,
         "type": "bar",
         "x": [
          1,
          4
         ],
         "xaxis": "x3",
         "y": [
          "Does the program have sufficient funding arrangements?",
          "Does the program have documentation defining how governance of the program will work\n(i.e., a governance framework)?"
         ],
         "yaxis": "y3"
        },
        {
         "marker": {
          "color": "steelblue"
         },
         "orientation": "h",
         "showlegend": false,
         "type": "bar",
         "x": [
          0,
          0,
          0
         ],
         "xaxis": "x4",
         "y": [
          "Is the governance framework independent and accountable to stakeholders?",
          "Does the program have regular and effective reporting?",
          "Does the program have effective assurance mechanisms?"
         ],
         "yaxis": "y4"
        },
        {
         "marker": {
          "color": "darkorange"
         },
         "orientation": "h",
         "showlegend": false,
         "type": "bar",
         "x": [
          0,
          0,
          0
         ],
         "xaxis": "x4",
         "y": [
          "Is the governance framework independent and accountable to stakeholders?",
          "Does the program have regular and effective reporting?",
          "Does the program have effective assurance mechanisms?"
         ],
         "yaxis": "y4"
        }
       ],
       "layout": {
        "barmode": "stack",
        "height": 900,
        "legend": {
         "orientation": "h",
         "x": 1,
         "xanchor": "right",
         "y": 1.02,
         "yanchor": "bottom"
        },
        "margin": {
         "b": 40,
         "l": 300,
         "r": 40,
         "t": 100
        },
        "template": {
         "data": {
          "bar": [
           {
            "error_x": {
             "color": "#2a3f5f"
            },
            "error_y": {
             "color": "#2a3f5f"
            },
            "marker": {
             "line": {
              "color": "#E5ECF6",
              "width": 0.5
             },
             "pattern": {
              "fillmode": "overlay",
              "size": 10,
              "solidity": 0.2
             }
            },
            "type": "bar"
           }
          ],
          "barpolar": [
           {
            "marker": {
             "line": {
              "color": "#E5ECF6",
              "width": 0.5
             },
             "pattern": {
              "fillmode": "overlay",
              "size": 10,
              "solidity": 0.2
             }
            },
            "type": "barpolar"
           }
          ],
          "carpet": [
           {
            "aaxis": {
             "endlinecolor": "#2a3f5f",
             "gridcolor": "white",
             "linecolor": "white",
             "minorgridcolor": "white",
             "startlinecolor": "#2a3f5f"
            },
            "baxis": {
             "endlinecolor": "#2a3f5f",
             "gridcolor": "white",
             "linecolor": "white",
             "minorgridcolor": "white",
             "startlinecolor": "#2a3f5f"
            },
            "type": "carpet"
           }
          ],
          "choropleth": [
           {
            "colorbar": {
             "outlinewidth": 0,
             "ticks": ""
            },
            "type": "choropleth"
           }
          ],
          "contour": [
           {
            "colorbar": {
             "outlinewidth": 0,
             "ticks": ""
            },
            "colorscale": [
             [
              0,
              "#0d0887"
             ],
             [
              0.1111111111111111,
              "#46039f"
             ],
             [
              0.2222222222222222,
              "#7201a8"
             ],
             [
              0.3333333333333333,
              "#9c179e"
             ],
             [
              0.4444444444444444,
              "#bd3786"
             ],
             [
              0.5555555555555556,
              "#d8576b"
             ],
             [
              0.6666666666666666,
              "#ed7953"
             ],
             [
              0.7777777777777778,
              "#fb9f3a"
             ],
             [
              0.8888888888888888,
              "#fdca26"
             ],
             [
              1,
              "#f0f921"
             ]
            ],
            "type": "contour"
           }
          ],
          "contourcarpet": [
           {
            "colorbar": {
             "outlinewidth": 0,
             "ticks": ""
            },
            "type": "contourcarpet"
           }
          ],
          "heatmap": [
           {
            "colorbar": {
             "outlinewidth": 0,
             "ticks": ""
            },
            "colorscale": [
             [
              0,
              "#0d0887"
             ],
             [
              0.1111111111111111,
              "#46039f"
             ],
             [
              0.2222222222222222,
              "#7201a8"
             ],
             [
              0.3333333333333333,
              "#9c179e"
             ],
             [
              0.4444444444444444,
              "#bd3786"
             ],
             [
              0.5555555555555556,
              "#d8576b"
             ],
             [
              0.6666666666666666,
              "#ed7953"
             ],
             [
              0.7777777777777778,
              "#fb9f3a"
             ],
             [
              0.8888888888888888,
              "#fdca26"
             ],
             [
              1,
              "#f0f921"
             ]
            ],
            "type": "heatmap"
           }
          ],
          "heatmapgl": [
           {
            "colorbar": {
             "outlinewidth": 0,
             "ticks": ""
            },
            "colorscale": [
             [
              0,
              "#0d0887"
             ],
             [
              0.1111111111111111,
              "#46039f"
             ],
             [
              0.2222222222222222,
              "#7201a8"
             ],
             [
              0.3333333333333333,
              "#9c179e"
             ],
             [
              0.4444444444444444,
              "#bd3786"
             ],
             [
              0.5555555555555556,
              "#d8576b"
             ],
             [
              0.6666666666666666,
              "#ed7953"
             ],
             [
              0.7777777777777778,
              "#fb9f3a"
             ],
             [
              0.8888888888888888,
              "#fdca26"
             ],
             [
              1,
              "#f0f921"
             ]
            ],
            "type": "heatmapgl"
           }
          ],
          "histogram": [
           {
            "marker": {
             "pattern": {
              "fillmode": "overlay",
              "size": 10,
              "solidity": 0.2
             }
            },
            "type": "histogram"
           }
          ],
          "histogram2d": [
           {
            "colorbar": {
             "outlinewidth": 0,
             "ticks": ""
            },
            "colorscale": [
             [
              0,
              "#0d0887"
             ],
             [
              0.1111111111111111,
              "#46039f"
             ],
             [
              0.2222222222222222,
              "#7201a8"
             ],
             [
              0.3333333333333333,
              "#9c179e"
             ],
             [
              0.4444444444444444,
              "#bd3786"
             ],
             [
              0.5555555555555556,
              "#d8576b"
             ],
             [
              0.6666666666666666,
              "#ed7953"
             ],
             [
              0.7777777777777778,
              "#fb9f3a"
             ],
             [
              0.8888888888888888,
              "#fdca26"
             ],
             [
              1,
              "#f0f921"
             ]
            ],
            "type": "histogram2d"
           }
          ],
          "histogram2dcontour": [
           {
            "colorbar": {
             "outlinewidth": 0,
             "ticks": ""
            },
            "colorscale": [
             [
              0,
              "#0d0887"
             ],
             [
              0.1111111111111111,
              "#46039f"
             ],
             [
              0.2222222222222222,
              "#7201a8"
             ],
             [
              0.3333333333333333,
              "#9c179e"
             ],
             [
              0.4444444444444444,
              "#bd3786"
             ],
             [
              0.5555555555555556,
              "#d8576b"
             ],
             [
              0.6666666666666666,
              "#ed7953"
             ],
             [
              0.7777777777777778,
              "#fb9f3a"
             ],
             [
              0.8888888888888888,
              "#fdca26"
             ],
             [
              1,
              "#f0f921"
             ]
            ],
            "type": "histogram2dcontour"
           }
          ],
          "mesh3d": [
           {
            "colorbar": {
             "outlinewidth": 0,
             "ticks": ""
            },
            "type": "mesh3d"
           }
          ],
          "parcoords": [
           {
            "line": {
             "colorbar": {
              "outlinewidth": 0,
              "ticks": ""
             }
            },
            "type": "parcoords"
           }
          ],
          "pie": [
           {
            "automargin": true,
            "type": "pie"
           }
          ],
          "scatter": [
           {
            "fillpattern": {
             "fillmode": "overlay",
             "size": 10,
             "solidity": 0.2
            },
            "type": "scatter"
           }
          ],
          "scatter3d": [
           {
            "line": {
             "colorbar": {
              "outlinewidth": 0,
              "ticks": ""
             }
            },
            "marker": {
             "colorbar": {
              "outlinewidth": 0,
              "ticks": ""
             }
            },
            "type": "scatter3d"
           }
          ],
          "scattercarpet": [
           {
            "marker": {
             "colorbar": {
              "outlinewidth": 0,
              "ticks": ""
             }
            },
            "type": "scattercarpet"
           }
          ],
          "scattergeo": [
           {
            "marker": {
             "colorbar": {
              "outlinewidth": 0,
              "ticks": ""
             }
            },
            "type": "scattergeo"
           }
          ],
          "scattergl": [
           {
            "marker": {
             "colorbar": {
              "outlinewidth": 0,
              "ticks": ""
             }
            },
            "type": "scattergl"
           }
          ],
          "scattermapbox": [
           {
            "marker": {
             "colorbar": {
              "outlinewidth": 0,
              "ticks": ""
             }
            },
            "type": "scattermapbox"
           }
          ],
          "scatterpolar": [
           {
            "marker": {
             "colorbar": {
              "outlinewidth": 0,
              "ticks": ""
             }
            },
            "type": "scatterpolar"
           }
          ],
          "scatterpolargl": [
           {
            "marker": {
             "colorbar": {
              "outlinewidth": 0,
              "ticks": ""
             }
            },
            "type": "scatterpolargl"
           }
          ],
          "scatterternary": [
           {
            "marker": {
             "colorbar": {
              "outlinewidth": 0,
              "ticks": ""
             }
            },
            "type": "scatterternary"
           }
          ],
          "surface": [
           {
            "colorbar": {
             "outlinewidth": 0,
             "ticks": ""
            },
            "colorscale": [
             [
              0,
              "#0d0887"
             ],
             [
              0.1111111111111111,
              "#46039f"
             ],
             [
              0.2222222222222222,
              "#7201a8"
             ],
             [
              0.3333333333333333,
              "#9c179e"
             ],
             [
              0.4444444444444444,
              "#bd3786"
             ],
             [
              0.5555555555555556,
              "#d8576b"
             ],
             [
              0.6666666666666666,
              "#ed7953"
             ],
             [
              0.7777777777777778,
              "#fb9f3a"
             ],
             [
              0.8888888888888888,
              "#fdca26"
             ],
             [
              1,
              "#f0f921"
             ]
            ],
            "type": "surface"
           }
          ],
          "table": [
           {
            "cells": {
             "fill": {
              "color": "#EBF0F8"
             },
             "line": {
              "color": "white"
             }
            },
            "header": {
             "fill": {
              "color": "#C8D4E3"
             },
             "line": {
              "color": "white"
             }
            },
            "type": "table"
           }
          ]
         },
         "layout": {
          "annotationdefaults": {
           "arrowcolor": "#2a3f5f",
           "arrowhead": 0,
           "arrowwidth": 1
          },
          "autotypenumbers": "strict",
          "coloraxis": {
           "colorbar": {
            "outlinewidth": 0,
            "ticks": ""
           }
          },
          "colorscale": {
           "diverging": [
            [
             0,
             "#8e0152"
            ],
            [
             0.1,
             "#c51b7d"
            ],
            [
             0.2,
             "#de77ae"
            ],
            [
             0.3,
             "#f1b6da"
            ],
            [
             0.4,
             "#fde0ef"
            ],
            [
             0.5,
             "#f7f7f7"
            ],
            [
             0.6,
             "#e6f5d0"
            ],
            [
             0.7,
             "#b8e186"
            ],
            [
             0.8,
             "#7fbc41"
            ],
            [
             0.9,
             "#4d9221"
            ],
            [
             1,
             "#276419"
            ]
           ],
           "sequential": [
            [
             0,
             "#0d0887"
            ],
            [
             0.1111111111111111,
             "#46039f"
            ],
            [
             0.2222222222222222,
             "#7201a8"
            ],
            [
             0.3333333333333333,
             "#9c179e"
            ],
            [
             0.4444444444444444,
             "#bd3786"
            ],
            [
             0.5555555555555556,
             "#d8576b"
            ],
            [
             0.6666666666666666,
             "#ed7953"
            ],
            [
             0.7777777777777778,
             "#fb9f3a"
            ],
            [
             0.8888888888888888,
             "#fdca26"
            ],
            [
             1,
             "#f0f921"
            ]
           ],
           "sequentialminus": [
            [
             0,
             "#0d0887"
            ],
            [
             0.1111111111111111,
             "#46039f"
            ],
            [
             0.2222222222222222,
             "#7201a8"
            ],
            [
             0.3333333333333333,
             "#9c179e"
            ],
            [
             0.4444444444444444,
             "#bd3786"
            ],
            [
             0.5555555555555556,
             "#d8576b"
            ],
            [
             0.6666666666666666,
             "#ed7953"
            ],
            [
             0.7777777777777778,
             "#fb9f3a"
            ],
            [
             0.8888888888888888,
             "#fdca26"
            ],
            [
             1,
             "#f0f921"
            ]
           ]
          },
          "colorway": [
           "#636efa",
           "#EF553B",
           "#00cc96",
           "#ab63fa",
           "#FFA15A",
           "#19d3f3",
           "#FF6692",
           "#B6E880",
           "#FF97FF",
           "#FECB52"
          ],
          "font": {
           "color": "#2a3f5f"
          },
          "geo": {
           "bgcolor": "white",
           "lakecolor": "white",
           "landcolor": "#E5ECF6",
           "showlakes": true,
           "showland": true,
           "subunitcolor": "white"
          },
          "hoverlabel": {
           "align": "left"
          },
          "hovermode": "closest",
          "mapbox": {
           "style": "light"
          },
          "paper_bgcolor": "white",
          "plot_bgcolor": "#E5ECF6",
          "polar": {
           "angularaxis": {
            "gridcolor": "white",
            "linecolor": "white",
            "ticks": ""
           },
           "bgcolor": "#E5ECF6",
           "radialaxis": {
            "gridcolor": "white",
            "linecolor": "white",
            "ticks": ""
           }
          },
          "scene": {
           "xaxis": {
            "backgroundcolor": "#E5ECF6",
            "gridcolor": "white",
            "gridwidth": 2,
            "linecolor": "white",
            "showbackground": true,
            "ticks": "",
            "zerolinecolor": "white"
           },
           "yaxis": {
            "backgroundcolor": "#E5ECF6",
            "gridcolor": "white",
            "gridwidth": 2,
            "linecolor": "white",
            "showbackground": true,
            "ticks": "",
            "zerolinecolor": "white"
           },
           "zaxis": {
            "backgroundcolor": "#E5ECF6",
            "gridcolor": "white",
            "gridwidth": 2,
            "linecolor": "white",
            "showbackground": true,
            "ticks": "",
            "zerolinecolor": "white"
           }
          },
          "shapedefaults": {
           "line": {
            "color": "#2a3f5f"
           }
          },
          "ternary": {
           "aaxis": {
            "gridcolor": "white",
            "linecolor": "white",
            "ticks": ""
           },
           "baxis": {
            "gridcolor": "white",
            "linecolor": "white",
            "ticks": ""
           },
           "bgcolor": "#E5ECF6",
           "caxis": {
            "gridcolor": "white",
            "linecolor": "white",
            "ticks": ""
           }
          },
          "title": {
           "x": 0.05
          },
          "xaxis": {
           "automargin": true,
           "gridcolor": "white",
           "linecolor": "white",
           "ticks": "",
           "title": {
            "standoff": 15
           },
           "zerolinecolor": "white",
           "zerolinewidth": 2
          },
          "yaxis": {
           "automargin": true,
           "gridcolor": "white",
           "linecolor": "white",
           "ticks": "",
           "title": {
            "standoff": 15
           },
           "zerolinecolor": "white",
           "zerolinewidth": 2
          }
         }
        },
        "title": {
         "text": "Pillar 1: Institutional Readiness"
        },
        "xaxis": {
         "anchor": "y",
         "domain": [
          0,
          1
         ],
         "matches": "x4",
         "showticklabels": false
        },
        "xaxis2": {
         "anchor": "y2",
         "domain": [
          0,
          1
         ],
         "matches": "x4",
         "showticklabels": false
        },
        "xaxis3": {
         "anchor": "y3",
         "domain": [
          0,
          1
         ],
         "matches": "x4",
         "showticklabels": false
        },
        "xaxis4": {
         "anchor": "y4",
         "domain": [
          0,
          1
         ]
        },
        "yaxis": {
         "anchor": "x",
         "automargin": true,
         "categoryarray": [
          "Have specific program objectives been identified and embedded?",
          "Are insurance program objectives aligned with broader policy agendas?",
          "Has the government assessed the benefits of an insurance program?"
         ],
         "categoryorder": "array",
         "domain": [
          0.7649999999999999,
          0.9999999999999999
         ],
         "title": {
          "font": {
           "size": 14
          },
          "standoff": 80,
          "text": "Strategic Alignment"
         }
        },
        "yaxis2": {
         "anchor": "x2",
         "automargin": true,
         "categoryarray": [
          "Has an entity been assigned or established to manage the program?",
          "Is there a legislation/regulation framework for the program?",
          "Have you decided which parts of government will be invited/mandated to participate in the program?"
         ],
         "categoryorder": "array",
         "domain": [
          0.51,
          0.745
         ],
         "title": {
          "font": {
           "size": 14
          },
          "standoff": 80,
          "text": "Policy & Legislation"
         }
        },
        "yaxis3": {
         "anchor": "x3",
         "automargin": true,
         "categoryarray": [
          "Does the program have documentation defining how governance of the program will work\n(i.e., a governance framework)?",
          "Does the program have sufficient funding arrangements?"
         ],
         "categoryorder": "array",
         "domain": [
          0.255,
          0.49
         ],
         "title": {
          "font": {
           "size": 14
          },
          "standoff": 80,
          "text": "Funding & Financial Settings"
         }
        },
        "yaxis4": {
         "anchor": "x4",
         "automargin": true,
         "categoryarray": [
          "Does the program have effective assurance mechanisms?",
          "Does the program have regular and effective reporting?",
          "Is the governance framework independent and accountable to stakeholders?"
         ],
         "categoryorder": "array",
         "domain": [
          0,
          0.235
         ],
         "title": {
          "font": {
           "size": 14
          },
          "standoff": 80,
          "text": "Governance"
         }
        }
       }
      }
     },
     "metadata": {},
     "output_type": "display_data"
    }
   ],
   "source": [
    "import pandas as pd\n",
    "import plotly.graph_objects as go\n",
    "from plotly.subplots import make_subplots\n",
    "\n",
    "# 1) Vos données\n",
    "df = pd.DataFrame({\n",
    "    \"question\": questions,\n",
    "    \"category\": categories,\n",
    "    \"Current\": current,\n",
    "    \"Aspirational\": aspirational\n",
    "})\n",
    "cats = [\n",
    "    \"Strategic Alignment\",\n",
    "    \"Policy & Legislation\",\n",
    "    \"Funding & Financial Settings\",\n",
    "    \"Governance\"\n",
    "]\n",
    "colors = {\"Current\":\"steelblue\", \"Aspirational\":\"darkorange\"}\n",
    "\n",
    "# 2) Créez vos subplots\n",
    "fig = make_subplots(\n",
    "    rows=4, cols=1,\n",
    "    shared_xaxes=True,\n",
    "    vertical_spacing=0.02,\n",
    "    subplot_titles=[\"\"]*4\n",
    ")\n",
    "\n",
    "# 3) Tracez les barres et mettez le titre Y=cat à chaque rangée\n",
    "for i, cat in enumerate(cats, start=1):\n",
    "    dfi = df[df.category==cat]\n",
    "    # Barres empilées\n",
    "    fig.add_trace(go.Bar(\n",
    "        x=dfi[\"Current\"], y=dfi[\"question\"],\n",
    "        orientation=\"h\", marker_color=colors[\"Current\"],\n",
    "        name=\"Current\" if i==1 else None,\n",
    "        showlegend=(i==1)\n",
    "    ), row=i, col=1)\n",
    "    fig.add_trace(go.Bar(\n",
    "        x=dfi[\"Aspirational\"], y=dfi[\"question\"],\n",
    "        orientation=\"h\", marker_color=colors[\"Aspirational\"],\n",
    "        name=\"Aspirational\" if i==1 else None,\n",
    "        showlegend=(i==1)\n",
    "    ), row=i, col=1)\n",
    "\n",
    "    # Inversion pour que la 1ʳᵉ question soit en haut\n",
    "    fig.update_yaxes(\n",
    "        categoryorder=\"array\",\n",
    "        categoryarray=dfi[\"question\"][::-1],\n",
    "        automargin=True,\n",
    "        row=i, col=1\n",
    "    )\n",
    "\n",
    "    # Le seul “titre Y” qu’on utilise : le nom de la section\n",
    "    fig.update_yaxes(\n",
    "        title_text=cat,\n",
    "        title_standoff=40,             # espace entre le texte et les labels\n",
    "        title_font=dict(size=14),\n",
    "        row=i, col=1\n",
    "    )\n",
    "\n",
    "# … après avoir tracé toutes vos barres et mis à jour l'axe X …\n",
    "\n",
    "# 4) Mise en page générale : on augmente margin.l \n",
    "fig.update_layout(\n",
    "    height=900,\n",
    "    barmode=\"stack\",\n",
    "    title=\"Pillar 1: Institutional Readiness\",\n",
    "    margin=dict(l=300, r=40, t=100, b=40),   # <-- on passe de 220 à 300\n",
    "    legend=dict(orientation=\"h\", yanchor=\"bottom\", y=1.02, xanchor=\"right\", x=1)\n",
    ")\n",
    "\n",
    "# 5) On repositionne chaque titre Y plus loin à gauche\n",
    "for i, cat in enumerate(cats, start=1):\n",
    "    fig.update_yaxes(\n",
    "        title_text=cat,\n",
    "        title_standoff=80,                  # <-- on augmente l’espacement interne\n",
    "        title_font=dict(size=14),\n",
    "        row=i, col=1\n",
    "    )\n",
    "\n",
    "# (Re-affichez simplement le fig.show() ensuite)\n",
    "\n",
    "\n",
    "fig.show()\n"
   ]
  },
  {
   "cell_type": "code",
   "execution_count": 39,
   "id": "07549eb3",
   "metadata": {},
   "outputs": [
    {
     "data": {
      "text/html": [
       "\n",
       "<style>\n",
       "  #altair-viz-3092ad611cda4185897bbeaa8fbd0da4.vega-embed {\n",
       "    width: 100%;\n",
       "    display: flex;\n",
       "  }\n",
       "\n",
       "  #altair-viz-3092ad611cda4185897bbeaa8fbd0da4.vega-embed details,\n",
       "  #altair-viz-3092ad611cda4185897bbeaa8fbd0da4.vega-embed details summary {\n",
       "    position: relative;\n",
       "  }\n",
       "</style>\n",
       "<div id=\"altair-viz-3092ad611cda4185897bbeaa8fbd0da4\"></div>\n",
       "<script type=\"text/javascript\">\n",
       "  var VEGA_DEBUG = (typeof VEGA_DEBUG == \"undefined\") ? {} : VEGA_DEBUG;\n",
       "  (function(spec, embedOpt){\n",
       "    let outputDiv = document.currentScript.previousElementSibling;\n",
       "    if (outputDiv.id !== \"altair-viz-3092ad611cda4185897bbeaa8fbd0da4\") {\n",
       "      outputDiv = document.getElementById(\"altair-viz-3092ad611cda4185897bbeaa8fbd0da4\");\n",
       "    }\n",
       "    const paths = {\n",
       "      \"vega\": \"https://cdn.jsdelivr.net/npm/vega@5?noext\",\n",
       "      \"vega-lib\": \"https://cdn.jsdelivr.net/npm/vega-lib?noext\",\n",
       "      \"vega-lite\": \"https://cdn.jsdelivr.net/npm/vega-lite@5.17.0?noext\",\n",
       "      \"vega-embed\": \"https://cdn.jsdelivr.net/npm/vega-embed@6?noext\",\n",
       "    };\n",
       "\n",
       "    function maybeLoadScript(lib, version) {\n",
       "      var key = `${lib.replace(\"-\", \"\")}_version`;\n",
       "      return (VEGA_DEBUG[key] == version) ?\n",
       "        Promise.resolve(paths[lib]) :\n",
       "        new Promise(function(resolve, reject) {\n",
       "          var s = document.createElement('script');\n",
       "          document.getElementsByTagName(\"head\")[0].appendChild(s);\n",
       "          s.async = true;\n",
       "          s.onload = () => {\n",
       "            VEGA_DEBUG[key] = version;\n",
       "            return resolve(paths[lib]);\n",
       "          };\n",
       "          s.onerror = () => reject(`Error loading script: ${paths[lib]}`);\n",
       "          s.src = paths[lib];\n",
       "        });\n",
       "    }\n",
       "\n",
       "    function showError(err) {\n",
       "      outputDiv.innerHTML = `<div class=\"error\" style=\"color:red;\">${err}</div>`;\n",
       "      throw err;\n",
       "    }\n",
       "\n",
       "    function displayChart(vegaEmbed) {\n",
       "      vegaEmbed(outputDiv, spec, embedOpt)\n",
       "        .catch(err => showError(`Javascript Error: ${err.message}<br>This usually means there's a typo in your chart specification. See the javascript console for the full traceback.`));\n",
       "    }\n",
       "\n",
       "    if(typeof define === \"function\" && define.amd) {\n",
       "      requirejs.config({paths});\n",
       "      require([\"vega-embed\"], displayChart, err => showError(`Error loading script: ${err.message}`));\n",
       "    } else {\n",
       "      maybeLoadScript(\"vega\", \"5\")\n",
       "        .then(() => maybeLoadScript(\"vega-lite\", \"5.17.0\"))\n",
       "        .then(() => maybeLoadScript(\"vega-embed\", \"6\"))\n",
       "        .catch(showError)\n",
       "        .then(() => displayChart(vegaEmbed));\n",
       "    }\n",
       "  })({\"config\": {\"view\": {\"continuousWidth\": 300, \"continuousHeight\": 300}}, \"data\": {\"name\": \"data-d04bd8f960480a2a3b3a627124e63b0a\"}, \"facet\": {\"row\": {\"field\": \"category\", \"header\": {\"labelAlign\": \"left\", \"labelAngle\": 270, \"labelFontSize\": 14, \"labelOrient\": \"left\", \"labelPadding\": 10, \"title\": null}, \"type\": \"nominal\"}}, \"spec\": {\"mark\": {\"type\": \"bar\"}, \"encoding\": {\"color\": {\"field\": \"LevelType\", \"legend\": {\"orient\": \"top\"}, \"scale\": {\"domain\": [\"Current\", \"Aspirational\"], \"range\": [\"steelblue\", \"darkorange\"]}, \"type\": \"nominal\"}, \"x\": {\"field\": \"Level\", \"scale\": {\"domain\": [0, 5]}, \"title\": \"Level\", \"type\": \"quantitative\"}, \"y\": {\"axis\": {\"labels\": false, \"ticks\": false, \"title\": null}, \"field\": \"question\", \"sort\": [\"Does the program have effective assurance mechanisms?\", \"Does the program have regular and effective reporting?\", \"Is the governance framework independent and accountable to stakeholders?\", \"Does the program have documentation defining how governance of the program will work (i.e., a governance framework)?\", \"Does the program have sufficient funding arrangements?\", \"Has an entity been assigned or established to manage the program?\", \"Is there a legislation/regulation framework for the program?\", \"Have you decided which parts of government will be invited/mandated to participate in the program?\", \"Have specific program objectives been identified and embedded?\", \"Are insurance program objectives aligned with broader policy agendas?\", \"Has the government assessed the benefits of an insurance program?\"], \"type\": \"nominal\"}}, \"height\": 800, \"width\": 600}, \"resolve\": {\"scale\": {\"x\": \"shared\"}}, \"$schema\": \"https://vega.github.io/schema/vega-lite/v5.17.0.json\", \"datasets\": {\"data-d04bd8f960480a2a3b3a627124e63b0a\": [{\"question\": \"Has the government assessed the benefits of an insurance program?\", \"category\": \"Strategic Alignment\", \"LevelType\": \"Current\", \"Level\": 0}, {\"question\": \"Are insurance program objectives aligned with broader policy agendas?\", \"category\": \"Strategic Alignment\", \"LevelType\": \"Current\", \"Level\": 0}, {\"question\": \"Have specific program objectives been identified and embedded?\", \"category\": \"Strategic Alignment\", \"LevelType\": \"Current\", \"Level\": 2}, {\"question\": \"Have you decided which parts of government will be invited/mandated to participate in the program?\", \"category\": \"Policy & Legislation\", \"LevelType\": \"Current\", \"Level\": 1}, {\"question\": \"Is there a legislation/regulation framework for the program?\", \"category\": \"Policy & Legislation\", \"LevelType\": \"Current\", \"Level\": 2}, {\"question\": \"Has an entity been assigned or established to manage the program?\", \"category\": \"Policy & Legislation\", \"LevelType\": \"Current\", \"Level\": 0}, {\"question\": \"Does the program have sufficient funding arrangements?\", \"category\": \"Funding & Financial Settings\", \"LevelType\": \"Current\", \"Level\": 2}, {\"question\": \"Does the program have documentation defining how governance of the program will work (i.e., a governance framework)?\", \"category\": \"Funding & Financial Settings\", \"LevelType\": \"Current\", \"Level\": 1}, {\"question\": \"Is the governance framework independent and accountable to stakeholders?\", \"category\": \"Governance\", \"LevelType\": \"Current\", \"Level\": 0}, {\"question\": \"Does the program have regular and effective reporting?\", \"category\": \"Governance\", \"LevelType\": \"Current\", \"Level\": 0}, {\"question\": \"Does the program have effective assurance mechanisms?\", \"category\": \"Governance\", \"LevelType\": \"Current\", \"Level\": 0}, {\"question\": \"Has the government assessed the benefits of an insurance program?\", \"category\": \"Strategic Alignment\", \"LevelType\": \"Aspirational\", \"Level\": 0}, {\"question\": \"Are insurance program objectives aligned with broader policy agendas?\", \"category\": \"Strategic Alignment\", \"LevelType\": \"Aspirational\", \"Level\": 0}, {\"question\": \"Have specific program objectives been identified and embedded?\", \"category\": \"Strategic Alignment\", \"LevelType\": \"Aspirational\", \"Level\": 3}, {\"question\": \"Have you decided which parts of government will be invited/mandated to participate in the program?\", \"category\": \"Policy & Legislation\", \"LevelType\": \"Aspirational\", \"Level\": 4}, {\"question\": \"Is there a legislation/regulation framework for the program?\", \"category\": \"Policy & Legislation\", \"LevelType\": \"Aspirational\", \"Level\": 3}, {\"question\": \"Has an entity been assigned or established to manage the program?\", \"category\": \"Policy & Legislation\", \"LevelType\": \"Aspirational\", \"Level\": 0}, {\"question\": \"Does the program have sufficient funding arrangements?\", \"category\": \"Funding & Financial Settings\", \"LevelType\": \"Aspirational\", \"Level\": 1}, {\"question\": \"Does the program have documentation defining how governance of the program will work (i.e., a governance framework)?\", \"category\": \"Funding & Financial Settings\", \"LevelType\": \"Aspirational\", \"Level\": 4}, {\"question\": \"Is the governance framework independent and accountable to stakeholders?\", \"category\": \"Governance\", \"LevelType\": \"Aspirational\", \"Level\": 0}, {\"question\": \"Does the program have regular and effective reporting?\", \"category\": \"Governance\", \"LevelType\": \"Aspirational\", \"Level\": 0}, {\"question\": \"Does the program have effective assurance mechanisms?\", \"category\": \"Governance\", \"LevelType\": \"Aspirational\", \"Level\": 0}]}}, {\"mode\": \"vega-lite\"});\n",
       "</script>"
      ],
      "text/plain": [
       "alt.FacetChart(...)"
      ]
     },
     "execution_count": 39,
     "metadata": {},
     "output_type": "execute_result"
    }
   ],
   "source": [
    "import pandas as pd\n",
    "import altair as alt\n",
    "\n",
    "# 1) Préparez votre dataframe « melté »\n",
    "df = pd.DataFrame({\n",
    "    \"question\": questions,\n",
    "    \"category\": categories,\n",
    "    \"Current\": current,\n",
    "    \"Aspirational\": aspirational\n",
    "})\n",
    "df = df.melt(\n",
    "    id_vars=[\"question\",\"category\"],\n",
    "    value_vars=[\"Current\",\"Aspirational\"],\n",
    "    var_name=\"LevelType\",\n",
    "    value_name=\"Level\"\n",
    ")\n",
    "\n",
    "# 2) Construisez la figure\n",
    "chart = alt.Chart(df).mark_bar().encode(\n",
    "    x=alt.X(\"Level:Q\", scale=alt.Scale(domain=(0,5)), title=\"Level\"),\n",
    "    y=alt.Y(\"question:N\",\n",
    "            sort=questions[::-1],\n",
    "            axis=alt.Axis(title=None, labels=False, ticks=False)\n",
    "    ),\n",
    "    color=alt.Color(\"LevelType:N\",\n",
    "                    scale=alt.Scale(domain=[\"Current\",\"Aspirational\"],\n",
    "                                    range=[\"steelblue\",\"darkorange\"]),\n",
    "                    legend=alt.Legend(orient=\"top\")\n",
    "    )\n",
    ").properties(\n",
    "    width=600,\n",
    "    height=200*len(df.category.unique())\n",
    ")\n",
    "\n",
    "# 3) Facettez par catégorie en rangées,\n",
    "#    avec l’entête placé à gauche et en verticale\n",
    "facet = chart.facet(\n",
    "    row=alt.Row(\"category:N\", \n",
    "                header=alt.Header(\n",
    "                    title=None,\n",
    "                    labelOrient=\"left\",\n",
    "                    labelAngle=270,\n",
    "                    labelAlign=\"left\",\n",
    "                    labelPadding=10,\n",
    "                    labelFontSize=14\n",
    "                )\n",
    "    )\n",
    ").resolve_scale(x=\"shared\")\n",
    "\n",
    "facet\n"
   ]
  },
  {
   "cell_type": "markdown",
   "id": "33c007dd",
   "metadata": {},
   "source": [
    "## subplot"
   ]
  },
  {
   "cell_type": "code",
   "execution_count": 4,
   "id": "08257412",
   "metadata": {},
   "outputs": [
    {
     "data": {
      "application/vnd.plotly.v1+json": {
       "config": {
        "plotlyServerURL": "https://plot.ly"
       },
       "data": [
        {
         "marker": {
          "color": "steelblue"
         },
         "name": "Current",
         "orientation": "h",
         "showlegend": true,
         "type": "bar",
         "x": [
          0,
          0,
          2
         ],
         "xaxis": "x",
         "y": [
          "Has the government assessed the benefits of an insurance program?",
          "Are insurance program objectives aligned with broader policy agendas?",
          "Have specific program objectives been identified and embedded?"
         ],
         "yaxis": "y"
        },
        {
         "marker": {
          "color": "darkorange"
         },
         "name": "Aspirational",
         "orientation": "h",
         "showlegend": true,
         "type": "bar",
         "x": [
          0,
          0,
          3
         ],
         "xaxis": "x",
         "y": [
          "Has the government assessed the benefits of an insurance program?",
          "Are insurance program objectives aligned with broader policy agendas?",
          "Have specific program objectives been identified and embedded?"
         ],
         "yaxis": "y"
        },
        {
         "marker": {
          "color": "steelblue"
         },
         "orientation": "h",
         "showlegend": false,
         "type": "bar",
         "x": [
          1,
          2,
          0
         ],
         "xaxis": "x2",
         "y": [
          "Have you decided which parts of government will be invited/mandated to participate in the program?",
          "Is there a legislation/regulation framework for the program?",
          "Has an entity been assigned or established to manage the program?"
         ],
         "yaxis": "y2"
        },
        {
         "marker": {
          "color": "darkorange"
         },
         "orientation": "h",
         "showlegend": false,
         "type": "bar",
         "x": [
          4,
          3,
          0
         ],
         "xaxis": "x2",
         "y": [
          "Have you decided which parts of government will be invited/mandated to participate in the program?",
          "Is there a legislation/regulation framework for the program?",
          "Has an entity been assigned or established to manage the program?"
         ],
         "yaxis": "y2"
        },
        {
         "marker": {
          "color": "steelblue"
         },
         "orientation": "h",
         "showlegend": false,
         "type": "bar",
         "x": [
          2,
          1
         ],
         "xaxis": "x3",
         "y": [
          "Does the program have sufficient funding arrangements?",
          "Does the program have documentation defining how governance of the program will work\n(i.e., a governance framework)?"
         ],
         "yaxis": "y3"
        },
        {
         "marker": {
          "color": "darkorange"
         },
         "orientation": "h",
         "showlegend": false,
         "type": "bar",
         "x": [
          1,
          4
         ],
         "xaxis": "x3",
         "y": [
          "Does the program have sufficient funding arrangements?",
          "Does the program have documentation defining how governance of the program will work\n(i.e., a governance framework)?"
         ],
         "yaxis": "y3"
        },
        {
         "marker": {
          "color": "steelblue"
         },
         "orientation": "h",
         "showlegend": false,
         "type": "bar",
         "x": [
          0,
          0,
          0
         ],
         "xaxis": "x4",
         "y": [
          "Is the governance framework independent and accountable to stakeholders?",
          "Does the program have regular and effective reporting?",
          "Does the program have effective assurance mechanisms?"
         ],
         "yaxis": "y4"
        },
        {
         "marker": {
          "color": "darkorange"
         },
         "orientation": "h",
         "showlegend": false,
         "type": "bar",
         "x": [
          0,
          0,
          0
         ],
         "xaxis": "x4",
         "y": [
          "Is the governance framework independent and accountable to stakeholders?",
          "Does the program have regular and effective reporting?",
          "Does the program have effective assurance mechanisms?"
         ],
         "yaxis": "y4"
        }
       ],
       "layout": {
        "annotations": [
         {
          "font": {
           "size": 16
          },
          "showarrow": false,
          "text": "Strategic Alignment",
          "x": 0.5,
          "xanchor": "center",
          "xref": "paper",
          "y": 1,
          "yanchor": "bottom",
          "yref": "paper"
         },
         {
          "font": {
           "size": 16
          },
          "showarrow": false,
          "text": "Policy & Legislation",
          "x": 0.5,
          "xanchor": "center",
          "xref": "paper",
          "y": 0.7375,
          "yanchor": "bottom",
          "yref": "paper"
         },
         {
          "font": {
           "size": 16
          },
          "showarrow": false,
          "text": "Funding & Financial Settings",
          "x": 0.5,
          "xanchor": "center",
          "xref": "paper",
          "y": 0.475,
          "yanchor": "bottom",
          "yref": "paper"
         },
         {
          "font": {
           "size": 16
          },
          "showarrow": false,
          "text": "Governance",
          "x": 0.5,
          "xanchor": "center",
          "xref": "paper",
          "y": 0.2125,
          "yanchor": "bottom",
          "yref": "paper"
         }
        ],
        "barmode": "stack",
        "height": 900,
        "legend": {
         "orientation": "h",
         "x": 1,
         "xanchor": "right",
         "y": 1.02,
         "yanchor": "bottom"
        },
        "margin": {
         "b": 40,
         "l": 350,
         "r": 40,
         "t": 100
        },
        "template": {
         "data": {
          "bar": [
           {
            "error_x": {
             "color": "#2a3f5f"
            },
            "error_y": {
             "color": "#2a3f5f"
            },
            "marker": {
             "line": {
              "color": "#E5ECF6",
              "width": 0.5
             },
             "pattern": {
              "fillmode": "overlay",
              "size": 10,
              "solidity": 0.2
             }
            },
            "type": "bar"
           }
          ],
          "barpolar": [
           {
            "marker": {
             "line": {
              "color": "#E5ECF6",
              "width": 0.5
             },
             "pattern": {
              "fillmode": "overlay",
              "size": 10,
              "solidity": 0.2
             }
            },
            "type": "barpolar"
           }
          ],
          "carpet": [
           {
            "aaxis": {
             "endlinecolor": "#2a3f5f",
             "gridcolor": "white",
             "linecolor": "white",
             "minorgridcolor": "white",
             "startlinecolor": "#2a3f5f"
            },
            "baxis": {
             "endlinecolor": "#2a3f5f",
             "gridcolor": "white",
             "linecolor": "white",
             "minorgridcolor": "white",
             "startlinecolor": "#2a3f5f"
            },
            "type": "carpet"
           }
          ],
          "choropleth": [
           {
            "colorbar": {
             "outlinewidth": 0,
             "ticks": ""
            },
            "type": "choropleth"
           }
          ],
          "contour": [
           {
            "colorbar": {
             "outlinewidth": 0,
             "ticks": ""
            },
            "colorscale": [
             [
              0,
              "#0d0887"
             ],
             [
              0.1111111111111111,
              "#46039f"
             ],
             [
              0.2222222222222222,
              "#7201a8"
             ],
             [
              0.3333333333333333,
              "#9c179e"
             ],
             [
              0.4444444444444444,
              "#bd3786"
             ],
             [
              0.5555555555555556,
              "#d8576b"
             ],
             [
              0.6666666666666666,
              "#ed7953"
             ],
             [
              0.7777777777777778,
              "#fb9f3a"
             ],
             [
              0.8888888888888888,
              "#fdca26"
             ],
             [
              1,
              "#f0f921"
             ]
            ],
            "type": "contour"
           }
          ],
          "contourcarpet": [
           {
            "colorbar": {
             "outlinewidth": 0,
             "ticks": ""
            },
            "type": "contourcarpet"
           }
          ],
          "heatmap": [
           {
            "colorbar": {
             "outlinewidth": 0,
             "ticks": ""
            },
            "colorscale": [
             [
              0,
              "#0d0887"
             ],
             [
              0.1111111111111111,
              "#46039f"
             ],
             [
              0.2222222222222222,
              "#7201a8"
             ],
             [
              0.3333333333333333,
              "#9c179e"
             ],
             [
              0.4444444444444444,
              "#bd3786"
             ],
             [
              0.5555555555555556,
              "#d8576b"
             ],
             [
              0.6666666666666666,
              "#ed7953"
             ],
             [
              0.7777777777777778,
              "#fb9f3a"
             ],
             [
              0.8888888888888888,
              "#fdca26"
             ],
             [
              1,
              "#f0f921"
             ]
            ],
            "type": "heatmap"
           }
          ],
          "heatmapgl": [
           {
            "colorbar": {
             "outlinewidth": 0,
             "ticks": ""
            },
            "colorscale": [
             [
              0,
              "#0d0887"
             ],
             [
              0.1111111111111111,
              "#46039f"
             ],
             [
              0.2222222222222222,
              "#7201a8"
             ],
             [
              0.3333333333333333,
              "#9c179e"
             ],
             [
              0.4444444444444444,
              "#bd3786"
             ],
             [
              0.5555555555555556,
              "#d8576b"
             ],
             [
              0.6666666666666666,
              "#ed7953"
             ],
             [
              0.7777777777777778,
              "#fb9f3a"
             ],
             [
              0.8888888888888888,
              "#fdca26"
             ],
             [
              1,
              "#f0f921"
             ]
            ],
            "type": "heatmapgl"
           }
          ],
          "histogram": [
           {
            "marker": {
             "pattern": {
              "fillmode": "overlay",
              "size": 10,
              "solidity": 0.2
             }
            },
            "type": "histogram"
           }
          ],
          "histogram2d": [
           {
            "colorbar": {
             "outlinewidth": 0,
             "ticks": ""
            },
            "colorscale": [
             [
              0,
              "#0d0887"
             ],
             [
              0.1111111111111111,
              "#46039f"
             ],
             [
              0.2222222222222222,
              "#7201a8"
             ],
             [
              0.3333333333333333,
              "#9c179e"
             ],
             [
              0.4444444444444444,
              "#bd3786"
             ],
             [
              0.5555555555555556,
              "#d8576b"
             ],
             [
              0.6666666666666666,
              "#ed7953"
             ],
             [
              0.7777777777777778,
              "#fb9f3a"
             ],
             [
              0.8888888888888888,
              "#fdca26"
             ],
             [
              1,
              "#f0f921"
             ]
            ],
            "type": "histogram2d"
           }
          ],
          "histogram2dcontour": [
           {
            "colorbar": {
             "outlinewidth": 0,
             "ticks": ""
            },
            "colorscale": [
             [
              0,
              "#0d0887"
             ],
             [
              0.1111111111111111,
              "#46039f"
             ],
             [
              0.2222222222222222,
              "#7201a8"
             ],
             [
              0.3333333333333333,
              "#9c179e"
             ],
             [
              0.4444444444444444,
              "#bd3786"
             ],
             [
              0.5555555555555556,
              "#d8576b"
             ],
             [
              0.6666666666666666,
              "#ed7953"
             ],
             [
              0.7777777777777778,
              "#fb9f3a"
             ],
             [
              0.8888888888888888,
              "#fdca26"
             ],
             [
              1,
              "#f0f921"
             ]
            ],
            "type": "histogram2dcontour"
           }
          ],
          "mesh3d": [
           {
            "colorbar": {
             "outlinewidth": 0,
             "ticks": ""
            },
            "type": "mesh3d"
           }
          ],
          "parcoords": [
           {
            "line": {
             "colorbar": {
              "outlinewidth": 0,
              "ticks": ""
             }
            },
            "type": "parcoords"
           }
          ],
          "pie": [
           {
            "automargin": true,
            "type": "pie"
           }
          ],
          "scatter": [
           {
            "fillpattern": {
             "fillmode": "overlay",
             "size": 10,
             "solidity": 0.2
            },
            "type": "scatter"
           }
          ],
          "scatter3d": [
           {
            "line": {
             "colorbar": {
              "outlinewidth": 0,
              "ticks": ""
             }
            },
            "marker": {
             "colorbar": {
              "outlinewidth": 0,
              "ticks": ""
             }
            },
            "type": "scatter3d"
           }
          ],
          "scattercarpet": [
           {
            "marker": {
             "colorbar": {
              "outlinewidth": 0,
              "ticks": ""
             }
            },
            "type": "scattercarpet"
           }
          ],
          "scattergeo": [
           {
            "marker": {
             "colorbar": {
              "outlinewidth": 0,
              "ticks": ""
             }
            },
            "type": "scattergeo"
           }
          ],
          "scattergl": [
           {
            "marker": {
             "colorbar": {
              "outlinewidth": 0,
              "ticks": ""
             }
            },
            "type": "scattergl"
           }
          ],
          "scattermapbox": [
           {
            "marker": {
             "colorbar": {
              "outlinewidth": 0,
              "ticks": ""
             }
            },
            "type": "scattermapbox"
           }
          ],
          "scatterpolar": [
           {
            "marker": {
             "colorbar": {
              "outlinewidth": 0,
              "ticks": ""
             }
            },
            "type": "scatterpolar"
           }
          ],
          "scatterpolargl": [
           {
            "marker": {
             "colorbar": {
              "outlinewidth": 0,
              "ticks": ""
             }
            },
            "type": "scatterpolargl"
           }
          ],
          "scatterternary": [
           {
            "marker": {
             "colorbar": {
              "outlinewidth": 0,
              "ticks": ""
             }
            },
            "type": "scatterternary"
           }
          ],
          "surface": [
           {
            "colorbar": {
             "outlinewidth": 0,
             "ticks": ""
            },
            "colorscale": [
             [
              0,
              "#0d0887"
             ],
             [
              0.1111111111111111,
              "#46039f"
             ],
             [
              0.2222222222222222,
              "#7201a8"
             ],
             [
              0.3333333333333333,
              "#9c179e"
             ],
             [
              0.4444444444444444,
              "#bd3786"
             ],
             [
              0.5555555555555556,
              "#d8576b"
             ],
             [
              0.6666666666666666,
              "#ed7953"
             ],
             [
              0.7777777777777778,
              "#fb9f3a"
             ],
             [
              0.8888888888888888,
              "#fdca26"
             ],
             [
              1,
              "#f0f921"
             ]
            ],
            "type": "surface"
           }
          ],
          "table": [
           {
            "cells": {
             "fill": {
              "color": "#EBF0F8"
             },
             "line": {
              "color": "white"
             }
            },
            "header": {
             "fill": {
              "color": "#C8D4E3"
             },
             "line": {
              "color": "white"
             }
            },
            "type": "table"
           }
          ]
         },
         "layout": {
          "annotationdefaults": {
           "arrowcolor": "#2a3f5f",
           "arrowhead": 0,
           "arrowwidth": 1
          },
          "autotypenumbers": "strict",
          "coloraxis": {
           "colorbar": {
            "outlinewidth": 0,
            "ticks": ""
           }
          },
          "colorscale": {
           "diverging": [
            [
             0,
             "#8e0152"
            ],
            [
             0.1,
             "#c51b7d"
            ],
            [
             0.2,
             "#de77ae"
            ],
            [
             0.3,
             "#f1b6da"
            ],
            [
             0.4,
             "#fde0ef"
            ],
            [
             0.5,
             "#f7f7f7"
            ],
            [
             0.6,
             "#e6f5d0"
            ],
            [
             0.7,
             "#b8e186"
            ],
            [
             0.8,
             "#7fbc41"
            ],
            [
             0.9,
             "#4d9221"
            ],
            [
             1,
             "#276419"
            ]
           ],
           "sequential": [
            [
             0,
             "#0d0887"
            ],
            [
             0.1111111111111111,
             "#46039f"
            ],
            [
             0.2222222222222222,
             "#7201a8"
            ],
            [
             0.3333333333333333,
             "#9c179e"
            ],
            [
             0.4444444444444444,
             "#bd3786"
            ],
            [
             0.5555555555555556,
             "#d8576b"
            ],
            [
             0.6666666666666666,
             "#ed7953"
            ],
            [
             0.7777777777777778,
             "#fb9f3a"
            ],
            [
             0.8888888888888888,
             "#fdca26"
            ],
            [
             1,
             "#f0f921"
            ]
           ],
           "sequentialminus": [
            [
             0,
             "#0d0887"
            ],
            [
             0.1111111111111111,
             "#46039f"
            ],
            [
             0.2222222222222222,
             "#7201a8"
            ],
            [
             0.3333333333333333,
             "#9c179e"
            ],
            [
             0.4444444444444444,
             "#bd3786"
            ],
            [
             0.5555555555555556,
             "#d8576b"
            ],
            [
             0.6666666666666666,
             "#ed7953"
            ],
            [
             0.7777777777777778,
             "#fb9f3a"
            ],
            [
             0.8888888888888888,
             "#fdca26"
            ],
            [
             1,
             "#f0f921"
            ]
           ]
          },
          "colorway": [
           "#636efa",
           "#EF553B",
           "#00cc96",
           "#ab63fa",
           "#FFA15A",
           "#19d3f3",
           "#FF6692",
           "#B6E880",
           "#FF97FF",
           "#FECB52"
          ],
          "font": {
           "color": "#2a3f5f"
          },
          "geo": {
           "bgcolor": "white",
           "lakecolor": "white",
           "landcolor": "#E5ECF6",
           "showlakes": true,
           "showland": true,
           "subunitcolor": "white"
          },
          "hoverlabel": {
           "align": "left"
          },
          "hovermode": "closest",
          "mapbox": {
           "style": "light"
          },
          "paper_bgcolor": "white",
          "plot_bgcolor": "#E5ECF6",
          "polar": {
           "angularaxis": {
            "gridcolor": "white",
            "linecolor": "white",
            "ticks": ""
           },
           "bgcolor": "#E5ECF6",
           "radialaxis": {
            "gridcolor": "white",
            "linecolor": "white",
            "ticks": ""
           }
          },
          "scene": {
           "xaxis": {
            "backgroundcolor": "#E5ECF6",
            "gridcolor": "white",
            "gridwidth": 2,
            "linecolor": "white",
            "showbackground": true,
            "ticks": "",
            "zerolinecolor": "white"
           },
           "yaxis": {
            "backgroundcolor": "#E5ECF6",
            "gridcolor": "white",
            "gridwidth": 2,
            "linecolor": "white",
            "showbackground": true,
            "ticks": "",
            "zerolinecolor": "white"
           },
           "zaxis": {
            "backgroundcolor": "#E5ECF6",
            "gridcolor": "white",
            "gridwidth": 2,
            "linecolor": "white",
            "showbackground": true,
            "ticks": "",
            "zerolinecolor": "white"
           }
          },
          "shapedefaults": {
           "line": {
            "color": "#2a3f5f"
           }
          },
          "ternary": {
           "aaxis": {
            "gridcolor": "white",
            "linecolor": "white",
            "ticks": ""
           },
           "baxis": {
            "gridcolor": "white",
            "linecolor": "white",
            "ticks": ""
           },
           "bgcolor": "#E5ECF6",
           "caxis": {
            "gridcolor": "white",
            "linecolor": "white",
            "ticks": ""
           }
          },
          "title": {
           "x": 0.05
          },
          "xaxis": {
           "automargin": true,
           "gridcolor": "white",
           "linecolor": "white",
           "ticks": "",
           "title": {
            "standoff": 15
           },
           "zerolinecolor": "white",
           "zerolinewidth": 2
          },
          "yaxis": {
           "automargin": true,
           "gridcolor": "white",
           "linecolor": "white",
           "ticks": "",
           "title": {
            "standoff": 15
           },
           "zerolinecolor": "white",
           "zerolinewidth": 2
          }
         }
        },
        "title": {
         "text": "Pillar 1: Institutional Readiness"
        },
        "xaxis": {
         "anchor": "y",
         "domain": [
          0,
          1
         ],
         "dtick": 1,
         "matches": "x4",
         "range": [
          0,
          5
         ],
         "showticklabels": false,
         "tick0": 0,
         "title": {
          "text": "Level"
         }
        },
        "xaxis2": {
         "anchor": "y2",
         "domain": [
          0,
          1
         ],
         "matches": "x4",
         "showticklabels": false
        },
        "xaxis3": {
         "anchor": "y3",
         "domain": [
          0,
          1
         ],
         "matches": "x4",
         "showticklabels": false
        },
        "xaxis4": {
         "anchor": "y4",
         "domain": [
          0,
          1
         ]
        },
        "yaxis": {
         "anchor": "x",
         "automargin": true,
         "categoryarray": [
          "Have specific program objectives been identified and embedded?",
          "Are insurance program objectives aligned with broader policy agendas?",
          "Has the government assessed the benefits of an insurance program?"
         ],
         "categoryorder": "array",
         "domain": [
          0.7875,
          1
         ]
        },
        "yaxis2": {
         "anchor": "x2",
         "automargin": true,
         "categoryarray": [
          "Has an entity been assigned or established to manage the program?",
          "Is there a legislation/regulation framework for the program?",
          "Have you decided which parts of government will be invited/mandated to participate in the program?"
         ],
         "categoryorder": "array",
         "domain": [
          0.525,
          0.7375
         ]
        },
        "yaxis3": {
         "anchor": "x3",
         "automargin": true,
         "categoryarray": [
          "Does the program have documentation defining how governance of the program will work\n(i.e., a governance framework)?",
          "Does the program have sufficient funding arrangements?"
         ],
         "categoryorder": "array",
         "domain": [
          0.2625,
          0.475
         ]
        },
        "yaxis4": {
         "anchor": "x4",
         "automargin": true,
         "categoryarray": [
          "Does the program have effective assurance mechanisms?",
          "Does the program have regular and effective reporting?",
          "Is the governance framework independent and accountable to stakeholders?"
         ],
         "categoryorder": "array",
         "domain": [
          0,
          0.2125
         ]
        }
       }
      }
     },
     "metadata": {},
     "output_type": "display_data"
    }
   ],
   "source": [
    "import pandas as pd\n",
    "import plotly.graph_objects as go\n",
    "from plotly.subplots import make_subplots\n",
    "\n",
    "# 1) Préparez votre dataframe\n",
    "df = pd.DataFrame({\n",
    "    \"question\": questions,\n",
    "    \"category\": categories,\n",
    "    \"Current\": current,\n",
    "    \"Aspirational\": aspirational\n",
    "})\n",
    "\n",
    "# L’ordre des catégories et quelques styles\n",
    "cats = [\"Strategic Alignment\",\n",
    "        \"Policy & Legislation\",\n",
    "        \"Funding & Financial Settings\",\n",
    "        \"Governance\"]\n",
    "colors = {\"Current\":\"steelblue\",\"Aspirational\":\"darkorange\"}\n",
    "\n",
    "# 2) Créez 4 sous-plots empilés verticalement, axes X partagés\n",
    "fig = make_subplots(\n",
    "    rows=len(cats), cols=1,\n",
    "    shared_xaxes=True,\n",
    "    vertical_spacing=0.05,\n",
    "    subplot_titles=cats\n",
    ")\n",
    "\n",
    "# 3) Pour chaque catégorie, ajoutez les barres filtrées & réglez l'axe Y\n",
    "for i, cat in enumerate(cats, start=1):\n",
    "    dfc = df[df[\"category\"] == cat]\n",
    "    # barres empilées\n",
    "    fig.add_trace(\n",
    "        go.Bar(\n",
    "            x=dfc[\"Current\"],\n",
    "            y=dfc[\"question\"],\n",
    "            orientation=\"h\",\n",
    "            name=\"Current\" if i==1 else None,\n",
    "            marker_color=colors[\"Current\"],\n",
    "            showlegend=(i==1)\n",
    "        ),\n",
    "        row=i, col=1\n",
    "    )\n",
    "    fig.add_trace(\n",
    "        go.Bar(\n",
    "            x=dfc[\"Aspirational\"],\n",
    "            y=dfc[\"question\"],\n",
    "            orientation=\"h\",\n",
    "            name=\"Aspirational\" if i==1 else None,\n",
    "            marker_color=colors[\"Aspirational\"],\n",
    "            showlegend=(i==1)\n",
    "        ),\n",
    "        row=i, col=1\n",
    "    )\n",
    "    # on inverse l’ordre pour avoir la première question en haut\n",
    "    fig.update_yaxes(\n",
    "        categoryorder=\"array\",\n",
    "        categoryarray=dfc[\"question\"].tolist()[::-1],\n",
    "        automargin=True,\n",
    "        row=i, col=1\n",
    "    )\n",
    "\n",
    "# 4) Mise en page générale\n",
    "fig.update_layout(\n",
    "    height=900,\n",
    "    barmode=\"stack\",\n",
    "    title=\"Pillar 1: Institutional Readiness\",\n",
    "    xaxis=dict(title=\"Level\", tick0=0, dtick=1, range=[0,5]),\n",
    "    margin=dict(l=350, r=40, t=100, b=40),\n",
    "    legend=dict(orientation=\"h\", yanchor=\"bottom\", y=1.02, xanchor=\"right\", x=1)\n",
    ")\n",
    "\n",
    "fig.show()\n"
   ]
  },
  {
   "cell_type": "code",
   "execution_count": 8,
   "id": "5fbf63a3",
   "metadata": {},
   "outputs": [
    {
     "data": {
      "application/vnd.plotly.v1+json": {
       "config": {
        "plotlyServerURL": "https://plot.ly"
       },
       "data": [
        {
         "marker": {
          "color": "steelblue"
         },
         "name": "Current",
         "orientation": "h",
         "showlegend": true,
         "type": "bar",
         "x": [
          0,
          0,
          2
         ],
         "xaxis": "x",
         "y": [
          "Has the government assessed the benefits of an insurance program?",
          "Are insurance program objectives aligned with broader policy agendas?",
          "Have specific program objectives been identified and embedded?"
         ],
         "yaxis": "y"
        },
        {
         "marker": {
          "color": "darkorange"
         },
         "name": "Aspirational",
         "orientation": "h",
         "showlegend": true,
         "type": "bar",
         "x": [
          0,
          0,
          3
         ],
         "xaxis": "x",
         "y": [
          "Has the government assessed the benefits of an insurance program?",
          "Are insurance program objectives aligned with broader policy agendas?",
          "Have specific program objectives been identified and embedded?"
         ],
         "yaxis": "y"
        },
        {
         "marker": {
          "color": "steelblue"
         },
         "orientation": "h",
         "showlegend": false,
         "type": "bar",
         "x": [
          1,
          2,
          0
         ],
         "xaxis": "x2",
         "y": [
          "Have you decided which parts of government will be invited/mandated to participate in the program?",
          "Is there a legislation/regulation framework for the program?",
          "Has an entity been assigned or established to manage the program?"
         ],
         "yaxis": "y2"
        },
        {
         "marker": {
          "color": "darkorange"
         },
         "orientation": "h",
         "showlegend": false,
         "type": "bar",
         "x": [
          4,
          3,
          0
         ],
         "xaxis": "x2",
         "y": [
          "Have you decided which parts of government will be invited/mandated to participate in the program?",
          "Is there a legislation/regulation framework for the program?",
          "Has an entity been assigned or established to manage the program?"
         ],
         "yaxis": "y2"
        },
        {
         "marker": {
          "color": "steelblue"
         },
         "orientation": "h",
         "showlegend": false,
         "type": "bar",
         "x": [
          2,
          1
         ],
         "xaxis": "x3",
         "y": [
          "Does the program have sufficient funding arrangements?",
          "Does the program have documentation defining how governance of the program will work\n(i.e., a governance framework)?"
         ],
         "yaxis": "y3"
        },
        {
         "marker": {
          "color": "darkorange"
         },
         "orientation": "h",
         "showlegend": false,
         "type": "bar",
         "x": [
          1,
          4
         ],
         "xaxis": "x3",
         "y": [
          "Does the program have sufficient funding arrangements?",
          "Does the program have documentation defining how governance of the program will work\n(i.e., a governance framework)?"
         ],
         "yaxis": "y3"
        },
        {
         "marker": {
          "color": "steelblue"
         },
         "orientation": "h",
         "showlegend": false,
         "type": "bar",
         "x": [
          0,
          0,
          0
         ],
         "xaxis": "x4",
         "y": [
          "Is the governance framework independent and accountable to stakeholders?",
          "Does the program have regular and effective reporting?",
          "Does the program have effective assurance mechanisms?"
         ],
         "yaxis": "y4"
        },
        {
         "marker": {
          "color": "darkorange"
         },
         "orientation": "h",
         "showlegend": false,
         "type": "bar",
         "x": [
          0,
          0,
          0
         ],
         "xaxis": "x4",
         "y": [
          "Is the governance framework independent and accountable to stakeholders?",
          "Does the program have regular and effective reporting?",
          "Does the program have effective assurance mechanisms?"
         ],
         "yaxis": "y4"
        }
       ],
       "layout": {
        "annotations": [
         {
          "font": {
           "size": 14
          },
          "showarrow": false,
          "text": "Strategic Alignment",
          "textangle": 90,
          "x": 1.02,
          "xanchor": "left",
          "xref": "paper",
          "y": 0.8824999999999998,
          "yref": "paper"
         },
         {
          "font": {
           "size": 14
          },
          "showarrow": false,
          "text": "Policy & Legislation",
          "textangle": 90,
          "x": 1.02,
          "xanchor": "left",
          "xref": "paper",
          "y": 0.6275,
          "yref": "paper"
         },
         {
          "font": {
           "size": 14
          },
          "showarrow": false,
          "text": "Funding & Financial Settings",
          "textangle": 90,
          "x": 1.02,
          "xanchor": "left",
          "xref": "paper",
          "y": 0.3725,
          "yref": "paper"
         },
         {
          "font": {
           "size": 14
          },
          "showarrow": false,
          "text": "Governance",
          "textangle": 90,
          "x": 1.02,
          "xanchor": "left",
          "xref": "paper",
          "y": 0.1175,
          "yref": "paper"
         }
        ],
        "barmode": "stack",
        "height": 900,
        "legend": {
         "orientation": "h",
         "x": 1,
         "xanchor": "right",
         "y": 1.02,
         "yanchor": "bottom"
        },
        "margin": {
         "b": 40,
         "l": 200,
         "r": 200,
         "t": 80
        },
        "template": {
         "data": {
          "bar": [
           {
            "error_x": {
             "color": "#2a3f5f"
            },
            "error_y": {
             "color": "#2a3f5f"
            },
            "marker": {
             "line": {
              "color": "#E5ECF6",
              "width": 0.5
             },
             "pattern": {
              "fillmode": "overlay",
              "size": 10,
              "solidity": 0.2
             }
            },
            "type": "bar"
           }
          ],
          "barpolar": [
           {
            "marker": {
             "line": {
              "color": "#E5ECF6",
              "width": 0.5
             },
             "pattern": {
              "fillmode": "overlay",
              "size": 10,
              "solidity": 0.2
             }
            },
            "type": "barpolar"
           }
          ],
          "carpet": [
           {
            "aaxis": {
             "endlinecolor": "#2a3f5f",
             "gridcolor": "white",
             "linecolor": "white",
             "minorgridcolor": "white",
             "startlinecolor": "#2a3f5f"
            },
            "baxis": {
             "endlinecolor": "#2a3f5f",
             "gridcolor": "white",
             "linecolor": "white",
             "minorgridcolor": "white",
             "startlinecolor": "#2a3f5f"
            },
            "type": "carpet"
           }
          ],
          "choropleth": [
           {
            "colorbar": {
             "outlinewidth": 0,
             "ticks": ""
            },
            "type": "choropleth"
           }
          ],
          "contour": [
           {
            "colorbar": {
             "outlinewidth": 0,
             "ticks": ""
            },
            "colorscale": [
             [
              0,
              "#0d0887"
             ],
             [
              0.1111111111111111,
              "#46039f"
             ],
             [
              0.2222222222222222,
              "#7201a8"
             ],
             [
              0.3333333333333333,
              "#9c179e"
             ],
             [
              0.4444444444444444,
              "#bd3786"
             ],
             [
              0.5555555555555556,
              "#d8576b"
             ],
             [
              0.6666666666666666,
              "#ed7953"
             ],
             [
              0.7777777777777778,
              "#fb9f3a"
             ],
             [
              0.8888888888888888,
              "#fdca26"
             ],
             [
              1,
              "#f0f921"
             ]
            ],
            "type": "contour"
           }
          ],
          "contourcarpet": [
           {
            "colorbar": {
             "outlinewidth": 0,
             "ticks": ""
            },
            "type": "contourcarpet"
           }
          ],
          "heatmap": [
           {
            "colorbar": {
             "outlinewidth": 0,
             "ticks": ""
            },
            "colorscale": [
             [
              0,
              "#0d0887"
             ],
             [
              0.1111111111111111,
              "#46039f"
             ],
             [
              0.2222222222222222,
              "#7201a8"
             ],
             [
              0.3333333333333333,
              "#9c179e"
             ],
             [
              0.4444444444444444,
              "#bd3786"
             ],
             [
              0.5555555555555556,
              "#d8576b"
             ],
             [
              0.6666666666666666,
              "#ed7953"
             ],
             [
              0.7777777777777778,
              "#fb9f3a"
             ],
             [
              0.8888888888888888,
              "#fdca26"
             ],
             [
              1,
              "#f0f921"
             ]
            ],
            "type": "heatmap"
           }
          ],
          "heatmapgl": [
           {
            "colorbar": {
             "outlinewidth": 0,
             "ticks": ""
            },
            "colorscale": [
             [
              0,
              "#0d0887"
             ],
             [
              0.1111111111111111,
              "#46039f"
             ],
             [
              0.2222222222222222,
              "#7201a8"
             ],
             [
              0.3333333333333333,
              "#9c179e"
             ],
             [
              0.4444444444444444,
              "#bd3786"
             ],
             [
              0.5555555555555556,
              "#d8576b"
             ],
             [
              0.6666666666666666,
              "#ed7953"
             ],
             [
              0.7777777777777778,
              "#fb9f3a"
             ],
             [
              0.8888888888888888,
              "#fdca26"
             ],
             [
              1,
              "#f0f921"
             ]
            ],
            "type": "heatmapgl"
           }
          ],
          "histogram": [
           {
            "marker": {
             "pattern": {
              "fillmode": "overlay",
              "size": 10,
              "solidity": 0.2
             }
            },
            "type": "histogram"
           }
          ],
          "histogram2d": [
           {
            "colorbar": {
             "outlinewidth": 0,
             "ticks": ""
            },
            "colorscale": [
             [
              0,
              "#0d0887"
             ],
             [
              0.1111111111111111,
              "#46039f"
             ],
             [
              0.2222222222222222,
              "#7201a8"
             ],
             [
              0.3333333333333333,
              "#9c179e"
             ],
             [
              0.4444444444444444,
              "#bd3786"
             ],
             [
              0.5555555555555556,
              "#d8576b"
             ],
             [
              0.6666666666666666,
              "#ed7953"
             ],
             [
              0.7777777777777778,
              "#fb9f3a"
             ],
             [
              0.8888888888888888,
              "#fdca26"
             ],
             [
              1,
              "#f0f921"
             ]
            ],
            "type": "histogram2d"
           }
          ],
          "histogram2dcontour": [
           {
            "colorbar": {
             "outlinewidth": 0,
             "ticks": ""
            },
            "colorscale": [
             [
              0,
              "#0d0887"
             ],
             [
              0.1111111111111111,
              "#46039f"
             ],
             [
              0.2222222222222222,
              "#7201a8"
             ],
             [
              0.3333333333333333,
              "#9c179e"
             ],
             [
              0.4444444444444444,
              "#bd3786"
             ],
             [
              0.5555555555555556,
              "#d8576b"
             ],
             [
              0.6666666666666666,
              "#ed7953"
             ],
             [
              0.7777777777777778,
              "#fb9f3a"
             ],
             [
              0.8888888888888888,
              "#fdca26"
             ],
             [
              1,
              "#f0f921"
             ]
            ],
            "type": "histogram2dcontour"
           }
          ],
          "mesh3d": [
           {
            "colorbar": {
             "outlinewidth": 0,
             "ticks": ""
            },
            "type": "mesh3d"
           }
          ],
          "parcoords": [
           {
            "line": {
             "colorbar": {
              "outlinewidth": 0,
              "ticks": ""
             }
            },
            "type": "parcoords"
           }
          ],
          "pie": [
           {
            "automargin": true,
            "type": "pie"
           }
          ],
          "scatter": [
           {
            "fillpattern": {
             "fillmode": "overlay",
             "size": 10,
             "solidity": 0.2
            },
            "type": "scatter"
           }
          ],
          "scatter3d": [
           {
            "line": {
             "colorbar": {
              "outlinewidth": 0,
              "ticks": ""
             }
            },
            "marker": {
             "colorbar": {
              "outlinewidth": 0,
              "ticks": ""
             }
            },
            "type": "scatter3d"
           }
          ],
          "scattercarpet": [
           {
            "marker": {
             "colorbar": {
              "outlinewidth": 0,
              "ticks": ""
             }
            },
            "type": "scattercarpet"
           }
          ],
          "scattergeo": [
           {
            "marker": {
             "colorbar": {
              "outlinewidth": 0,
              "ticks": ""
             }
            },
            "type": "scattergeo"
           }
          ],
          "scattergl": [
           {
            "marker": {
             "colorbar": {
              "outlinewidth": 0,
              "ticks": ""
             }
            },
            "type": "scattergl"
           }
          ],
          "scattermapbox": [
           {
            "marker": {
             "colorbar": {
              "outlinewidth": 0,
              "ticks": ""
             }
            },
            "type": "scattermapbox"
           }
          ],
          "scatterpolar": [
           {
            "marker": {
             "colorbar": {
              "outlinewidth": 0,
              "ticks": ""
             }
            },
            "type": "scatterpolar"
           }
          ],
          "scatterpolargl": [
           {
            "marker": {
             "colorbar": {
              "outlinewidth": 0,
              "ticks": ""
             }
            },
            "type": "scatterpolargl"
           }
          ],
          "scatterternary": [
           {
            "marker": {
             "colorbar": {
              "outlinewidth": 0,
              "ticks": ""
             }
            },
            "type": "scatterternary"
           }
          ],
          "surface": [
           {
            "colorbar": {
             "outlinewidth": 0,
             "ticks": ""
            },
            "colorscale": [
             [
              0,
              "#0d0887"
             ],
             [
              0.1111111111111111,
              "#46039f"
             ],
             [
              0.2222222222222222,
              "#7201a8"
             ],
             [
              0.3333333333333333,
              "#9c179e"
             ],
             [
              0.4444444444444444,
              "#bd3786"
             ],
             [
              0.5555555555555556,
              "#d8576b"
             ],
             [
              0.6666666666666666,
              "#ed7953"
             ],
             [
              0.7777777777777778,
              "#fb9f3a"
             ],
             [
              0.8888888888888888,
              "#fdca26"
             ],
             [
              1,
              "#f0f921"
             ]
            ],
            "type": "surface"
           }
          ],
          "table": [
           {
            "cells": {
             "fill": {
              "color": "#EBF0F8"
             },
             "line": {
              "color": "white"
             }
            },
            "header": {
             "fill": {
              "color": "#C8D4E3"
             },
             "line": {
              "color": "white"
             }
            },
            "type": "table"
           }
          ]
         },
         "layout": {
          "annotationdefaults": {
           "arrowcolor": "#2a3f5f",
           "arrowhead": 0,
           "arrowwidth": 1
          },
          "autotypenumbers": "strict",
          "coloraxis": {
           "colorbar": {
            "outlinewidth": 0,
            "ticks": ""
           }
          },
          "colorscale": {
           "diverging": [
            [
             0,
             "#8e0152"
            ],
            [
             0.1,
             "#c51b7d"
            ],
            [
             0.2,
             "#de77ae"
            ],
            [
             0.3,
             "#f1b6da"
            ],
            [
             0.4,
             "#fde0ef"
            ],
            [
             0.5,
             "#f7f7f7"
            ],
            [
             0.6,
             "#e6f5d0"
            ],
            [
             0.7,
             "#b8e186"
            ],
            [
             0.8,
             "#7fbc41"
            ],
            [
             0.9,
             "#4d9221"
            ],
            [
             1,
             "#276419"
            ]
           ],
           "sequential": [
            [
             0,
             "#0d0887"
            ],
            [
             0.1111111111111111,
             "#46039f"
            ],
            [
             0.2222222222222222,
             "#7201a8"
            ],
            [
             0.3333333333333333,
             "#9c179e"
            ],
            [
             0.4444444444444444,
             "#bd3786"
            ],
            [
             0.5555555555555556,
             "#d8576b"
            ],
            [
             0.6666666666666666,
             "#ed7953"
            ],
            [
             0.7777777777777778,
             "#fb9f3a"
            ],
            [
             0.8888888888888888,
             "#fdca26"
            ],
            [
             1,
             "#f0f921"
            ]
           ],
           "sequentialminus": [
            [
             0,
             "#0d0887"
            ],
            [
             0.1111111111111111,
             "#46039f"
            ],
            [
             0.2222222222222222,
             "#7201a8"
            ],
            [
             0.3333333333333333,
             "#9c179e"
            ],
            [
             0.4444444444444444,
             "#bd3786"
            ],
            [
             0.5555555555555556,
             "#d8576b"
            ],
            [
             0.6666666666666666,
             "#ed7953"
            ],
            [
             0.7777777777777778,
             "#fb9f3a"
            ],
            [
             0.8888888888888888,
             "#fdca26"
            ],
            [
             1,
             "#f0f921"
            ]
           ]
          },
          "colorway": [
           "#636efa",
           "#EF553B",
           "#00cc96",
           "#ab63fa",
           "#FFA15A",
           "#19d3f3",
           "#FF6692",
           "#B6E880",
           "#FF97FF",
           "#FECB52"
          ],
          "font": {
           "color": "#2a3f5f"
          },
          "geo": {
           "bgcolor": "white",
           "lakecolor": "white",
           "landcolor": "#E5ECF6",
           "showlakes": true,
           "showland": true,
           "subunitcolor": "white"
          },
          "hoverlabel": {
           "align": "left"
          },
          "hovermode": "closest",
          "mapbox": {
           "style": "light"
          },
          "paper_bgcolor": "white",
          "plot_bgcolor": "#E5ECF6",
          "polar": {
           "angularaxis": {
            "gridcolor": "white",
            "linecolor": "white",
            "ticks": ""
           },
           "bgcolor": "#E5ECF6",
           "radialaxis": {
            "gridcolor": "white",
            "linecolor": "white",
            "ticks": ""
           }
          },
          "scene": {
           "xaxis": {
            "backgroundcolor": "#E5ECF6",
            "gridcolor": "white",
            "gridwidth": 2,
            "linecolor": "white",
            "showbackground": true,
            "ticks": "",
            "zerolinecolor": "white"
           },
           "yaxis": {
            "backgroundcolor": "#E5ECF6",
            "gridcolor": "white",
            "gridwidth": 2,
            "linecolor": "white",
            "showbackground": true,
            "ticks": "",
            "zerolinecolor": "white"
           },
           "zaxis": {
            "backgroundcolor": "#E5ECF6",
            "gridcolor": "white",
            "gridwidth": 2,
            "linecolor": "white",
            "showbackground": true,
            "ticks": "",
            "zerolinecolor": "white"
           }
          },
          "shapedefaults": {
           "line": {
            "color": "#2a3f5f"
           }
          },
          "ternary": {
           "aaxis": {
            "gridcolor": "white",
            "linecolor": "white",
            "ticks": ""
           },
           "baxis": {
            "gridcolor": "white",
            "linecolor": "white",
            "ticks": ""
           },
           "bgcolor": "#E5ECF6",
           "caxis": {
            "gridcolor": "white",
            "linecolor": "white",
            "ticks": ""
           }
          },
          "title": {
           "x": 0.05
          },
          "xaxis": {
           "automargin": true,
           "gridcolor": "white",
           "linecolor": "white",
           "ticks": "",
           "title": {
            "standoff": 15
           },
           "zerolinecolor": "white",
           "zerolinewidth": 2
          },
          "yaxis": {
           "automargin": true,
           "gridcolor": "white",
           "linecolor": "white",
           "ticks": "",
           "title": {
            "standoff": 15
           },
           "zerolinecolor": "white",
           "zerolinewidth": 2
          }
         }
        },
        "title": {
         "text": "Pillar 1: Institutional Readiness"
        },
        "xaxis": {
         "anchor": "y",
         "domain": [
          0,
          1
         ],
         "matches": "x4",
         "showticklabels": false,
         "title": {
          "text": ""
         }
        },
        "xaxis2": {
         "anchor": "y2",
         "domain": [
          0,
          1
         ],
         "matches": "x4",
         "showticklabels": false,
         "title": {
          "text": ""
         }
        },
        "xaxis3": {
         "anchor": "y3",
         "domain": [
          0,
          1
         ],
         "matches": "x4",
         "showticklabels": false,
         "title": {
          "text": ""
         }
        },
        "xaxis4": {
         "anchor": "y4",
         "domain": [
          0,
          1
         ],
         "dtick": 1,
         "range": [
          0,
          5
         ],
         "tick0": 0,
         "title": {
          "text": "Level"
         }
        },
        "yaxis": {
         "anchor": "x",
         "automargin": true,
         "categoryarray": [
          "Have specific program objectives been identified and embedded?",
          "Are insurance program objectives aligned with broader policy agendas?",
          "Has the government assessed the benefits of an insurance program?"
         ],
         "categoryorder": "array",
         "domain": [
          0.7649999999999999,
          0.9999999999999999
         ]
        },
        "yaxis2": {
         "anchor": "x2",
         "automargin": true,
         "categoryarray": [
          "Has an entity been assigned or established to manage the program?",
          "Is there a legislation/regulation framework for the program?",
          "Have you decided which parts of government will be invited/mandated to participate in the program?"
         ],
         "categoryorder": "array",
         "domain": [
          0.51,
          0.745
         ]
        },
        "yaxis3": {
         "anchor": "x3",
         "automargin": true,
         "categoryarray": [
          "Does the program have documentation defining how governance of the program will work\n(i.e., a governance framework)?",
          "Does the program have sufficient funding arrangements?"
         ],
         "categoryorder": "array",
         "domain": [
          0.255,
          0.49
         ]
        },
        "yaxis4": {
         "anchor": "x4",
         "automargin": true,
         "categoryarray": [
          "Does the program have effective assurance mechanisms?",
          "Does the program have regular and effective reporting?",
          "Is the governance framework independent and accountable to stakeholders?"
         ],
         "categoryorder": "array",
         "domain": [
          0,
          0.235
         ]
        }
       }
      }
     },
     "metadata": {},
     "output_type": "display_data"
    }
   ],
   "source": [
    "import pandas as pd\n",
    "import plotly.graph_objects as go\n",
    "from plotly.subplots import make_subplots\n",
    "\n",
    "# 1) Préparez votre dataframe\n",
    "df = pd.DataFrame({\n",
    "    \"question\": questions,\n",
    "    \"category\": categories,\n",
    "    \"Current\": current,\n",
    "    \"Aspirational\": aspirational\n",
    "})\n",
    "\n",
    "cats = [\n",
    "    \"Strategic Alignment\",\n",
    "    \"Policy & Legislation\",\n",
    "    \"Funding & Financial Settings\",\n",
    "    \"Governance\"\n",
    "]\n",
    "colors = {\"Current\":\"steelblue\",\"Aspirational\":\"darkorange\"}\n",
    "\n",
    "# 2) Créez 4 sous-plots verticaux, avec très peu d'espacement\n",
    "fig = make_subplots(\n",
    "    rows=len(cats), cols=1,\n",
    "    shared_xaxes=True,\n",
    "    vertical_spacing=0.02,\n",
    "    subplot_titles=[\"\"]*len(cats)   # on vide les titres par défaut\n",
    ")\n",
    "\n",
    "# 3) Tracez vos barres par groupe\n",
    "for i, cat in enumerate(cats, start=1):\n",
    "    dfi = df[df[\"category\"] == cat]\n",
    "    fig.add_trace(\n",
    "        go.Bar(\n",
    "            x=dfi[\"Current\"], y=dfi[\"question\"],\n",
    "            orientation=\"h\",\n",
    "            name=\"Current\" if i==1 else None,\n",
    "            marker_color=colors[\"Current\"],\n",
    "            showlegend=(i==1)\n",
    "        ),\n",
    "        row=i, col=1\n",
    "    )\n",
    "    fig.add_trace(\n",
    "        go.Bar(\n",
    "            x=dfi[\"Aspirational\"], y=dfi[\"question\"],\n",
    "            orientation=\"h\",\n",
    "            name=\"Aspirational\" if i==1 else None,\n",
    "            marker_color=colors[\"Aspirational\"],\n",
    "            showlegend=(i==1)\n",
    "        ),\n",
    "        row=i, col=1\n",
    "    )\n",
    "    # Axes Y inversés pour avoir la première question en haut\n",
    "    fig.update_yaxes(\n",
    "        categoryorder=\"array\",\n",
    "        categoryarray=dfi[\"question\"].tolist()[::-1],\n",
    "        automargin=True,\n",
    "        row=i, col=1\n",
    "    )\n",
    "\n",
    "# 4) Mise en page générale :\n",
    "#    - on supprime le titre x commun\n",
    "#    - on n'affiche “Level” QUE sous le dernier plot\n",
    "fig.update_layout(\n",
    "    height=900,\n",
    "    barmode=\"stack\",\n",
    "    title=\"Pillar 1: Institutional Readiness\",\n",
    "    margin=dict(l=200, r=200, t=80, b=40),\n",
    "    legend=dict(orientation=\"h\", yanchor=\"bottom\", y=1.02, xanchor=\"right\", x=1)\n",
    ")\n",
    "# Supprime le titre sur tous les axes X…\n",
    "for i in range(1, len(cats)+1):\n",
    "    fig.update_xaxes(title_text=\"\", row=i, col=1)\n",
    "# …puis on le remet sous le dernier\n",
    "fig.update_xaxes(\n",
    "    title_text=\"Level\",\n",
    "    tick0=0, dtick=1, range=[0,5],\n",
    "    row=len(cats), col=1\n",
    ")\n",
    "\n",
    "# 5) Annotations “section” SUR LE BORD DROIT\n",
    "for i, cat in enumerate(cats, start=1):\n",
    "    dom = fig.layout[f\"yaxis{i}\"].domain\n",
    "    y_center = (dom[0] + dom[1]) / 2\n",
    "    fig.add_annotation(\n",
    "        xref=\"paper\", x=1.02,         # un peu à droite du plot (paper coord)\n",
    "        xanchor=\"left\",\n",
    "        yref=\"paper\", y=y_center,     # position verticale centrée sur le domain\n",
    "        text=cat,\n",
    "        showarrow=False,\n",
    "        textangle=90,\n",
    "        font=dict(size=14)\n",
    "    )\n",
    "\n",
    "fig.show()\n"
   ]
  },
  {
   "cell_type": "code",
   "execution_count": 12,
   "id": "53fb86f3",
   "metadata": {},
   "outputs": [
    {
     "data": {
      "application/vnd.plotly.v1+json": {
       "config": {
        "plotlyServerURL": "https://plot.ly"
       },
       "data": [
        {
         "marker": {
          "color": "steelblue"
         },
         "name": "Current",
         "orientation": "h",
         "showlegend": true,
         "type": "bar",
         "x": [
          0,
          0,
          2
         ],
         "xaxis": "x",
         "y": [
          "Has the government assessed the benefits of an insurance program?",
          "Are insurance program objectives aligned with broader policy agendas?",
          "Have specific program objectives been identified and embedded?"
         ],
         "yaxis": "y"
        },
        {
         "marker": {
          "color": "darkorange"
         },
         "name": "Aspirational",
         "orientation": "h",
         "showlegend": true,
         "type": "bar",
         "x": [
          0,
          0,
          3
         ],
         "xaxis": "x",
         "y": [
          "Has the government assessed the benefits of an insurance program?",
          "Are insurance program objectives aligned with broader policy agendas?",
          "Have specific program objectives been identified and embedded?"
         ],
         "yaxis": "y"
        },
        {
         "marker": {
          "color": "steelblue"
         },
         "orientation": "h",
         "showlegend": false,
         "type": "bar",
         "x": [
          1,
          2,
          0
         ],
         "xaxis": "x2",
         "y": [
          "Have you decided which parts of government will be invited/mandated to participate in the program?",
          "Is there a legislation/regulation framework for the program?",
          "Has an entity been assigned or established to manage the program?"
         ],
         "yaxis": "y2"
        },
        {
         "marker": {
          "color": "darkorange"
         },
         "orientation": "h",
         "showlegend": false,
         "type": "bar",
         "x": [
          4,
          3,
          0
         ],
         "xaxis": "x2",
         "y": [
          "Have you decided which parts of government will be invited/mandated to participate in the program?",
          "Is there a legislation/regulation framework for the program?",
          "Has an entity been assigned or established to manage the program?"
         ],
         "yaxis": "y2"
        },
        {
         "marker": {
          "color": "steelblue"
         },
         "orientation": "h",
         "showlegend": false,
         "type": "bar",
         "x": [
          2,
          1
         ],
         "xaxis": "x3",
         "y": [
          "Does the program have sufficient funding arrangements?",
          "Does the program have documentation defining how governance of the program will work\n(i.e., a governance framework)?"
         ],
         "yaxis": "y3"
        },
        {
         "marker": {
          "color": "darkorange"
         },
         "orientation": "h",
         "showlegend": false,
         "type": "bar",
         "x": [
          1,
          4
         ],
         "xaxis": "x3",
         "y": [
          "Does the program have sufficient funding arrangements?",
          "Does the program have documentation defining how governance of the program will work\n(i.e., a governance framework)?"
         ],
         "yaxis": "y3"
        },
        {
         "marker": {
          "color": "steelblue"
         },
         "orientation": "h",
         "showlegend": false,
         "type": "bar",
         "x": [
          0,
          0,
          0
         ],
         "xaxis": "x4",
         "y": [
          "Is the governance framework independent and accountable to stakeholders?",
          "Does the program have regular and effective reporting?",
          "Does the program have effective assurance mechanisms?"
         ],
         "yaxis": "y4"
        },
        {
         "marker": {
          "color": "darkorange"
         },
         "orientation": "h",
         "showlegend": false,
         "type": "bar",
         "x": [
          0,
          0,
          0
         ],
         "xaxis": "x4",
         "y": [
          "Is the governance framework independent and accountable to stakeholders?",
          "Does the program have regular and effective reporting?",
          "Does the program have effective assurance mechanisms?"
         ],
         "yaxis": "y4"
        }
       ],
       "layout": {
        "annotations": [
         {
          "font": {
           "size": 14
          },
          "showarrow": false,
          "text": "Strategic Alignment",
          "textangle": 90,
          "x": 1.02,
          "xanchor": "left",
          "xref": "paper",
          "y": 0.8824999999999998,
          "yref": "paper"
         },
         {
          "font": {
           "size": 14
          },
          "showarrow": false,
          "text": "Policy & Legislation",
          "textangle": 90,
          "x": 1.02,
          "xanchor": "left",
          "xref": "paper",
          "y": 0.6275,
          "yref": "paper"
         },
         {
          "font": {
           "size": 14
          },
          "showarrow": false,
          "text": "Funding & Financial Settings",
          "textangle": 90,
          "x": 1.02,
          "xanchor": "left",
          "xref": "paper",
          "y": 0.3725,
          "yref": "paper"
         },
         {
          "font": {
           "size": 14
          },
          "showarrow": false,
          "text": "Governance",
          "textangle": 90,
          "x": 1.02,
          "xanchor": "left",
          "xref": "paper",
          "y": 0.1175,
          "yref": "paper"
         }
        ],
        "barmode": "stack",
        "height": 900,
        "legend": {
         "orientation": "h",
         "x": 1,
         "xanchor": "right",
         "y": 1.02,
         "yanchor": "bottom"
        },
        "margin": {
         "b": 40,
         "l": 200,
         "r": 200,
         "t": 80
        },
        "template": {
         "data": {
          "bar": [
           {
            "error_x": {
             "color": "#2a3f5f"
            },
            "error_y": {
             "color": "#2a3f5f"
            },
            "marker": {
             "line": {
              "color": "#E5ECF6",
              "width": 0.5
             },
             "pattern": {
              "fillmode": "overlay",
              "size": 10,
              "solidity": 0.2
             }
            },
            "type": "bar"
           }
          ],
          "barpolar": [
           {
            "marker": {
             "line": {
              "color": "#E5ECF6",
              "width": 0.5
             },
             "pattern": {
              "fillmode": "overlay",
              "size": 10,
              "solidity": 0.2
             }
            },
            "type": "barpolar"
           }
          ],
          "carpet": [
           {
            "aaxis": {
             "endlinecolor": "#2a3f5f",
             "gridcolor": "white",
             "linecolor": "white",
             "minorgridcolor": "white",
             "startlinecolor": "#2a3f5f"
            },
            "baxis": {
             "endlinecolor": "#2a3f5f",
             "gridcolor": "white",
             "linecolor": "white",
             "minorgridcolor": "white",
             "startlinecolor": "#2a3f5f"
            },
            "type": "carpet"
           }
          ],
          "choropleth": [
           {
            "colorbar": {
             "outlinewidth": 0,
             "ticks": ""
            },
            "type": "choropleth"
           }
          ],
          "contour": [
           {
            "colorbar": {
             "outlinewidth": 0,
             "ticks": ""
            },
            "colorscale": [
             [
              0,
              "#0d0887"
             ],
             [
              0.1111111111111111,
              "#46039f"
             ],
             [
              0.2222222222222222,
              "#7201a8"
             ],
             [
              0.3333333333333333,
              "#9c179e"
             ],
             [
              0.4444444444444444,
              "#bd3786"
             ],
             [
              0.5555555555555556,
              "#d8576b"
             ],
             [
              0.6666666666666666,
              "#ed7953"
             ],
             [
              0.7777777777777778,
              "#fb9f3a"
             ],
             [
              0.8888888888888888,
              "#fdca26"
             ],
             [
              1,
              "#f0f921"
             ]
            ],
            "type": "contour"
           }
          ],
          "contourcarpet": [
           {
            "colorbar": {
             "outlinewidth": 0,
             "ticks": ""
            },
            "type": "contourcarpet"
           }
          ],
          "heatmap": [
           {
            "colorbar": {
             "outlinewidth": 0,
             "ticks": ""
            },
            "colorscale": [
             [
              0,
              "#0d0887"
             ],
             [
              0.1111111111111111,
              "#46039f"
             ],
             [
              0.2222222222222222,
              "#7201a8"
             ],
             [
              0.3333333333333333,
              "#9c179e"
             ],
             [
              0.4444444444444444,
              "#bd3786"
             ],
             [
              0.5555555555555556,
              "#d8576b"
             ],
             [
              0.6666666666666666,
              "#ed7953"
             ],
             [
              0.7777777777777778,
              "#fb9f3a"
             ],
             [
              0.8888888888888888,
              "#fdca26"
             ],
             [
              1,
              "#f0f921"
             ]
            ],
            "type": "heatmap"
           }
          ],
          "heatmapgl": [
           {
            "colorbar": {
             "outlinewidth": 0,
             "ticks": ""
            },
            "colorscale": [
             [
              0,
              "#0d0887"
             ],
             [
              0.1111111111111111,
              "#46039f"
             ],
             [
              0.2222222222222222,
              "#7201a8"
             ],
             [
              0.3333333333333333,
              "#9c179e"
             ],
             [
              0.4444444444444444,
              "#bd3786"
             ],
             [
              0.5555555555555556,
              "#d8576b"
             ],
             [
              0.6666666666666666,
              "#ed7953"
             ],
             [
              0.7777777777777778,
              "#fb9f3a"
             ],
             [
              0.8888888888888888,
              "#fdca26"
             ],
             [
              1,
              "#f0f921"
             ]
            ],
            "type": "heatmapgl"
           }
          ],
          "histogram": [
           {
            "marker": {
             "pattern": {
              "fillmode": "overlay",
              "size": 10,
              "solidity": 0.2
             }
            },
            "type": "histogram"
           }
          ],
          "histogram2d": [
           {
            "colorbar": {
             "outlinewidth": 0,
             "ticks": ""
            },
            "colorscale": [
             [
              0,
              "#0d0887"
             ],
             [
              0.1111111111111111,
              "#46039f"
             ],
             [
              0.2222222222222222,
              "#7201a8"
             ],
             [
              0.3333333333333333,
              "#9c179e"
             ],
             [
              0.4444444444444444,
              "#bd3786"
             ],
             [
              0.5555555555555556,
              "#d8576b"
             ],
             [
              0.6666666666666666,
              "#ed7953"
             ],
             [
              0.7777777777777778,
              "#fb9f3a"
             ],
             [
              0.8888888888888888,
              "#fdca26"
             ],
             [
              1,
              "#f0f921"
             ]
            ],
            "type": "histogram2d"
           }
          ],
          "histogram2dcontour": [
           {
            "colorbar": {
             "outlinewidth": 0,
             "ticks": ""
            },
            "colorscale": [
             [
              0,
              "#0d0887"
             ],
             [
              0.1111111111111111,
              "#46039f"
             ],
             [
              0.2222222222222222,
              "#7201a8"
             ],
             [
              0.3333333333333333,
              "#9c179e"
             ],
             [
              0.4444444444444444,
              "#bd3786"
             ],
             [
              0.5555555555555556,
              "#d8576b"
             ],
             [
              0.6666666666666666,
              "#ed7953"
             ],
             [
              0.7777777777777778,
              "#fb9f3a"
             ],
             [
              0.8888888888888888,
              "#fdca26"
             ],
             [
              1,
              "#f0f921"
             ]
            ],
            "type": "histogram2dcontour"
           }
          ],
          "mesh3d": [
           {
            "colorbar": {
             "outlinewidth": 0,
             "ticks": ""
            },
            "type": "mesh3d"
           }
          ],
          "parcoords": [
           {
            "line": {
             "colorbar": {
              "outlinewidth": 0,
              "ticks": ""
             }
            },
            "type": "parcoords"
           }
          ],
          "pie": [
           {
            "automargin": true,
            "type": "pie"
           }
          ],
          "scatter": [
           {
            "fillpattern": {
             "fillmode": "overlay",
             "size": 10,
             "solidity": 0.2
            },
            "type": "scatter"
           }
          ],
          "scatter3d": [
           {
            "line": {
             "colorbar": {
              "outlinewidth": 0,
              "ticks": ""
             }
            },
            "marker": {
             "colorbar": {
              "outlinewidth": 0,
              "ticks": ""
             }
            },
            "type": "scatter3d"
           }
          ],
          "scattercarpet": [
           {
            "marker": {
             "colorbar": {
              "outlinewidth": 0,
              "ticks": ""
             }
            },
            "type": "scattercarpet"
           }
          ],
          "scattergeo": [
           {
            "marker": {
             "colorbar": {
              "outlinewidth": 0,
              "ticks": ""
             }
            },
            "type": "scattergeo"
           }
          ],
          "scattergl": [
           {
            "marker": {
             "colorbar": {
              "outlinewidth": 0,
              "ticks": ""
             }
            },
            "type": "scattergl"
           }
          ],
          "scattermapbox": [
           {
            "marker": {
             "colorbar": {
              "outlinewidth": 0,
              "ticks": ""
             }
            },
            "type": "scattermapbox"
           }
          ],
          "scatterpolar": [
           {
            "marker": {
             "colorbar": {
              "outlinewidth": 0,
              "ticks": ""
             }
            },
            "type": "scatterpolar"
           }
          ],
          "scatterpolargl": [
           {
            "marker": {
             "colorbar": {
              "outlinewidth": 0,
              "ticks": ""
             }
            },
            "type": "scatterpolargl"
           }
          ],
          "scatterternary": [
           {
            "marker": {
             "colorbar": {
              "outlinewidth": 0,
              "ticks": ""
             }
            },
            "type": "scatterternary"
           }
          ],
          "surface": [
           {
            "colorbar": {
             "outlinewidth": 0,
             "ticks": ""
            },
            "colorscale": [
             [
              0,
              "#0d0887"
             ],
             [
              0.1111111111111111,
              "#46039f"
             ],
             [
              0.2222222222222222,
              "#7201a8"
             ],
             [
              0.3333333333333333,
              "#9c179e"
             ],
             [
              0.4444444444444444,
              "#bd3786"
             ],
             [
              0.5555555555555556,
              "#d8576b"
             ],
             [
              0.6666666666666666,
              "#ed7953"
             ],
             [
              0.7777777777777778,
              "#fb9f3a"
             ],
             [
              0.8888888888888888,
              "#fdca26"
             ],
             [
              1,
              "#f0f921"
             ]
            ],
            "type": "surface"
           }
          ],
          "table": [
           {
            "cells": {
             "fill": {
              "color": "#EBF0F8"
             },
             "line": {
              "color": "white"
             }
            },
            "header": {
             "fill": {
              "color": "#C8D4E3"
             },
             "line": {
              "color": "white"
             }
            },
            "type": "table"
           }
          ]
         },
         "layout": {
          "annotationdefaults": {
           "arrowcolor": "#2a3f5f",
           "arrowhead": 0,
           "arrowwidth": 1
          },
          "autotypenumbers": "strict",
          "coloraxis": {
           "colorbar": {
            "outlinewidth": 0,
            "ticks": ""
           }
          },
          "colorscale": {
           "diverging": [
            [
             0,
             "#8e0152"
            ],
            [
             0.1,
             "#c51b7d"
            ],
            [
             0.2,
             "#de77ae"
            ],
            [
             0.3,
             "#f1b6da"
            ],
            [
             0.4,
             "#fde0ef"
            ],
            [
             0.5,
             "#f7f7f7"
            ],
            [
             0.6,
             "#e6f5d0"
            ],
            [
             0.7,
             "#b8e186"
            ],
            [
             0.8,
             "#7fbc41"
            ],
            [
             0.9,
             "#4d9221"
            ],
            [
             1,
             "#276419"
            ]
           ],
           "sequential": [
            [
             0,
             "#0d0887"
            ],
            [
             0.1111111111111111,
             "#46039f"
            ],
            [
             0.2222222222222222,
             "#7201a8"
            ],
            [
             0.3333333333333333,
             "#9c179e"
            ],
            [
             0.4444444444444444,
             "#bd3786"
            ],
            [
             0.5555555555555556,
             "#d8576b"
            ],
            [
             0.6666666666666666,
             "#ed7953"
            ],
            [
             0.7777777777777778,
             "#fb9f3a"
            ],
            [
             0.8888888888888888,
             "#fdca26"
            ],
            [
             1,
             "#f0f921"
            ]
           ],
           "sequentialminus": [
            [
             0,
             "#0d0887"
            ],
            [
             0.1111111111111111,
             "#46039f"
            ],
            [
             0.2222222222222222,
             "#7201a8"
            ],
            [
             0.3333333333333333,
             "#9c179e"
            ],
            [
             0.4444444444444444,
             "#bd3786"
            ],
            [
             0.5555555555555556,
             "#d8576b"
            ],
            [
             0.6666666666666666,
             "#ed7953"
            ],
            [
             0.7777777777777778,
             "#fb9f3a"
            ],
            [
             0.8888888888888888,
             "#fdca26"
            ],
            [
             1,
             "#f0f921"
            ]
           ]
          },
          "colorway": [
           "#636efa",
           "#EF553B",
           "#00cc96",
           "#ab63fa",
           "#FFA15A",
           "#19d3f3",
           "#FF6692",
           "#B6E880",
           "#FF97FF",
           "#FECB52"
          ],
          "font": {
           "color": "#2a3f5f"
          },
          "geo": {
           "bgcolor": "white",
           "lakecolor": "white",
           "landcolor": "#E5ECF6",
           "showlakes": true,
           "showland": true,
           "subunitcolor": "white"
          },
          "hoverlabel": {
           "align": "left"
          },
          "hovermode": "closest",
          "mapbox": {
           "style": "light"
          },
          "paper_bgcolor": "white",
          "plot_bgcolor": "#E5ECF6",
          "polar": {
           "angularaxis": {
            "gridcolor": "white",
            "linecolor": "white",
            "ticks": ""
           },
           "bgcolor": "#E5ECF6",
           "radialaxis": {
            "gridcolor": "white",
            "linecolor": "white",
            "ticks": ""
           }
          },
          "scene": {
           "xaxis": {
            "backgroundcolor": "#E5ECF6",
            "gridcolor": "white",
            "gridwidth": 2,
            "linecolor": "white",
            "showbackground": true,
            "ticks": "",
            "zerolinecolor": "white"
           },
           "yaxis": {
            "backgroundcolor": "#E5ECF6",
            "gridcolor": "white",
            "gridwidth": 2,
            "linecolor": "white",
            "showbackground": true,
            "ticks": "",
            "zerolinecolor": "white"
           },
           "zaxis": {
            "backgroundcolor": "#E5ECF6",
            "gridcolor": "white",
            "gridwidth": 2,
            "linecolor": "white",
            "showbackground": true,
            "ticks": "",
            "zerolinecolor": "white"
           }
          },
          "shapedefaults": {
           "line": {
            "color": "#2a3f5f"
           }
          },
          "ternary": {
           "aaxis": {
            "gridcolor": "white",
            "linecolor": "white",
            "ticks": ""
           },
           "baxis": {
            "gridcolor": "white",
            "linecolor": "white",
            "ticks": ""
           },
           "bgcolor": "#E5ECF6",
           "caxis": {
            "gridcolor": "white",
            "linecolor": "white",
            "ticks": ""
           }
          },
          "title": {
           "x": 0.05
          },
          "xaxis": {
           "automargin": true,
           "gridcolor": "white",
           "linecolor": "white",
           "ticks": "",
           "title": {
            "standoff": 15
           },
           "zerolinecolor": "white",
           "zerolinewidth": 2
          },
          "yaxis": {
           "automargin": true,
           "gridcolor": "white",
           "linecolor": "white",
           "ticks": "",
           "title": {
            "standoff": 15
           },
           "zerolinecolor": "white",
           "zerolinewidth": 2
          }
         }
        },
        "title": {
         "text": "Pillar 1: Institutional Readiness"
        },
        "xaxis": {
         "anchor": "y",
         "domain": [
          0,
          1
         ],
         "matches": "x4",
         "showticklabels": false,
         "title": {
          "text": ""
         }
        },
        "xaxis2": {
         "anchor": "y2",
         "domain": [
          0,
          1
         ],
         "matches": "x4",
         "showticklabels": false,
         "title": {
          "text": ""
         }
        },
        "xaxis3": {
         "anchor": "y3",
         "domain": [
          0,
          1
         ],
         "matches": "x4",
         "showticklabels": false,
         "title": {
          "text": ""
         }
        },
        "xaxis4": {
         "anchor": "y4",
         "domain": [
          0,
          1
         ],
         "dtick": 1,
         "range": [
          0,
          5
         ],
         "tick0": 0,
         "title": {
          "text": "Level"
         }
        },
        "yaxis": {
         "anchor": "x",
         "automargin": true,
         "categoryarray": [
          "Have specific program objectives been identified and embedded?",
          "Are insurance program objectives aligned with broader policy agendas?",
          "Has the government assessed the benefits of an insurance program?"
         ],
         "categoryorder": "array",
         "domain": [
          0.7649999999999999,
          0.9999999999999999
         ]
        },
        "yaxis2": {
         "anchor": "x2",
         "automargin": true,
         "categoryarray": [
          "Has an entity been assigned or established to manage the program?",
          "Is there a legislation/regulation framework for the program?",
          "Have you decided which parts of government will be invited/mandated to participate in the program?"
         ],
         "categoryorder": "array",
         "domain": [
          0.51,
          0.745
         ]
        },
        "yaxis3": {
         "anchor": "x3",
         "automargin": true,
         "categoryarray": [
          "Does the program have documentation defining how governance of the program will work\n(i.e., a governance framework)?",
          "Does the program have sufficient funding arrangements?"
         ],
         "categoryorder": "array",
         "domain": [
          0.255,
          0.49
         ]
        },
        "yaxis4": {
         "anchor": "x4",
         "automargin": true,
         "categoryarray": [
          "Does the program have effective assurance mechanisms?",
          "Does the program have regular and effective reporting?",
          "Is the governance framework independent and accountable to stakeholders?"
         ],
         "categoryorder": "array",
         "domain": [
          0,
          0.235
         ]
        }
       }
      }
     },
     "metadata": {},
     "output_type": "display_data"
    }
   ],
   "source": [
    "import pandas as pd\n",
    "import plotly.graph_objects as go\n",
    "from plotly.subplots import make_subplots\n",
    "\n",
    "# Vos données inchangées\n",
    "df = pd.DataFrame({\n",
    "    \"question\": questions,\n",
    "    \"category\": categories,\n",
    "    \"Current\": current,\n",
    "    \"Aspirational\": aspirational\n",
    "})\n",
    "cats = [\"Strategic Alignment\",\n",
    "        \"Policy & Legislation\",\n",
    "        \"Funding & Financial Settings\",\n",
    "        \"Governance\"]\n",
    "colors = {\"Current\":\"steelblue\",\"Aspirational\":\"darkorange\"}\n",
    "\n",
    "# Sous-plots verticaux, X partagé, espacement mini\n",
    "fig = make_subplots(\n",
    "    rows=4, cols=1,\n",
    "    shared_xaxes=True,\n",
    "    vertical_spacing=0.02,\n",
    "    subplot_titles=[\"\"]*4\n",
    ")\n",
    "\n",
    "# Tracé de base (sans width fixe)\n",
    "for i, cat in enumerate(cats, start=1):\n",
    "    dfi = df[df.category==cat]\n",
    "    fig.add_trace(go.Bar(\n",
    "        x=dfi[\"Current\"], y=dfi[\"question\"],\n",
    "        orientation=\"h\", marker_color=colors[\"Current\"],\n",
    "        name=\"Current\" if i==1 else None, showlegend=(i==1)\n",
    "    ), row=i, col=1)\n",
    "    fig.add_trace(go.Bar(\n",
    "        x=dfi[\"Aspirational\"], y=dfi[\"question\"],\n",
    "        orientation=\"h\", marker_color=colors[\"Aspirational\"],\n",
    "        name=\"Aspirational\" if i==1 else None, showlegend=(i==1)\n",
    "    ), row=i, col=1)\n",
    "    fig.update_yaxes(\n",
    "        categoryorder=\"array\",\n",
    "        categoryarray=dfi[\"question\"].tolist()[::-1],\n",
    "        automargin=True,\n",
    "        row=i, col=1\n",
    "    )\n",
    "\n",
    "# Mise en page\n",
    "fig.update_layout(\n",
    "    height=900,\n",
    "    barmode=\"stack\",\n",
    "    title=\"Pillar 1: Institutional Readiness\",\n",
    "    margin=dict(l=200, r=200, t=80, b=40),\n",
    "    legend=dict(orientation=\"h\", yanchor=\"bottom\", y=1.02, xanchor=\"right\", x=1)\n",
    ")\n",
    "# On cache tous les titres X et on réaffiche “Level” sur le dernier\n",
    "for i in range(1,5):\n",
    "    fig.update_xaxes(title_text=\"\", row=i, col=1)\n",
    "fig.update_xaxes(title_text=\"Level\", tick0=0, dtick=1, range=[0,5],\n",
    "                 row=4, col=1)\n",
    "\n",
    "# === NOUVEAU : annotations de section positionnées via domain ===\n",
    "for i, cat in enumerate(cats, start=1):\n",
    "    dom = fig.layout[f\"yaxis{i}\"].domain\n",
    "    y_center = (dom[0] + dom[1]) / 2\n",
    "    fig.add_annotation(\n",
    "        xref=\"paper\", x=1.02,         # légèrement à droite du plot\n",
    "        xanchor=\"left\",\n",
    "        yref=\"paper\",\n",
    "        y=y_center,     # centré sur le domaine de l'axe Y\n",
    "        text=cat,\n",
    "        showarrow=False,\n",
    "        textangle=90,\n",
    "        font=dict(size=14)\n",
    "    )\n",
    "\n",
    "fig.show()\n"
   ]
  },
  {
   "cell_type": "code",
   "execution_count": 21,
   "id": "5e78c74d",
   "metadata": {},
   "outputs": [
    {
     "data": {
      "application/vnd.plotly.v1+json": {
       "config": {
        "plotlyServerURL": "https://plot.ly"
       },
       "data": [
        {
         "marker": {
          "color": "steelblue"
         },
         "name": "Current",
         "orientation": "h",
         "showlegend": true,
         "type": "bar",
         "x": [
          0,
          0,
          2
         ],
         "xaxis": "x",
         "y": [
          "Has the government assessed the benefits of an insurance program?",
          "Are insurance program objectives aligned with broader policy agendas?",
          "Have specific program objectives been identified and embedded?"
         ],
         "yaxis": "y"
        },
        {
         "marker": {
          "color": "darkorange"
         },
         "name": "Aspirational",
         "orientation": "h",
         "showlegend": true,
         "type": "bar",
         "x": [
          0,
          0,
          3
         ],
         "xaxis": "x",
         "y": [
          "Has the government assessed the benefits of an insurance program?",
          "Are insurance program objectives aligned with broader policy agendas?",
          "Have specific program objectives been identified and embedded?"
         ],
         "yaxis": "y"
        },
        {
         "marker": {
          "color": "steelblue"
         },
         "orientation": "h",
         "showlegend": false,
         "type": "bar",
         "x": [
          1,
          2,
          0
         ],
         "xaxis": "x2",
         "y": [
          "Have you decided which parts of government will be invited/mandated to participate in the program?",
          "Is there a legislation/regulation framework for the program?",
          "Has an entity been assigned or established to manage the program?"
         ],
         "yaxis": "y2"
        },
        {
         "marker": {
          "color": "darkorange"
         },
         "orientation": "h",
         "showlegend": false,
         "type": "bar",
         "x": [
          4,
          3,
          0
         ],
         "xaxis": "x2",
         "y": [
          "Have you decided which parts of government will be invited/mandated to participate in the program?",
          "Is there a legislation/regulation framework for the program?",
          "Has an entity been assigned or established to manage the program?"
         ],
         "yaxis": "y2"
        },
        {
         "marker": {
          "color": "steelblue"
         },
         "orientation": "h",
         "showlegend": false,
         "type": "bar",
         "x": [
          2,
          1
         ],
         "xaxis": "x3",
         "y": [
          "Does the program have sufficient funding arrangements?",
          "Does the program have documentation defining how governance of the program will work\n(i.e., a governance framework)?"
         ],
         "yaxis": "y3"
        },
        {
         "marker": {
          "color": "darkorange"
         },
         "orientation": "h",
         "showlegend": false,
         "type": "bar",
         "x": [
          1,
          4
         ],
         "xaxis": "x3",
         "y": [
          "Does the program have sufficient funding arrangements?",
          "Does the program have documentation defining how governance of the program will work\n(i.e., a governance framework)?"
         ],
         "yaxis": "y3"
        },
        {
         "marker": {
          "color": "steelblue"
         },
         "orientation": "h",
         "showlegend": false,
         "type": "bar",
         "x": [
          0,
          0,
          0
         ],
         "xaxis": "x4",
         "y": [
          "Is the governance framework independent and accountable to stakeholders?",
          "Does the program have regular and effective reporting?",
          "Does the program have effective assurance mechanisms?"
         ],
         "yaxis": "y4"
        },
        {
         "marker": {
          "color": "darkorange"
         },
         "orientation": "h",
         "showlegend": false,
         "type": "bar",
         "x": [
          0,
          0,
          0
         ],
         "xaxis": "x4",
         "y": [
          "Is the governance framework independent and accountable to stakeholders?",
          "Does the program have regular and effective reporting?",
          "Does the program have effective assurance mechanisms?"
         ],
         "yaxis": "y4"
        }
       ],
       "layout": {
        "annotations": [
         {
          "font": {
           "size": 14
          },
          "showarrow": false,
          "text": "<b>Strategic Alignment</b>",
          "x": 0,
          "xanchor": "left",
          "xref": "paper",
          "y": "Are insurance program objectives aligned with broader policy agendas?",
          "yref": "y"
         },
         {
          "font": {
           "size": 14
          },
          "showarrow": false,
          "text": "<b>Policy & Legislation</b>",
          "x": 0,
          "xanchor": "left",
          "xref": "paper",
          "y": "Is there a legislation/regulation framework for the program?",
          "yref": "y2"
         },
         {
          "font": {
           "size": 14
          },
          "showarrow": false,
          "text": "<b>Funding & Financial Settings</b>",
          "x": 0,
          "xanchor": "left",
          "xref": "paper",
          "y": "Does the program have documentation defining how governance of the program will work\n(i.e., a governance framework)?",
          "yref": "y3"
         },
         {
          "font": {
           "size": 14
          },
          "showarrow": false,
          "text": "<b>Governance</b>",
          "x": 0,
          "xanchor": "left",
          "xref": "paper",
          "y": "Does the program have regular and effective reporting?",
          "yref": "y4"
         }
        ],
        "barmode": "stack",
        "height": 900,
        "legend": {
         "orientation": "h",
         "x": 1,
         "xanchor": "right",
         "y": 1.02,
         "yanchor": "bottom"
        },
        "margin": {
         "b": 40,
         "l": 350,
         "r": 40,
         "t": 80
        },
        "template": {
         "data": {
          "bar": [
           {
            "error_x": {
             "color": "#2a3f5f"
            },
            "error_y": {
             "color": "#2a3f5f"
            },
            "marker": {
             "line": {
              "color": "#E5ECF6",
              "width": 0.5
             },
             "pattern": {
              "fillmode": "overlay",
              "size": 10,
              "solidity": 0.2
             }
            },
            "type": "bar"
           }
          ],
          "barpolar": [
           {
            "marker": {
             "line": {
              "color": "#E5ECF6",
              "width": 0.5
             },
             "pattern": {
              "fillmode": "overlay",
              "size": 10,
              "solidity": 0.2
             }
            },
            "type": "barpolar"
           }
          ],
          "carpet": [
           {
            "aaxis": {
             "endlinecolor": "#2a3f5f",
             "gridcolor": "white",
             "linecolor": "white",
             "minorgridcolor": "white",
             "startlinecolor": "#2a3f5f"
            },
            "baxis": {
             "endlinecolor": "#2a3f5f",
             "gridcolor": "white",
             "linecolor": "white",
             "minorgridcolor": "white",
             "startlinecolor": "#2a3f5f"
            },
            "type": "carpet"
           }
          ],
          "choropleth": [
           {
            "colorbar": {
             "outlinewidth": 0,
             "ticks": ""
            },
            "type": "choropleth"
           }
          ],
          "contour": [
           {
            "colorbar": {
             "outlinewidth": 0,
             "ticks": ""
            },
            "colorscale": [
             [
              0,
              "#0d0887"
             ],
             [
              0.1111111111111111,
              "#46039f"
             ],
             [
              0.2222222222222222,
              "#7201a8"
             ],
             [
              0.3333333333333333,
              "#9c179e"
             ],
             [
              0.4444444444444444,
              "#bd3786"
             ],
             [
              0.5555555555555556,
              "#d8576b"
             ],
             [
              0.6666666666666666,
              "#ed7953"
             ],
             [
              0.7777777777777778,
              "#fb9f3a"
             ],
             [
              0.8888888888888888,
              "#fdca26"
             ],
             [
              1,
              "#f0f921"
             ]
            ],
            "type": "contour"
           }
          ],
          "contourcarpet": [
           {
            "colorbar": {
             "outlinewidth": 0,
             "ticks": ""
            },
            "type": "contourcarpet"
           }
          ],
          "heatmap": [
           {
            "colorbar": {
             "outlinewidth": 0,
             "ticks": ""
            },
            "colorscale": [
             [
              0,
              "#0d0887"
             ],
             [
              0.1111111111111111,
              "#46039f"
             ],
             [
              0.2222222222222222,
              "#7201a8"
             ],
             [
              0.3333333333333333,
              "#9c179e"
             ],
             [
              0.4444444444444444,
              "#bd3786"
             ],
             [
              0.5555555555555556,
              "#d8576b"
             ],
             [
              0.6666666666666666,
              "#ed7953"
             ],
             [
              0.7777777777777778,
              "#fb9f3a"
             ],
             [
              0.8888888888888888,
              "#fdca26"
             ],
             [
              1,
              "#f0f921"
             ]
            ],
            "type": "heatmap"
           }
          ],
          "heatmapgl": [
           {
            "colorbar": {
             "outlinewidth": 0,
             "ticks": ""
            },
            "colorscale": [
             [
              0,
              "#0d0887"
             ],
             [
              0.1111111111111111,
              "#46039f"
             ],
             [
              0.2222222222222222,
              "#7201a8"
             ],
             [
              0.3333333333333333,
              "#9c179e"
             ],
             [
              0.4444444444444444,
              "#bd3786"
             ],
             [
              0.5555555555555556,
              "#d8576b"
             ],
             [
              0.6666666666666666,
              "#ed7953"
             ],
             [
              0.7777777777777778,
              "#fb9f3a"
             ],
             [
              0.8888888888888888,
              "#fdca26"
             ],
             [
              1,
              "#f0f921"
             ]
            ],
            "type": "heatmapgl"
           }
          ],
          "histogram": [
           {
            "marker": {
             "pattern": {
              "fillmode": "overlay",
              "size": 10,
              "solidity": 0.2
             }
            },
            "type": "histogram"
           }
          ],
          "histogram2d": [
           {
            "colorbar": {
             "outlinewidth": 0,
             "ticks": ""
            },
            "colorscale": [
             [
              0,
              "#0d0887"
             ],
             [
              0.1111111111111111,
              "#46039f"
             ],
             [
              0.2222222222222222,
              "#7201a8"
             ],
             [
              0.3333333333333333,
              "#9c179e"
             ],
             [
              0.4444444444444444,
              "#bd3786"
             ],
             [
              0.5555555555555556,
              "#d8576b"
             ],
             [
              0.6666666666666666,
              "#ed7953"
             ],
             [
              0.7777777777777778,
              "#fb9f3a"
             ],
             [
              0.8888888888888888,
              "#fdca26"
             ],
             [
              1,
              "#f0f921"
             ]
            ],
            "type": "histogram2d"
           }
          ],
          "histogram2dcontour": [
           {
            "colorbar": {
             "outlinewidth": 0,
             "ticks": ""
            },
            "colorscale": [
             [
              0,
              "#0d0887"
             ],
             [
              0.1111111111111111,
              "#46039f"
             ],
             [
              0.2222222222222222,
              "#7201a8"
             ],
             [
              0.3333333333333333,
              "#9c179e"
             ],
             [
              0.4444444444444444,
              "#bd3786"
             ],
             [
              0.5555555555555556,
              "#d8576b"
             ],
             [
              0.6666666666666666,
              "#ed7953"
             ],
             [
              0.7777777777777778,
              "#fb9f3a"
             ],
             [
              0.8888888888888888,
              "#fdca26"
             ],
             [
              1,
              "#f0f921"
             ]
            ],
            "type": "histogram2dcontour"
           }
          ],
          "mesh3d": [
           {
            "colorbar": {
             "outlinewidth": 0,
             "ticks": ""
            },
            "type": "mesh3d"
           }
          ],
          "parcoords": [
           {
            "line": {
             "colorbar": {
              "outlinewidth": 0,
              "ticks": ""
             }
            },
            "type": "parcoords"
           }
          ],
          "pie": [
           {
            "automargin": true,
            "type": "pie"
           }
          ],
          "scatter": [
           {
            "fillpattern": {
             "fillmode": "overlay",
             "size": 10,
             "solidity": 0.2
            },
            "type": "scatter"
           }
          ],
          "scatter3d": [
           {
            "line": {
             "colorbar": {
              "outlinewidth": 0,
              "ticks": ""
             }
            },
            "marker": {
             "colorbar": {
              "outlinewidth": 0,
              "ticks": ""
             }
            },
            "type": "scatter3d"
           }
          ],
          "scattercarpet": [
           {
            "marker": {
             "colorbar": {
              "outlinewidth": 0,
              "ticks": ""
             }
            },
            "type": "scattercarpet"
           }
          ],
          "scattergeo": [
           {
            "marker": {
             "colorbar": {
              "outlinewidth": 0,
              "ticks": ""
             }
            },
            "type": "scattergeo"
           }
          ],
          "scattergl": [
           {
            "marker": {
             "colorbar": {
              "outlinewidth": 0,
              "ticks": ""
             }
            },
            "type": "scattergl"
           }
          ],
          "scattermapbox": [
           {
            "marker": {
             "colorbar": {
              "outlinewidth": 0,
              "ticks": ""
             }
            },
            "type": "scattermapbox"
           }
          ],
          "scatterpolar": [
           {
            "marker": {
             "colorbar": {
              "outlinewidth": 0,
              "ticks": ""
             }
            },
            "type": "scatterpolar"
           }
          ],
          "scatterpolargl": [
           {
            "marker": {
             "colorbar": {
              "outlinewidth": 0,
              "ticks": ""
             }
            },
            "type": "scatterpolargl"
           }
          ],
          "scatterternary": [
           {
            "marker": {
             "colorbar": {
              "outlinewidth": 0,
              "ticks": ""
             }
            },
            "type": "scatterternary"
           }
          ],
          "surface": [
           {
            "colorbar": {
             "outlinewidth": 0,
             "ticks": ""
            },
            "colorscale": [
             [
              0,
              "#0d0887"
             ],
             [
              0.1111111111111111,
              "#46039f"
             ],
             [
              0.2222222222222222,
              "#7201a8"
             ],
             [
              0.3333333333333333,
              "#9c179e"
             ],
             [
              0.4444444444444444,
              "#bd3786"
             ],
             [
              0.5555555555555556,
              "#d8576b"
             ],
             [
              0.6666666666666666,
              "#ed7953"
             ],
             [
              0.7777777777777778,
              "#fb9f3a"
             ],
             [
              0.8888888888888888,
              "#fdca26"
             ],
             [
              1,
              "#f0f921"
             ]
            ],
            "type": "surface"
           }
          ],
          "table": [
           {
            "cells": {
             "fill": {
              "color": "#EBF0F8"
             },
             "line": {
              "color": "white"
             }
            },
            "header": {
             "fill": {
              "color": "#C8D4E3"
             },
             "line": {
              "color": "white"
             }
            },
            "type": "table"
           }
          ]
         },
         "layout": {
          "annotationdefaults": {
           "arrowcolor": "#2a3f5f",
           "arrowhead": 0,
           "arrowwidth": 1
          },
          "autotypenumbers": "strict",
          "coloraxis": {
           "colorbar": {
            "outlinewidth": 0,
            "ticks": ""
           }
          },
          "colorscale": {
           "diverging": [
            [
             0,
             "#8e0152"
            ],
            [
             0.1,
             "#c51b7d"
            ],
            [
             0.2,
             "#de77ae"
            ],
            [
             0.3,
             "#f1b6da"
            ],
            [
             0.4,
             "#fde0ef"
            ],
            [
             0.5,
             "#f7f7f7"
            ],
            [
             0.6,
             "#e6f5d0"
            ],
            [
             0.7,
             "#b8e186"
            ],
            [
             0.8,
             "#7fbc41"
            ],
            [
             0.9,
             "#4d9221"
            ],
            [
             1,
             "#276419"
            ]
           ],
           "sequential": [
            [
             0,
             "#0d0887"
            ],
            [
             0.1111111111111111,
             "#46039f"
            ],
            [
             0.2222222222222222,
             "#7201a8"
            ],
            [
             0.3333333333333333,
             "#9c179e"
            ],
            [
             0.4444444444444444,
             "#bd3786"
            ],
            [
             0.5555555555555556,
             "#d8576b"
            ],
            [
             0.6666666666666666,
             "#ed7953"
            ],
            [
             0.7777777777777778,
             "#fb9f3a"
            ],
            [
             0.8888888888888888,
             "#fdca26"
            ],
            [
             1,
             "#f0f921"
            ]
           ],
           "sequentialminus": [
            [
             0,
             "#0d0887"
            ],
            [
             0.1111111111111111,
             "#46039f"
            ],
            [
             0.2222222222222222,
             "#7201a8"
            ],
            [
             0.3333333333333333,
             "#9c179e"
            ],
            [
             0.4444444444444444,
             "#bd3786"
            ],
            [
             0.5555555555555556,
             "#d8576b"
            ],
            [
             0.6666666666666666,
             "#ed7953"
            ],
            [
             0.7777777777777778,
             "#fb9f3a"
            ],
            [
             0.8888888888888888,
             "#fdca26"
            ],
            [
             1,
             "#f0f921"
            ]
           ]
          },
          "colorway": [
           "#636efa",
           "#EF553B",
           "#00cc96",
           "#ab63fa",
           "#FFA15A",
           "#19d3f3",
           "#FF6692",
           "#B6E880",
           "#FF97FF",
           "#FECB52"
          ],
          "font": {
           "color": "#2a3f5f"
          },
          "geo": {
           "bgcolor": "white",
           "lakecolor": "white",
           "landcolor": "#E5ECF6",
           "showlakes": true,
           "showland": true,
           "subunitcolor": "white"
          },
          "hoverlabel": {
           "align": "left"
          },
          "hovermode": "closest",
          "mapbox": {
           "style": "light"
          },
          "paper_bgcolor": "white",
          "plot_bgcolor": "#E5ECF6",
          "polar": {
           "angularaxis": {
            "gridcolor": "white",
            "linecolor": "white",
            "ticks": ""
           },
           "bgcolor": "#E5ECF6",
           "radialaxis": {
            "gridcolor": "white",
            "linecolor": "white",
            "ticks": ""
           }
          },
          "scene": {
           "xaxis": {
            "backgroundcolor": "#E5ECF6",
            "gridcolor": "white",
            "gridwidth": 2,
            "linecolor": "white",
            "showbackground": true,
            "ticks": "",
            "zerolinecolor": "white"
           },
           "yaxis": {
            "backgroundcolor": "#E5ECF6",
            "gridcolor": "white",
            "gridwidth": 2,
            "linecolor": "white",
            "showbackground": true,
            "ticks": "",
            "zerolinecolor": "white"
           },
           "zaxis": {
            "backgroundcolor": "#E5ECF6",
            "gridcolor": "white",
            "gridwidth": 2,
            "linecolor": "white",
            "showbackground": true,
            "ticks": "",
            "zerolinecolor": "white"
           }
          },
          "shapedefaults": {
           "line": {
            "color": "#2a3f5f"
           }
          },
          "ternary": {
           "aaxis": {
            "gridcolor": "white",
            "linecolor": "white",
            "ticks": ""
           },
           "baxis": {
            "gridcolor": "white",
            "linecolor": "white",
            "ticks": ""
           },
           "bgcolor": "#E5ECF6",
           "caxis": {
            "gridcolor": "white",
            "linecolor": "white",
            "ticks": ""
           }
          },
          "title": {
           "x": 0.05
          },
          "xaxis": {
           "automargin": true,
           "gridcolor": "white",
           "linecolor": "white",
           "ticks": "",
           "title": {
            "standoff": 15
           },
           "zerolinecolor": "white",
           "zerolinewidth": 2
          },
          "yaxis": {
           "automargin": true,
           "gridcolor": "white",
           "linecolor": "white",
           "ticks": "",
           "title": {
            "standoff": 15
           },
           "zerolinecolor": "white",
           "zerolinewidth": 2
          }
         }
        },
        "title": {
         "text": "Pillar 1: Institutional Readiness"
        },
        "xaxis": {
         "anchor": "y",
         "domain": [
          0,
          1
         ],
         "matches": "x4",
         "showticklabels": false,
         "title": {
          "text": ""
         }
        },
        "xaxis2": {
         "anchor": "y2",
         "domain": [
          0,
          1
         ],
         "matches": "x4",
         "showticklabels": false,
         "title": {
          "text": ""
         }
        },
        "xaxis3": {
         "anchor": "y3",
         "domain": [
          0,
          1
         ],
         "matches": "x4",
         "showticklabels": false,
         "title": {
          "text": ""
         }
        },
        "xaxis4": {
         "anchor": "y4",
         "domain": [
          0,
          1
         ],
         "dtick": 1,
         "range": [
          0,
          5
         ],
         "tick0": 0,
         "title": {
          "text": "Level"
         }
        },
        "yaxis": {
         "anchor": "x",
         "automargin": true,
         "categoryarray": [
          "Have specific program objectives been identified and embedded?",
          "Are insurance program objectives aligned with broader policy agendas?",
          "Has the government assessed the benefits of an insurance program?"
         ],
         "categoryorder": "array",
         "domain": [
          0.7649999999999999,
          0.9999999999999999
         ]
        },
        "yaxis2": {
         "anchor": "x2",
         "automargin": true,
         "categoryarray": [
          "Has an entity been assigned or established to manage the program?",
          "Is there a legislation/regulation framework for the program?",
          "Have you decided which parts of government will be invited/mandated to participate in the program?"
         ],
         "categoryorder": "array",
         "domain": [
          0.51,
          0.745
         ]
        },
        "yaxis3": {
         "anchor": "x3",
         "automargin": true,
         "categoryarray": [
          "Does the program have documentation defining how governance of the program will work\n(i.e., a governance framework)?",
          "Does the program have sufficient funding arrangements?"
         ],
         "categoryorder": "array",
         "domain": [
          0.255,
          0.49
         ]
        },
        "yaxis4": {
         "anchor": "x4",
         "automargin": true,
         "categoryarray": [
          "Does the program have effective assurance mechanisms?",
          "Does the program have regular and effective reporting?",
          "Is the governance framework independent and accountable to stakeholders?"
         ],
         "categoryorder": "array",
         "domain": [
          0,
          0.235
         ]
        }
       }
      }
     },
     "metadata": {},
     "output_type": "display_data"
    }
   ],
   "source": [
    "import pandas as pd\n",
    "import plotly.graph_objects as go\n",
    "from plotly.subplots import make_subplots\n",
    "\n",
    "# 1) Vos données\n",
    "df = pd.DataFrame({\n",
    "    \"question\": questions,\n",
    "    \"category\": categories,\n",
    "    \"Current\": current,\n",
    "    \"Aspirational\": aspirational\n",
    "})\n",
    "cats = [\n",
    "    \"Strategic Alignment\",\n",
    "    \"Policy & Legislation\",\n",
    "    \"Funding & Financial Settings\",\n",
    "    \"Governance\"\n",
    "]\n",
    "colors = {\"Current\":\"steelblue\", \"Aspirational\":\"darkorange\"}\n",
    "\n",
    "# 2) Créez 4 sous-plots verticaux, X partagé, espacement mini\n",
    "fig = make_subplots(\n",
    "    rows=4, cols=1,\n",
    "    shared_xaxes=True,\n",
    "    vertical_spacing=0.02,\n",
    "    subplot_titles=[\"\"]*4  # on vire les titres auto\n",
    ")\n",
    "\n",
    "# 3) Tracez vos barres\n",
    "for i, cat in enumerate(cats, start=1):\n",
    "    dfi = df[df.category == cat]\n",
    "    fig.add_trace(go.Bar(\n",
    "        x=dfi[\"Current\"], y=dfi[\"question\"],\n",
    "        orientation=\"h\", marker_color=colors[\"Current\"],\n",
    "        name=\"Current\" if i==1 else None, showlegend=(i==1)\n",
    "    ), row=i, col=1)\n",
    "    fig.add_trace(go.Bar(\n",
    "        x=dfi[\"Aspirational\"], y=dfi[\"question\"],\n",
    "        orientation=\"h\", marker_color=colors[\"Aspirational\"],\n",
    "        name=\"Aspirational\" if i==1 else None, showlegend=(i==1)\n",
    "    ), row=i, col=1)\n",
    "    fig.update_yaxes(\n",
    "        categoryorder=\"array\",\n",
    "        categoryarray=dfi[\"question\"].tolist()[::-1],\n",
    "        automargin=True,\n",
    "        row=i, col=1\n",
    "    )\n",
    "\n",
    "# 4) Layout général\n",
    "fig.update_layout(\n",
    "    height=900,\n",
    "    barmode=\"stack\",\n",
    "    title=\"Pillar 1: Institutional Readiness\",\n",
    "    margin=dict(l=350, r=40, t=80, b=40),  # l plus grand pour laisser la place\n",
    "    legend=dict(orientation=\"h\", yanchor=\"bottom\", y=1.02, xanchor=\"right\", x=1)\n",
    ")\n",
    "# Masquage des titres X sauf le dernier\n",
    "for i in range(1,5):\n",
    "    fig.update_xaxes(title_text=\"\", row=i, col=1)\n",
    "fig.update_xaxes(\n",
    "    title_text=\"Level\", tick0=0, dtick=1, range=[0,5],\n",
    "    row=4, col=1\n",
    ")\n",
    "\n",
    "# 5) Annotations “catégories” À GAUCHE, centrées verticalement\n",
    "for i, cat in enumerate(cats, start=1):\n",
    "    dfi = df[df.category == cat]\n",
    "    # on prend la question du milieu pour servir de repère Y\n",
    "    middle_q = dfi[\"question\"].iloc[len(dfi)//2]\n",
    "    fig.add_annotation(\n",
    "        xref=\"paper\",       # coordonnées relatives à la figure\n",
    "        x=0,                # tout à gauche\n",
    "        xanchor=\"left\",\n",
    "        yref=f\"y{i}\",       # coordonnées en données sur l'axe y{i}\n",
    "        y=middle_q,         # positionné au milieu du bloc\n",
    "        text=f\"<b>{cat}</b>\",\n",
    "        showarrow=False,\n",
    "        font=dict(size=14)\n",
    "    )\n",
    "\n",
    "fig.show()\n"
   ]
  },
  {
   "cell_type": "markdown",
   "id": "098ab5d9",
   "metadata": {
    "jp-MarkdownHeadingCollapsed": true
   },
   "source": [
    "# Download content part B"
   ]
  },
  {
   "cell_type": "code",
   "execution_count": 7,
   "id": "1902f880",
   "metadata": {},
   "outputs": [
    {
     "name": "stderr",
     "output_type": "stream",
     "text": [
      "c:\\Users\\egos\\anaconda3\\envs\\base2\\Lib\\site-packages\\openpyxl\\worksheet\\_reader.py:329: UserWarning: Data Validation extension is not supported and will be removed\n",
      "  warn(msg)\n",
      "c:\\Users\\egos\\anaconda3\\envs\\base2\\Lib\\site-packages\\openpyxl\\worksheet\\_reader.py:329: UserWarning: Conditional Formatting extension is not supported and will be removed\n",
      "  warn(msg)\n",
      "c:\\Users\\egos\\anaconda3\\envs\\base2\\Lib\\site-packages\\openpyxl\\reader\\drawings.py:33: UserWarning: DrawingML support is incomplete and limited to charts and images only. Shapes and drawings will be lost.\n",
      "  warn(\"DrawingML support is incomplete and limited to charts and images only. Shapes and drawings will be lost.\")\n"
     ]
    },
    {
     "data": {
      "text/html": [
       "<div>\n",
       "<style scoped>\n",
       "    .dataframe tbody tr th:only-of-type {\n",
       "        vertical-align: middle;\n",
       "    }\n",
       "\n",
       "    .dataframe tbody tr th {\n",
       "        vertical-align: top;\n",
       "    }\n",
       "\n",
       "    .dataframe thead th {\n",
       "        text-align: right;\n",
       "    }\n",
       "</style>\n",
       "<table border=\"1\" class=\"dataframe\">\n",
       "  <thead>\n",
       "    <tr style=\"text-align: right;\">\n",
       "      <th></th>\n",
       "      <th>Q</th>\n",
       "      <th>idx</th>\n",
       "      <th>val</th>\n",
       "    </tr>\n",
       "  </thead>\n",
       "  <tbody>\n",
       "    <tr>\n",
       "      <th>0</th>\n",
       "      <td>1</td>\n",
       "      <td>Pillar</td>\n",
       "      <td>1</td>\n",
       "    </tr>\n",
       "    <tr>\n",
       "      <th>1</th>\n",
       "      <td>1</td>\n",
       "      <td>Definition</td>\n",
       "      <td>Strategic Alignment</td>\n",
       "    </tr>\n",
       "    <tr>\n",
       "      <th>2</th>\n",
       "      <td>1</td>\n",
       "      <td>Title</td>\n",
       "      <td>Has the government assessed the benefits of an...</td>\n",
       "    </tr>\n",
       "    <tr>\n",
       "      <th>3</th>\n",
       "      <td>1</td>\n",
       "      <td>1</td>\n",
       "      <td>There is no clear understanding about the pros...</td>\n",
       "    </tr>\n",
       "    <tr>\n",
       "      <th>4</th>\n",
       "      <td>1</td>\n",
       "      <td>2</td>\n",
       "      <td>The pros and cons of an insurance program have...</td>\n",
       "    </tr>\n",
       "    <tr>\n",
       "      <th>...</th>\n",
       "      <td>...</td>\n",
       "      <td>...</td>\n",
       "      <td>...</td>\n",
       "    </tr>\n",
       "    <tr>\n",
       "      <th>355</th>\n",
       "      <td>45</td>\n",
       "      <td>1</td>\n",
       "      <td>There is no placement of government agency ris...</td>\n",
       "    </tr>\n",
       "    <tr>\n",
       "      <th>356</th>\n",
       "      <td>45</td>\n",
       "      <td>2</td>\n",
       "      <td>Placement of (re)insurance with risk financing...</td>\n",
       "    </tr>\n",
       "    <tr>\n",
       "      <th>357</th>\n",
       "      <td>45</td>\n",
       "      <td>3</td>\n",
       "      <td>Placement of (re)insurance with risk financing...</td>\n",
       "    </tr>\n",
       "    <tr>\n",
       "      <th>358</th>\n",
       "      <td>45</td>\n",
       "      <td>4</td>\n",
       "      <td>Placement of (re)insurance with risk financing...</td>\n",
       "    </tr>\n",
       "    <tr>\n",
       "      <th>359</th>\n",
       "      <td>45</td>\n",
       "      <td>5</td>\n",
       "      <td>LEVEL 4 PLUS The placement of (re)insurance wi...</td>\n",
       "    </tr>\n",
       "  </tbody>\n",
       "</table>\n",
       "<p>360 rows × 3 columns</p>\n",
       "</div>"
      ],
      "text/plain": [
       "      Q         idx                                                val\n",
       "0     1      Pillar                                                  1\n",
       "1     1  Definition                                Strategic Alignment\n",
       "2     1       Title  Has the government assessed the benefits of an...\n",
       "3     1           1  There is no clear understanding about the pros...\n",
       "4     1           2  The pros and cons of an insurance program have...\n",
       "..   ..         ...                                                ...\n",
       "355  45           1  There is no placement of government agency ris...\n",
       "356  45           2  Placement of (re)insurance with risk financing...\n",
       "357  45           3  Placement of (re)insurance with risk financing...\n",
       "358  45           4  Placement of (re)insurance with risk financing...\n",
       "359  45           5  LEVEL 4 PLUS The placement of (re)insurance wi...\n",
       "\n",
       "[360 rows x 3 columns]"
      ]
     },
     "execution_count": 7,
     "metadata": {},
     "output_type": "execute_result"
    }
   ],
   "source": [
    "import pandas as pd\n",
    "from openpyxl import load_workbook\n",
    "\n",
    "# Charger le fichier Excel\n",
    "fichier = \"save/EEPA Tool v28 23 Feb 2023.xlsx\"  # remplace par le chemin réel\n",
    "wb = load_workbook(fichier, data_only=True)\n",
    "\n",
    "# Filtrer les feuilles \"PartB\"\n",
    "feuilles_partb = [nom for nom in wb.sheetnames if nom.startswith(\"PartB_\")]\n",
    "\n",
    "# Récupérer les cellules H17 à H20 non vides dans chaque feuille\n",
    "resultats = []\n",
    "for feuille in feuilles_partb:\n",
    "    ws = wb[feuille]\n",
    "    Question = int(feuille.split(\"Q\")[1])\n",
    "    Pillar = int(ws[\"D12\"].value.split(\" \")[1][0])\n",
    "    resultats.append({\"Q\": Question , \"idx\": 'Pillar', \"val\": Pillar})\n",
    "    resultats.append({\"Q\": Question , \"idx\": 'Definition', \"val\": ws[\"D14\"].value})\n",
    "    resultats.append({\"Q\": Question , \"idx\": 'Title',  \"val\": ws[\"E15\"].value})\n",
    "    i = 0\n",
    "    for row in range(17, 36):  # H17 à H20\n",
    "        valeur = ws[f\"H{row}\"].value\n",
    "        if valeur is not None:\n",
    "            i+=1\n",
    "            resultats.append({\"Q\": Question , \"idx\": i, \"val\": valeur})\n",
    "\n",
    "# Convertir en DataFrame\n",
    "df = pd.DataFrame(resultats)\n",
    "df"
   ]
  },
  {
   "cell_type": "code",
   "execution_count": null,
   "id": "20415bc7",
   "metadata": {},
   "outputs": [],
   "source": [
    "\"Pillar 1: Institutional Readiness\"\n",
    "\"This pillar assesses policy alignment and program governance.\"\n",
    "\"Pillar 2: Data Readiness\"\n",
    "\"This pillar assesses your progress towards collating and analysing data to inform program options.\"\n",
    "\"Pillar 3: Operational Readiness\"\n",
    "\"This pillar assesses progress towards developing and using service and administration infrastructure required for a program.\"\n",
    "\"Pillar 4: Insurance Market Readiness\"\n",
    "\"This pillar assesses your progress towards implementing the most appropriate risk financing options for the program.\""
   ]
  },
  {
   "cell_type": "code",
   "execution_count": null,
   "id": "dcc62221",
   "metadata": {},
   "outputs": [],
   "source": []
  },
  {
   "cell_type": "code",
   "execution_count": 8,
   "id": "02288ccf",
   "metadata": {},
   "outputs": [
    {
     "data": {
      "text/html": [
       "<div>\n",
       "<style scoped>\n",
       "    .dataframe tbody tr th:only-of-type {\n",
       "        vertical-align: middle;\n",
       "    }\n",
       "\n",
       "    .dataframe tbody tr th {\n",
       "        vertical-align: top;\n",
       "    }\n",
       "\n",
       "    .dataframe thead th {\n",
       "        text-align: right;\n",
       "    }\n",
       "</style>\n",
       "<table border=\"1\" class=\"dataframe\">\n",
       "  <thead>\n",
       "    <tr style=\"text-align: right;\">\n",
       "      <th>idx</th>\n",
       "      <th>Q</th>\n",
       "      <th>1</th>\n",
       "      <th>2</th>\n",
       "      <th>3</th>\n",
       "      <th>4</th>\n",
       "      <th>5</th>\n",
       "      <th>Definition</th>\n",
       "      <th>Pillar</th>\n",
       "      <th>Title</th>\n",
       "    </tr>\n",
       "  </thead>\n",
       "  <tbody>\n",
       "    <tr>\n",
       "      <th>0</th>\n",
       "      <td>1</td>\n",
       "      <td>There is no clear understanding about the pros...</td>\n",
       "      <td>The pros and cons of an insurance program have...</td>\n",
       "      <td>The pros and cons of an insurance program have...</td>\n",
       "      <td>The pros and cons of an insurance program have...</td>\n",
       "      <td>The pros and cons of an insurance program have...</td>\n",
       "      <td>Strategic Alignment</td>\n",
       "      <td>1</td>\n",
       "      <td>Has the government assessed the benefits of an...</td>\n",
       "    </tr>\n",
       "    <tr>\n",
       "      <th>1</th>\n",
       "      <td>2</td>\n",
       "      <td>Broader agendas (e.g., disaster risk managemen...</td>\n",
       "      <td>Broader policy agendas have been acknowledged ...</td>\n",
       "      <td>Broader policy agendas have been acknowledged ...</td>\n",
       "      <td>Broader policy agendas have been fully integra...</td>\n",
       "      <td>Broader policy agendas have been reviewed and,...</td>\n",
       "      <td>Strategic Alignment</td>\n",
       "      <td>1</td>\n",
       "      <td>Are insurance program objectives aligned with ...</td>\n",
       "    </tr>\n",
       "    <tr>\n",
       "      <th>2</th>\n",
       "      <td>3</td>\n",
       "      <td>A set of strategic Disaster Risk Financing (DR...</td>\n",
       "      <td>A set of strategic DRF objectives have been id...</td>\n",
       "      <td>A set of strategic DRF objectives have been id...</td>\n",
       "      <td>A set of strategic DRF objectives have been id...</td>\n",
       "      <td>A set of strategic DRF objectives have been id...</td>\n",
       "      <td>Strategic Alignment</td>\n",
       "      <td>1</td>\n",
       "      <td>Have specific program objectives been identifi...</td>\n",
       "    </tr>\n",
       "    <tr>\n",
       "      <th>3</th>\n",
       "      <td>4</td>\n",
       "      <td>The scope of participation (i.e., which govern...</td>\n",
       "      <td>The scope of participating agencies and asset ...</td>\n",
       "      <td>The scope of participating agencies/assets has...</td>\n",
       "      <td>There is a systematic approach to agency or as...</td>\n",
       "      <td>There is a systematic approach to agency or as...</td>\n",
       "      <td>Policy &amp; Legislation</td>\n",
       "      <td>1</td>\n",
       "      <td>Have you decided which parts of government wil...</td>\n",
       "    </tr>\n",
       "    <tr>\n",
       "      <th>4</th>\n",
       "      <td>5</td>\n",
       "      <td>The program is not supported by legislation/re...</td>\n",
       "      <td>The program falls within general government po...</td>\n",
       "      <td>Legislation/regulation specifically refers to ...</td>\n",
       "      <td>Legislation/regulation specifically refers to ...</td>\n",
       "      <td>Legislation/regulation specifically refers to ...</td>\n",
       "      <td>Policy &amp; Legislation</td>\n",
       "      <td>1</td>\n",
       "      <td>Is there a legislation/regulation framework fo...</td>\n",
       "    </tr>\n",
       "  </tbody>\n",
       "</table>\n",
       "</div>"
      ],
      "text/plain": [
       "idx  Q                                                  1  \\\n",
       "0    1  There is no clear understanding about the pros...   \n",
       "1    2  Broader agendas (e.g., disaster risk managemen...   \n",
       "2    3  A set of strategic Disaster Risk Financing (DR...   \n",
       "3    4  The scope of participation (i.e., which govern...   \n",
       "4    5  The program is not supported by legislation/re...   \n",
       "\n",
       "idx                                                  2  \\\n",
       "0    The pros and cons of an insurance program have...   \n",
       "1    Broader policy agendas have been acknowledged ...   \n",
       "2    A set of strategic DRF objectives have been id...   \n",
       "3    The scope of participating agencies and asset ...   \n",
       "4    The program falls within general government po...   \n",
       "\n",
       "idx                                                  3  \\\n",
       "0    The pros and cons of an insurance program have...   \n",
       "1    Broader policy agendas have been acknowledged ...   \n",
       "2    A set of strategic DRF objectives have been id...   \n",
       "3    The scope of participating agencies/assets has...   \n",
       "4    Legislation/regulation specifically refers to ...   \n",
       "\n",
       "idx                                                  4  \\\n",
       "0    The pros and cons of an insurance program have...   \n",
       "1    Broader policy agendas have been fully integra...   \n",
       "2    A set of strategic DRF objectives have been id...   \n",
       "3    There is a systematic approach to agency or as...   \n",
       "4    Legislation/regulation specifically refers to ...   \n",
       "\n",
       "idx                                                  5            Definition  \\\n",
       "0    The pros and cons of an insurance program have...   Strategic Alignment   \n",
       "1    Broader policy agendas have been reviewed and,...   Strategic Alignment   \n",
       "2    A set of strategic DRF objectives have been id...   Strategic Alignment   \n",
       "3    There is a systematic approach to agency or as...  Policy & Legislation   \n",
       "4    Legislation/regulation specifically refers to ...  Policy & Legislation   \n",
       "\n",
       "idx Pillar                                              Title  \n",
       "0        1  Has the government assessed the benefits of an...  \n",
       "1        1  Are insurance program objectives aligned with ...  \n",
       "2        1  Have specific program objectives been identifi...  \n",
       "3        1  Have you decided which parts of government wil...  \n",
       "4        1  Is there a legislation/regulation framework fo...  "
      ]
     },
     "execution_count": 8,
     "metadata": {},
     "output_type": "execute_result"
    }
   ],
   "source": [
    "dfb = df.pivot(index = 'Q', columns=\"idx\" , values= \"val\").reset_index()\n",
    "dfb.head()\n",
    "# df1.to_excel('')"
   ]
  },
  {
   "cell_type": "code",
   "execution_count": null,
   "id": "5779995c",
   "metadata": {},
   "outputs": [],
   "source": [
    "dfa = pd.read_excel(\"content.xlsx\")"
   ]
  },
  {
   "cell_type": "code",
   "execution_count": 14,
   "id": "1f90f5c3",
   "metadata": {},
   "outputs": [],
   "source": [
    "with pd.ExcelWriter(\"EEPA_content.xlsx\", engine=\"openpyxl\") as writer:\n",
    "    dfa.to_excel(writer, sheet_name=\"Part_A\", index=False)\n",
    "    dfb.to_excel(writer, sheet_name=\"Part_B\", index=False)"
   ]
  },
  {
   "cell_type": "code",
   "execution_count": 17,
   "id": "c03a95e9",
   "metadata": {},
   "outputs": [],
   "source": [
    "dfa = pd.read_excel(\"EEPA_content.xlsx\", sheet_name= 'Part_A')\n",
    "dfb = pd.read_excel(\"EEPA_content.xlsx\", sheet_name= 'Part_B')"
   ]
  },
  {
   "cell_type": "code",
   "execution_count": 22,
   "id": "1011ee7e",
   "metadata": {},
   "outputs": [
    {
     "data": {
      "text/plain": [
       "1"
      ]
     },
     "execution_count": 22,
     "metadata": {},
     "output_type": "execute_result"
    }
   ],
   "source": [
    "dfb.loc[0,[1,2,3,4,5]].tolist()\n",
    "dfb.loc[0,\"Pillar\"]"
   ]
  },
  {
   "cell_type": "code",
   "execution_count": 2,
   "id": "bd1d8635",
   "metadata": {},
   "outputs": [],
   "source": [
    "Dict_Content = pd.read_excel(\"EEPA_content.xlsx\", sheet_name= None)\n",
    "dfp = Dict_Content['Pillars']\n",
    "dfa = Dict_Content['Part_A'].set_index('Q')\n",
    "dfb = Dict_Content['Part_B']"
   ]
  },
  {
   "cell_type": "code",
   "execution_count": 6,
   "id": "53e72a2f",
   "metadata": {},
   "outputs": [
    {
     "data": {
      "text/plain": [
       "[1,\n",
       " 'Pillar 1: Institutional Readiness',\n",
       " 'This pillar assesses policy alignment and program governance. ']"
      ]
     },
     "execution_count": 6,
     "metadata": {},
     "output_type": "execute_result"
    }
   ],
   "source": [
    "dfp.loc[0].tolist()"
   ]
  },
  {
   "cell_type": "code",
   "execution_count": 2,
   "id": "d72d21ba",
   "metadata": {},
   "outputs": [
    {
     "ename": "PermissionError",
     "evalue": "[Errno 13] Permission denied: 'EEPA_content.xlsx'",
     "output_type": "error",
     "traceback": [
      "\u001b[1;31m---------------------------------------------------------------------------\u001b[0m",
      "\u001b[1;31mPermissionError\u001b[0m                           Traceback (most recent call last)",
      "Cell \u001b[1;32mIn[2], line 5\u001b[0m\n\u001b[0;32m      2\u001b[0m \u001b[38;5;28;01mfrom\u001b[39;00m \u001b[38;5;21;01mopenpyxl\u001b[39;00m \u001b[38;5;28;01mimport\u001b[39;00m load_workbook\n\u001b[0;32m      4\u001b[0m \u001b[38;5;66;03m# 3. Réécrire le sheet dans le même fichier\u001b[39;00m\n\u001b[1;32m----> 5\u001b[0m \u001b[38;5;28;01mwith\u001b[39;00m \u001b[43mpd\u001b[49m\u001b[38;5;241;43m.\u001b[39;49m\u001b[43mExcelWriter\u001b[49m\u001b[43m(\u001b[49m\u001b[38;5;124;43m\"\u001b[39;49m\u001b[38;5;124;43mEEPA_content.xlsx\u001b[39;49m\u001b[38;5;124;43m\"\u001b[39;49m\u001b[43m,\u001b[49m\u001b[43m \u001b[49m\n\u001b[0;32m      6\u001b[0m \u001b[43m                    \u001b[49m\u001b[43mengine\u001b[49m\u001b[38;5;241;43m=\u001b[39;49m\u001b[38;5;124;43m\"\u001b[39;49m\u001b[38;5;124;43mopenpyxl\u001b[39;49m\u001b[38;5;124;43m\"\u001b[39;49m\u001b[43m,\u001b[49m\u001b[43m \u001b[49m\n\u001b[0;32m      7\u001b[0m \u001b[43m                    \u001b[49m\u001b[43mmode\u001b[49m\u001b[38;5;241;43m=\u001b[39;49m\u001b[38;5;124;43m\"\u001b[39;49m\u001b[38;5;124;43ma\u001b[39;49m\u001b[38;5;124;43m\"\u001b[39;49m\u001b[43m,\u001b[49m\u001b[43m        \u001b[49m\u001b[38;5;66;43;03m# mode append\u001b[39;49;00m\n\u001b[0;32m      8\u001b[0m \u001b[43m                    \u001b[49m\u001b[43mif_sheet_exists\u001b[49m\u001b[38;5;241;43m=\u001b[39;49m\u001b[38;5;124;43m\"\u001b[39;49m\u001b[38;5;124;43mreplace\u001b[39;49m\u001b[38;5;124;43m\"\u001b[39;49m\u001b[43m  \u001b[49m\u001b[38;5;66;43;03m# remplace l’onglet existant\u001b[39;49;00m\n\u001b[0;32m      9\u001b[0m \u001b[43m                   \u001b[49m\u001b[43m)\u001b[49m \u001b[38;5;28;01mas\u001b[39;00m writer:\n\u001b[0;32m     10\u001b[0m     \u001b[38;5;66;03m# Nécessaire si pandas < 1.3 pour récupérer le workbook :\u001b[39;00m\n\u001b[0;32m     11\u001b[0m     \u001b[38;5;66;03m# writer.book = load_workbook(\"mon_fichier.xlsx\")\u001b[39;00m\n\u001b[0;32m     12\u001b[0m     dfb\u001b[38;5;241m.\u001b[39mto_excel(writer, sheet_name\u001b[38;5;241m=\u001b[39m\u001b[38;5;124m\"\u001b[39m\u001b[38;5;124mPart_B\u001b[39m\u001b[38;5;124m\"\u001b[39m, index\u001b[38;5;241m=\u001b[39m\u001b[38;5;28;01mFalse\u001b[39;00m)\n",
      "File \u001b[1;32mc:\\Users\\egos\\anaconda3\\envs\\base2\\Lib\\site-packages\\pandas\\io\\excel\\_openpyxl.py:61\u001b[0m, in \u001b[0;36mOpenpyxlWriter.__init__\u001b[1;34m(self, path, engine, date_format, datetime_format, mode, storage_options, if_sheet_exists, engine_kwargs, **kwargs)\u001b[0m\n\u001b[0;32m     57\u001b[0m \u001b[38;5;28;01mfrom\u001b[39;00m \u001b[38;5;21;01mopenpyxl\u001b[39;00m\u001b[38;5;21;01m.\u001b[39;00m\u001b[38;5;21;01mworkbook\u001b[39;00m \u001b[38;5;28;01mimport\u001b[39;00m Workbook\n\u001b[0;32m     59\u001b[0m engine_kwargs \u001b[38;5;241m=\u001b[39m combine_kwargs(engine_kwargs, kwargs)\n\u001b[1;32m---> 61\u001b[0m \u001b[38;5;28;43msuper\u001b[39;49m\u001b[43m(\u001b[49m\u001b[43m)\u001b[49m\u001b[38;5;241;43m.\u001b[39;49m\u001b[38;5;21;43m__init__\u001b[39;49m\u001b[43m(\u001b[49m\n\u001b[0;32m     62\u001b[0m \u001b[43m    \u001b[49m\u001b[43mpath\u001b[49m\u001b[43m,\u001b[49m\n\u001b[0;32m     63\u001b[0m \u001b[43m    \u001b[49m\u001b[43mmode\u001b[49m\u001b[38;5;241;43m=\u001b[39;49m\u001b[43mmode\u001b[49m\u001b[43m,\u001b[49m\n\u001b[0;32m     64\u001b[0m \u001b[43m    \u001b[49m\u001b[43mstorage_options\u001b[49m\u001b[38;5;241;43m=\u001b[39;49m\u001b[43mstorage_options\u001b[49m\u001b[43m,\u001b[49m\n\u001b[0;32m     65\u001b[0m \u001b[43m    \u001b[49m\u001b[43mif_sheet_exists\u001b[49m\u001b[38;5;241;43m=\u001b[39;49m\u001b[43mif_sheet_exists\u001b[49m\u001b[43m,\u001b[49m\n\u001b[0;32m     66\u001b[0m \u001b[43m    \u001b[49m\u001b[43mengine_kwargs\u001b[49m\u001b[38;5;241;43m=\u001b[39;49m\u001b[43mengine_kwargs\u001b[49m\u001b[43m,\u001b[49m\n\u001b[0;32m     67\u001b[0m \u001b[43m\u001b[49m\u001b[43m)\u001b[49m\n\u001b[0;32m     69\u001b[0m \u001b[38;5;66;03m# ExcelWriter replaced \"a\" by \"r+\" to allow us to first read the excel file from\u001b[39;00m\n\u001b[0;32m     70\u001b[0m \u001b[38;5;66;03m# the file and later write to it\u001b[39;00m\n\u001b[0;32m     71\u001b[0m \u001b[38;5;28;01mif\u001b[39;00m \u001b[38;5;124m\"\u001b[39m\u001b[38;5;124mr+\u001b[39m\u001b[38;5;124m\"\u001b[39m \u001b[38;5;129;01min\u001b[39;00m \u001b[38;5;28mself\u001b[39m\u001b[38;5;241m.\u001b[39m_mode:  \u001b[38;5;66;03m# Load from existing workbook\u001b[39;00m\n",
      "File \u001b[1;32mc:\\Users\\egos\\anaconda3\\envs\\base2\\Lib\\site-packages\\pandas\\io\\excel\\_base.py:1263\u001b[0m, in \u001b[0;36mExcelWriter.__init__\u001b[1;34m(self, path, engine, date_format, datetime_format, mode, storage_options, if_sheet_exists, engine_kwargs)\u001b[0m\n\u001b[0;32m   1259\u001b[0m \u001b[38;5;28mself\u001b[39m\u001b[38;5;241m.\u001b[39m_handles \u001b[38;5;241m=\u001b[39m IOHandles(\n\u001b[0;32m   1260\u001b[0m     cast(IO[\u001b[38;5;28mbytes\u001b[39m], path), compression\u001b[38;5;241m=\u001b[39m{\u001b[38;5;124m\"\u001b[39m\u001b[38;5;124mcompression\u001b[39m\u001b[38;5;124m\"\u001b[39m: \u001b[38;5;28;01mNone\u001b[39;00m}\n\u001b[0;32m   1261\u001b[0m )\n\u001b[0;32m   1262\u001b[0m \u001b[38;5;28;01mif\u001b[39;00m \u001b[38;5;129;01mnot\u001b[39;00m \u001b[38;5;28misinstance\u001b[39m(path, ExcelWriter):\n\u001b[1;32m-> 1263\u001b[0m     \u001b[38;5;28mself\u001b[39m\u001b[38;5;241m.\u001b[39m_handles \u001b[38;5;241m=\u001b[39m \u001b[43mget_handle\u001b[49m\u001b[43m(\u001b[49m\n\u001b[0;32m   1264\u001b[0m \u001b[43m        \u001b[49m\u001b[43mpath\u001b[49m\u001b[43m,\u001b[49m\u001b[43m \u001b[49m\u001b[43mmode\u001b[49m\u001b[43m,\u001b[49m\u001b[43m \u001b[49m\u001b[43mstorage_options\u001b[49m\u001b[38;5;241;43m=\u001b[39;49m\u001b[43mstorage_options\u001b[49m\u001b[43m,\u001b[49m\u001b[43m \u001b[49m\u001b[43mis_text\u001b[49m\u001b[38;5;241;43m=\u001b[39;49m\u001b[38;5;28;43;01mFalse\u001b[39;49;00m\n\u001b[0;32m   1265\u001b[0m \u001b[43m    \u001b[49m\u001b[43m)\u001b[49m\n\u001b[0;32m   1266\u001b[0m \u001b[38;5;28mself\u001b[39m\u001b[38;5;241m.\u001b[39m_cur_sheet \u001b[38;5;241m=\u001b[39m \u001b[38;5;28;01mNone\u001b[39;00m\n\u001b[0;32m   1268\u001b[0m \u001b[38;5;28;01mif\u001b[39;00m date_format \u001b[38;5;129;01mis\u001b[39;00m \u001b[38;5;28;01mNone\u001b[39;00m:\n",
      "File \u001b[1;32mc:\\Users\\egos\\anaconda3\\envs\\base2\\Lib\\site-packages\\pandas\\io\\common.py:872\u001b[0m, in \u001b[0;36mget_handle\u001b[1;34m(path_or_buf, mode, encoding, compression, memory_map, is_text, errors, storage_options)\u001b[0m\n\u001b[0;32m    863\u001b[0m         handle \u001b[38;5;241m=\u001b[39m \u001b[38;5;28mopen\u001b[39m(\n\u001b[0;32m    864\u001b[0m             handle,\n\u001b[0;32m    865\u001b[0m             ioargs\u001b[38;5;241m.\u001b[39mmode,\n\u001b[1;32m   (...)\u001b[0m\n\u001b[0;32m    868\u001b[0m             newline\u001b[38;5;241m=\u001b[39m\u001b[38;5;124m\"\u001b[39m\u001b[38;5;124m\"\u001b[39m,\n\u001b[0;32m    869\u001b[0m         )\n\u001b[0;32m    870\u001b[0m     \u001b[38;5;28;01melse\u001b[39;00m:\n\u001b[0;32m    871\u001b[0m         \u001b[38;5;66;03m# Binary mode\u001b[39;00m\n\u001b[1;32m--> 872\u001b[0m         handle \u001b[38;5;241m=\u001b[39m \u001b[38;5;28;43mopen\u001b[39;49m\u001b[43m(\u001b[49m\u001b[43mhandle\u001b[49m\u001b[43m,\u001b[49m\u001b[43m \u001b[49m\u001b[43mioargs\u001b[49m\u001b[38;5;241;43m.\u001b[39;49m\u001b[43mmode\u001b[49m\u001b[43m)\u001b[49m\n\u001b[0;32m    873\u001b[0m     handles\u001b[38;5;241m.\u001b[39mappend(handle)\n\u001b[0;32m    875\u001b[0m \u001b[38;5;66;03m# Convert BytesIO or file objects passed with an encoding\u001b[39;00m\n",
      "\u001b[1;31mPermissionError\u001b[0m: [Errno 13] Permission denied: 'EEPA_content.xlsx'"
     ]
    }
   ],
   "source": [
    "import pandas as pd\n",
    "from openpyxl import load_workbook\n",
    "\n",
    "# 3. Réécrire le sheet dans le même fichier\n",
    "with pd.ExcelWriter(\"EEPA_content.xlsx\", \n",
    "                    engine=\"openpyxl\", \n",
    "                    mode=\"a\",        # mode append\n",
    "                    if_sheet_exists=\"replace\"  # remplace l’onglet existant\n",
    "                   ) as writer:\n",
    "    # Nécessaire si pandas < 1.3 pour récupérer le workbook :\n",
    "    # writer.book = load_workbook(\"mon_fichier.xlsx\")\n",
    "    dfb.to_excel(writer, sheet_name=\"Part_B\", index=False)\n"
   ]
  },
  {
   "cell_type": "markdown",
   "id": "b85d7cdc",
   "metadata": {},
   "source": [
    "# Test feature streamlit"
   ]
  },
  {
   "cell_type": "markdown",
   "id": "f0cbcb9a",
   "metadata": {},
   "source": [
    "dfa.to_dict(orient = 'tight')"
   ]
  },
  {
   "cell_type": "code",
   "execution_count": 14,
   "id": "a0ae315e",
   "metadata": {},
   "outputs": [
    {
     "name": "stdout",
     "output_type": "stream",
     "text": [
      "dfa df\n",
      "dfb df\n",
      "dfp df\n",
      "lenA 5\n",
      "lenB 45\n",
      "lenTot 50\n"
     ]
    }
   ],
   "source": [
    "def Init_data():\n",
    "    data = {}    \n",
    "    data['idx_menu'] = 0\n",
    "    Dict_Content = pd.read_excel(\"EEPA_content.xlsx\", sheet_name= None)\n",
    "\n",
    "    dfp=  Dict_Content['Pillars'].set_index('idx')\n",
    "    dfa = Dict_Content['Part_A'].set_index('Q').assign(Res=np.NaN)\n",
    "    dfb = Dict_Content['Part_B'].assign(Res=np.NaN)\n",
    "\n",
    "    lenA = dfa.index.nunique()\n",
    "    lenB = dfb.index.nunique()\n",
    "\n",
    "    dfaSize = dfa[dfa.Reponse.notnull()].groupby('Q').size()\n",
    "    d = {}\n",
    "    \n",
    "    for i in range(lenA + lenB):\n",
    "        if i < lenA : \n",
    "                data['Q' +str(i+1)] = [None] * dfaSize.loc[i+1]\n",
    "        else : \n",
    "                data['Q' +str(i+1)] = [None] * 2\n",
    "\n",
    "    data= dict(\n",
    "        dfa = dfa,\n",
    "        dfb = dfb,\n",
    "        dfp = dfp, \n",
    "        lenA = lenA,\n",
    "        lenB = lenB, \n",
    "        lenTot = lenA + lenB\n",
    "    )\n",
    "    \n",
    "    return data\n",
    "\n",
    "\n",
    "data = Init_data()\n",
    "for k,v in data.items():\n",
    "    if type(v) == pd.DataFrame: \n",
    "        print(k, \"df\")\n",
    "    else : \n",
    "        print(k, v)"
   ]
  },
  {
   "cell_type": "code",
   "execution_count": 15,
   "id": "d736740c",
   "metadata": {},
   "outputs": [],
   "source": [
    "lenA = data['lenA']\n",
    "lenB = data['lenB']"
   ]
  },
  {
   "cell_type": "code",
   "execution_count": 16,
   "id": "2baa8fc7",
   "metadata": {},
   "outputs": [],
   "source": [
    "dfaSize = dfa[dfa.Reponse.notnull()].groupby('Q').size()\n",
    "d = {}\n",
    "\n",
    "for i in range(lenA + lenB):\n",
    "    if i < lenA : \n",
    "            data['Q' +str(i+1)] = [None] * dfaSize.loc[i+1]\n",
    "    else : \n",
    "            data['Q' +str(i+1)] = [None] * 2\n",
    "\n",
    "# for Q, s in enumerate(dfaSize):\n",
    "#     data['Q' +str(i+1)]= s"
   ]
  },
  {
   "cell_type": "code",
   "execution_count": 17,
   "id": "8e11066e-f22f-4aef-9b17-d32eeae200f4",
   "metadata": {},
   "outputs": [
    {
     "name": "stdout",
     "output_type": "stream",
     "text": [
      "dfa df\n",
      "dfb df\n",
      "dfp df\n",
      "lenA 5\n",
      "lenB 45\n",
      "lenTot 50\n",
      "Q1 [None, None, None, None]\n",
      "Q2 [None, None, None]\n",
      "Q3 [None, None]\n",
      "Q4 [None, None, None, None, None]\n",
      "Q5 [None, None, None, None, None, None]\n",
      "Q6 [None, None]\n",
      "Q7 [None, None]\n",
      "Q8 [None, None]\n",
      "Q9 [None, None]\n",
      "Q10 [None, None]\n",
      "Q11 [None, None]\n",
      "Q12 [None, None]\n",
      "Q13 [None, None]\n",
      "Q14 [None, None]\n",
      "Q15 [None, None]\n",
      "Q16 [None, None]\n",
      "Q17 [None, None]\n",
      "Q18 [None, None]\n",
      "Q19 [None, None]\n",
      "Q20 [None, None]\n",
      "Q21 [None, None]\n",
      "Q22 [None, None]\n",
      "Q23 [None, None]\n",
      "Q24 [None, None]\n",
      "Q25 [None, None]\n",
      "Q26 [None, None]\n",
      "Q27 [None, None]\n",
      "Q28 [None, None]\n",
      "Q29 [None, None]\n",
      "Q30 [None, None]\n",
      "Q31 [None, None]\n",
      "Q32 [None, None]\n",
      "Q33 [None, None]\n",
      "Q34 [None, None]\n",
      "Q35 [None, None]\n",
      "Q36 [None, None]\n",
      "Q37 [None, None]\n",
      "Q38 [None, None]\n",
      "Q39 [None, None]\n",
      "Q40 [None, None]\n",
      "Q41 [None, None]\n",
      "Q42 [None, None]\n",
      "Q43 [None, None]\n",
      "Q44 [None, None]\n",
      "Q45 [None, None]\n",
      "Q46 [None, None]\n",
      "Q47 [None, None]\n",
      "Q48 [None, None]\n",
      "Q49 [None, None]\n",
      "Q50 [None, None]\n"
     ]
    }
   ],
   "source": [
    "for k,v in data.items():\n",
    "    if type(v) == pd.DataFrame: \n",
    "        print(k, \"df\")\n",
    "    else : \n",
    "        print(k, v)"
   ]
  },
  {
   "cell_type": "code",
   "execution_count": 13,
   "id": "7f54adce-ad59-4430-a38f-f3a9781853fd",
   "metadata": {},
   "outputs": [
    {
     "data": {
      "text/plain": [
       "dict_keys(['dfa', 'dfb', 'dfp', 'lenA', 'lenB', 'lenTot', 'Q1', 'Q2', 'Q3', 'Q4', 'Q5', 'Q6', 'Q7', 'Q8', 'Q9', 'Q10', 'Q11', 'Q12', 'Q13', 'Q14', 'Q15', 'Q16', 'Q17', 'Q18', 'Q19', 'Q20', 'Q21', 'Q22', 'Q23', 'Q24', 'Q25', 'Q26', 'Q27', 'Q28', 'Q29', 'Q30', 'Q31', 'Q32', 'Q33', 'Q34', 'Q35', 'Q36', 'Q37', 'Q38', 'Q39', 'Q40', 'Q41', 'Q42', 'Q43', 'Q44', 'Q45', 'Q46', 'Q47', 'Q48', 'Q49', 'Q50'])"
      ]
     },
     "execution_count": 13,
     "metadata": {},
     "output_type": "execute_result"
    }
   ],
   "source": [
    "data.keys()"
   ]
  },
  {
   "cell_type": "code",
   "execution_count": 10,
   "id": "8f3fc6af",
   "metadata": {},
   "outputs": [
    {
     "data": {
      "text/plain": [
       "0"
      ]
     },
     "execution_count": 10,
     "metadata": {},
     "output_type": "execute_result"
    }
   ],
   "source": [
    "dfa = data['dfa'].copy()\n",
    "dfb = data['dfb'].copy()\n",
    "dfa\n",
    "\n",
    "dfa.Res.notnull().sum() + dfb.Res.notnull().sum()"
   ]
  },
  {
   "cell_type": "code",
   "execution_count": 5,
   "id": "0bcead18",
   "metadata": {},
   "outputs": [
    {
     "data": {
      "text/html": [
       "<div>\n",
       "<style scoped>\n",
       "    .dataframe tbody tr th:only-of-type {\n",
       "        vertical-align: middle;\n",
       "    }\n",
       "\n",
       "    .dataframe tbody tr th {\n",
       "        vertical-align: top;\n",
       "    }\n",
       "\n",
       "    .dataframe thead th {\n",
       "        text-align: right;\n",
       "    }\n",
       "</style>\n",
       "<table border=\"1\" class=\"dataframe\">\n",
       "  <thead>\n",
       "    <tr style=\"text-align: right;\">\n",
       "      <th></th>\n",
       "      <th>Pillar</th>\n",
       "      <th>Level</th>\n",
       "      <th>Content</th>\n",
       "      <th>Reponse</th>\n",
       "    </tr>\n",
       "    <tr>\n",
       "      <th>Q</th>\n",
       "      <th></th>\n",
       "      <th></th>\n",
       "      <th></th>\n",
       "      <th></th>\n",
       "    </tr>\n",
       "  </thead>\n",
       "  <tbody>\n",
       "    <tr>\n",
       "      <th>4</th>\n",
       "      <td>1</td>\n",
       "      <td>1</td>\n",
       "      <td>Who is responsible for paying for the repair o...</td>\n",
       "      <td>NaN</td>\n",
       "    </tr>\n",
       "    <tr>\n",
       "      <th>4</th>\n",
       "      <td>1</td>\n",
       "      <td>2</td>\n",
       "      <td>Costs are fully funded by the national government</td>\n",
       "      <td>yes/no</td>\n",
       "    </tr>\n",
       "    <tr>\n",
       "      <th>4</th>\n",
       "      <td>1</td>\n",
       "      <td>2</td>\n",
       "      <td>Costs are fully funded by the subnational gove...</td>\n",
       "      <td>yes/no</td>\n",
       "    </tr>\n",
       "    <tr>\n",
       "      <th>4</th>\n",
       "      <td>1</td>\n",
       "      <td>2</td>\n",
       "      <td>Costs are shared between the national governme...</td>\n",
       "      <td>yes/no</td>\n",
       "    </tr>\n",
       "    <tr>\n",
       "      <th>4</th>\n",
       "      <td>1</td>\n",
       "      <td>2</td>\n",
       "      <td>Costs are shared between the national governme...</td>\n",
       "      <td>yes/no</td>\n",
       "    </tr>\n",
       "    <tr>\n",
       "      <th>4</th>\n",
       "      <td>1</td>\n",
       "      <td>2</td>\n",
       "      <td>Other:</td>\n",
       "      <td>other</td>\n",
       "    </tr>\n",
       "  </tbody>\n",
       "</table>\n",
       "</div>"
      ],
      "text/plain": [
       "   Pillar  Level                                            Content Reponse\n",
       "Q                                                                          \n",
       "4       1      1  Who is responsible for paying for the repair o...     NaN\n",
       "4       1      2  Costs are fully funded by the national government  yes/no\n",
       "4       1      2  Costs are fully funded by the subnational gove...  yes/no\n",
       "4       1      2  Costs are shared between the national governme...  yes/no\n",
       "4       1      2  Costs are shared between the national governme...  yes/no\n",
       "4       1      2                                             Other:   other"
      ]
     },
     "execution_count": 5,
     "metadata": {},
     "output_type": "execute_result"
    }
   ],
   "source": [
    "dfa2 = dfa.loc[4]\n",
    "dfa2"
   ]
  },
  {
   "cell_type": "code",
   "execution_count": null,
   "id": "442db509",
   "metadata": {},
   "outputs": [
    {
     "name": "stdout",
     "output_type": "stream",
     "text": [
      "yes/no\n",
      "yes/no\n",
      "yes/no\n",
      "yes/no\n",
      "other\n"
     ]
    }
   ],
   "source": [
    "for idx, row in dfa2.iterrows():\n",
    "    Pillar , Level , Content , Reponse = row.tolist()\n",
    "    if Reponse == \"yes/no\"\n",
    "    if pd.notna(Reponse)  : print(Reponse)\n"
   ]
  },
  {
   "cell_type": "code",
   "execution_count": 5,
   "id": "31d73068",
   "metadata": {},
   "outputs": [
    {
     "ename": "NameError",
     "evalue": "name 'dfa2' is not defined",
     "output_type": "error",
     "traceback": [
      "\u001b[1;31m---------------------------------------------------------------------------\u001b[0m",
      "\u001b[1;31mNameError\u001b[0m                                 Traceback (most recent call last)",
      "Cell \u001b[1;32mIn[5], line 2\u001b[0m\n\u001b[0;32m      1\u001b[0m Qn \u001b[38;5;241m=\u001b[39m \u001b[38;5;241m1\u001b[39m\n\u001b[1;32m----> 2\u001b[0m pn \u001b[38;5;241m=\u001b[39m \u001b[43mdfa2\u001b[49m[\u001b[38;5;124m\"\u001b[39m\u001b[38;5;124mPillar\u001b[39m\u001b[38;5;124m\"\u001b[39m]\u001b[38;5;241m.\u001b[39miloc[\u001b[38;5;241m0\u001b[39m]\n\u001b[0;32m      3\u001b[0m \u001b[38;5;28mprint\u001b[39m(pn)\n\u001b[0;32m      4\u001b[0m Pillar_List \u001b[38;5;241m=\u001b[39m dfp\u001b[38;5;241m.\u001b[39mloc[pn]\u001b[38;5;241m.\u001b[39mtolist()\n",
      "\u001b[1;31mNameError\u001b[0m: name 'dfa2' is not defined"
     ]
    }
   ],
   "source": [
    "Qn = 1\n",
    "pn = dfa2[\"Pillar\"].iloc[0]\n",
    "print(pn)\n",
    "Pillar_List = dfp.loc[pn].tolist()"
   ]
  },
  {
   "cell_type": "markdown",
   "id": "7983ce91",
   "metadata": {
    "jp-MarkdownHeadingCollapsed": true
   },
   "source": [
    "# Test immport from docx"
   ]
  },
  {
   "cell_type": "code",
   "execution_count": null,
   "id": "d036a1f1",
   "metadata": {},
   "outputs": [
    {
     "name": "stdout",
     "output_type": "stream",
     "text": [
      "4 tableaux extraits.\n",
      "                                            Question  \\\n",
      "0  This column is a replication of the questions ...   \n",
      "\n",
      "                                 Facilitator Context  \\\n",
      "0  This column provides additional context that h...   \n",
      "\n",
      "                                 Facilitator’s Notes  \n",
      "0  This column is left blank and allows the facil...  \n"
     ]
    }
   ],
   "source": [
    "import pandas as pd\n",
    "from docx import Document\n",
    "\n",
    "File  = 'save/EEPA Tool v28 23 Feb 2023.xlsx'\n",
    "# Charger le document Word\n",
    "doc = Document(\"SAVE/EEPA_Tool_Facilitators_Handbook_UR24.docx\")\n",
    "\n",
    "# Liste pour stocker les DataFrames\n",
    "tables = []\n",
    "\n",
    "# Parcourir toutes les tables du document\n",
    "for table in doc.tables:\n",
    "    data = []\n",
    "    keys = None\n",
    "    for i, row in enumerate(table.rows):\n",
    "        text = [cell.text.strip() for cell in row.cells]\n",
    "        if i == 0:\n",
    "            keys = text  # première ligne = entêtes\n",
    "        else:\n",
    "            data.append(text)\n",
    "    df = pd.DataFrame(data, columns=keys)\n",
    "    tables.append(df)\n",
    "\n",
    "# Affichage du nombre de tableaux extraits\n",
    "print(f\"{len(tables)} tableaux extraits.\")\n",
    "\n",
    "# Exemple : afficher le premier tableau\n",
    "print(tables[0])\n"
   ]
  },
  {
   "cell_type": "code",
   "execution_count": 9,
   "id": "b776387b",
   "metadata": {},
   "outputs": [
    {
     "name": "stdout",
     "output_type": "stream",
     "text": [
      "Empty DataFrame\n",
      "Columns: []\n",
      "Index: []\n"
     ]
    },
    {
     "name": "stderr",
     "output_type": "stream",
     "text": [
      "C:\\Users\\egos\\AppData\\Local\\Temp\\ipykernel_42000\\2279387805.py:33: UserWarning: Pandas requires version '3.0.3' or newer of 'xlsxwriter' (version '3.0.1' currently installed).\n",
      "  questions_df.to_excel('save/questions_partA.xlsx', index=False)\n"
     ]
    }
   ],
   "source": [
    "import pandas as pd\n",
    "import re\n",
    "\n",
    "# Charger uniquement la feuille PartA\n",
    "file_path = 'save/EEPA Tool v28 23 Feb 2023.xlsx'\n",
    "df = pd.read_excel(file_path, sheet_name='PartA', header=None)\n",
    "\n",
    "# Se concentrer à partir de la cellule F21\n",
    "start_row = 20  # index 0-based donc 21 -> 20\n",
    "start_col = 5   # F est la 6ème colonne donc 5 en index Python\n",
    "\n",
    "# Extraire toutes les questions de la colonne F à partir de la ligne 21\n",
    "questions = df.iloc[start_row:, start_col]\n",
    "\n",
    "# Filtrer uniquement les lignes qui commencent par (a), (b), (c), etc.\n",
    "pattern = r\"^\\([a-zA-Z]\\)\"  # regex qui capture (a), (b), etc.\n",
    "\n",
    "resultats = []\n",
    "for idx, question in questions.dropna().items():\n",
    "    if re.match(pattern, str(question).strip()):\n",
    "        resultats.append({\n",
    "            'Numéro de question': question[:3],  # par exemple (a)\n",
    "            'Texte de la question': question[3:].strip()  # le reste du texte après (a)\n",
    "        })\n",
    "\n",
    "# Transformer en DataFrame\n",
    "questions_df = pd.DataFrame(resultats)\n",
    "\n",
    "# Afficher ou sauvegarder\n",
    "print(questions_df)\n",
    "\n",
    "# Sauvegarde dans un fichier si besoin\n",
    "questions_df.to_excel('save/questions_partA.xlsx', index=False)\n"
   ]
  },
  {
   "cell_type": "code",
   "execution_count": 8,
   "id": "e794024e",
   "metadata": {},
   "outputs": [
    {
     "data": {
      "text/html": [
       "<div>\n",
       "<style scoped>\n",
       "    .dataframe tbody tr th:only-of-type {\n",
       "        vertical-align: middle;\n",
       "    }\n",
       "\n",
       "    .dataframe tbody tr th {\n",
       "        vertical-align: top;\n",
       "    }\n",
       "\n",
       "    .dataframe thead th {\n",
       "        text-align: right;\n",
       "    }\n",
       "</style>\n",
       "<table border=\"1\" class=\"dataframe\">\n",
       "  <thead>\n",
       "    <tr style=\"text-align: right;\">\n",
       "      <th></th>\n",
       "    </tr>\n",
       "  </thead>\n",
       "  <tbody>\n",
       "  </tbody>\n",
       "</table>\n",
       "</div>"
      ],
      "text/plain": [
       "Empty DataFrame\n",
       "Columns: []\n",
       "Index: []"
      ]
     },
     "execution_count": 8,
     "metadata": {},
     "output_type": "execute_result"
    }
   ],
   "source": [
    "questions_df"
   ]
  },
  {
   "cell_type": "code",
   "execution_count": null,
   "id": "d940369b",
   "metadata": {},
   "outputs": [
    {
     "name": "stderr",
     "output_type": "stream",
     "text": [
      "c:\\Users\\egos\\anaconda3\\envs\\base2\\Lib\\site-packages\\openpyxl\\worksheet\\_reader.py:329: UserWarning: Data Validation extension is not supported and will be removed\n",
      "  warn(msg)\n"
     ]
    },
    {
     "data": {
      "text/html": [
       "<div>\n",
       "<style scoped>\n",
       "    .dataframe tbody tr th:only-of-type {\n",
       "        vertical-align: middle;\n",
       "    }\n",
       "\n",
       "    .dataframe tbody tr th {\n",
       "        vertical-align: top;\n",
       "    }\n",
       "\n",
       "    .dataframe thead th {\n",
       "        text-align: right;\n",
       "    }\n",
       "</style>\n",
       "<table border=\"1\" class=\"dataframe\">\n",
       "  <thead>\n",
       "    <tr style=\"text-align: right;\">\n",
       "      <th></th>\n",
       "      <th>Unnamed: 0</th>\n",
       "      <th>Unnamed: 1</th>\n",
       "      <th>Unnamed: 2</th>\n",
       "      <th>Unnamed: 3</th>\n",
       "      <th>Unnamed: 4</th>\n",
       "      <th>Unnamed: 5</th>\n",
       "      <th>Unnamed: 6</th>\n",
       "      <th>Unnamed: 7</th>\n",
       "      <th>Unnamed: 8</th>\n",
       "      <th>Unnamed: 9</th>\n",
       "      <th>...</th>\n",
       "      <th>Unnamed: 42</th>\n",
       "      <th>Unnamed: 43</th>\n",
       "      <th>Unnamed: 44</th>\n",
       "      <th>Unnamed: 45</th>\n",
       "      <th>Unnamed: 46</th>\n",
       "      <th>Unnamed: 47</th>\n",
       "      <th>Unnamed: 48</th>\n",
       "      <th>Unnamed: 49</th>\n",
       "      <th>Unnamed: 50</th>\n",
       "      <th>Unnamed: 51</th>\n",
       "    </tr>\n",
       "  </thead>\n",
       "  <tbody>\n",
       "    <tr>\n",
       "      <th>0</th>\n",
       "      <td>NaN</td>\n",
       "      <td>NaN</td>\n",
       "      <td>NaN</td>\n",
       "      <td>NaN</td>\n",
       "      <td>Public Assets Financial Protection Program</td>\n",
       "      <td>NaN</td>\n",
       "      <td>NaN</td>\n",
       "      <td>NaN</td>\n",
       "      <td>NaN</td>\n",
       "      <td>NaN</td>\n",
       "      <td>...</td>\n",
       "      <td>NaN</td>\n",
       "      <td>NaN</td>\n",
       "      <td>NaN</td>\n",
       "      <td>NaN</td>\n",
       "      <td>NaN</td>\n",
       "      <td>NaN</td>\n",
       "      <td>NaN</td>\n",
       "      <td>NaN</td>\n",
       "      <td>NaN</td>\n",
       "      <td>NaN</td>\n",
       "    </tr>\n",
       "    <tr>\n",
       "      <th>1</th>\n",
       "      <td>NaN</td>\n",
       "      <td>NaN</td>\n",
       "      <td>NaN</td>\n",
       "      <td>NaN</td>\n",
       "      <td>Enabling Environment and Progress Assessment</td>\n",
       "      <td>NaN</td>\n",
       "      <td>NaN</td>\n",
       "      <td>NaN</td>\n",
       "      <td>NaN</td>\n",
       "      <td>NaN</td>\n",
       "      <td>...</td>\n",
       "      <td>NaN</td>\n",
       "      <td>NaN</td>\n",
       "      <td>NaN</td>\n",
       "      <td>NaN</td>\n",
       "      <td>NaN</td>\n",
       "      <td>NaN</td>\n",
       "      <td>NaN</td>\n",
       "      <td>NaN</td>\n",
       "      <td>NaN</td>\n",
       "      <td>NaN</td>\n",
       "    </tr>\n",
       "    <tr>\n",
       "      <th>2</th>\n",
       "      <td>NaN</td>\n",
       "      <td>NaN</td>\n",
       "      <td>NaN</td>\n",
       "      <td>NaN</td>\n",
       "      <td>NaN</td>\n",
       "      <td>NaN</td>\n",
       "      <td>NaN</td>\n",
       "      <td>NaN</td>\n",
       "      <td>NaN</td>\n",
       "      <td>NaN</td>\n",
       "      <td>...</td>\n",
       "      <td>NaN</td>\n",
       "      <td>NaN</td>\n",
       "      <td>NaN</td>\n",
       "      <td>NaN</td>\n",
       "      <td>NaN</td>\n",
       "      <td>NaN</td>\n",
       "      <td>NaN</td>\n",
       "      <td>NaN</td>\n",
       "      <td>NaN</td>\n",
       "      <td>NaN</td>\n",
       "    </tr>\n",
       "    <tr>\n",
       "      <th>3</th>\n",
       "      <td>NaN</td>\n",
       "      <td>NaN</td>\n",
       "      <td>NaN</td>\n",
       "      <td>NaN</td>\n",
       "      <td>NaN</td>\n",
       "      <td>NaN</td>\n",
       "      <td>NaN</td>\n",
       "      <td>NaN</td>\n",
       "      <td>NaN</td>\n",
       "      <td>NaN</td>\n",
       "      <td>...</td>\n",
       "      <td>NaN</td>\n",
       "      <td>NaN</td>\n",
       "      <td>NaN</td>\n",
       "      <td>NaN</td>\n",
       "      <td>NaN</td>\n",
       "      <td>NaN</td>\n",
       "      <td>NaN</td>\n",
       "      <td>NaN</td>\n",
       "      <td>NaN</td>\n",
       "      <td>NaN</td>\n",
       "    </tr>\n",
       "    <tr>\n",
       "      <th>4</th>\n",
       "      <td>NaN</td>\n",
       "      <td>NaN</td>\n",
       "      <td>NaN</td>\n",
       "      <td>NaN</td>\n",
       "      <td>NaN</td>\n",
       "      <td>NaN</td>\n",
       "      <td>NaN</td>\n",
       "      <td>NaN</td>\n",
       "      <td>NaN</td>\n",
       "      <td>NaN</td>\n",
       "      <td>...</td>\n",
       "      <td>NaN</td>\n",
       "      <td>NaN</td>\n",
       "      <td>NaN</td>\n",
       "      <td>NaN</td>\n",
       "      <td>NaN</td>\n",
       "      <td>NaN</td>\n",
       "      <td>NaN</td>\n",
       "      <td>NaN</td>\n",
       "      <td>NaN</td>\n",
       "      <td>NaN</td>\n",
       "    </tr>\n",
       "    <tr>\n",
       "      <th>5</th>\n",
       "      <td>NaN</td>\n",
       "      <td>NaN</td>\n",
       "      <td>NaN</td>\n",
       "      <td>Part A: Enabling Environment</td>\n",
       "      <td>NaN</td>\n",
       "      <td>NaN</td>\n",
       "      <td>NaN</td>\n",
       "      <td>NaN</td>\n",
       "      <td>NaN</td>\n",
       "      <td>NaN</td>\n",
       "      <td>...</td>\n",
       "      <td>NaN</td>\n",
       "      <td>NaN</td>\n",
       "      <td>Pillar 1: Institutional Readiness</td>\n",
       "      <td>NaN</td>\n",
       "      <td>NaN</td>\n",
       "      <td>NaN</td>\n",
       "      <td>NaN</td>\n",
       "      <td>NaN</td>\n",
       "      <td>NaN</td>\n",
       "      <td>NaN</td>\n",
       "    </tr>\n",
       "    <tr>\n",
       "      <th>6</th>\n",
       "      <td>NaN</td>\n",
       "      <td>NaN</td>\n",
       "      <td>NaN</td>\n",
       "      <td>Part B: Progress Assessment</td>\n",
       "      <td>NaN</td>\n",
       "      <td>NaN</td>\n",
       "      <td>NaN</td>\n",
       "      <td>NaN</td>\n",
       "      <td>NaN</td>\n",
       "      <td>NaN</td>\n",
       "      <td>...</td>\n",
       "      <td>NaN</td>\n",
       "      <td>NaN</td>\n",
       "      <td>Pillar 2: Data Readiness</td>\n",
       "      <td>NaN</td>\n",
       "      <td>NaN</td>\n",
       "      <td>NaN</td>\n",
       "      <td>NaN</td>\n",
       "      <td>NaN</td>\n",
       "      <td>NaN</td>\n",
       "      <td>NaN</td>\n",
       "    </tr>\n",
       "    <tr>\n",
       "      <th>7</th>\n",
       "      <td>NaN</td>\n",
       "      <td>NaN</td>\n",
       "      <td>NaN</td>\n",
       "      <td>NaN</td>\n",
       "      <td>NaN</td>\n",
       "      <td>NaN</td>\n",
       "      <td>NaN</td>\n",
       "      <td>NaN</td>\n",
       "      <td>NaN</td>\n",
       "      <td>NaN</td>\n",
       "      <td>...</td>\n",
       "      <td>NaN</td>\n",
       "      <td>NaN</td>\n",
       "      <td>Pillar 3: Operational Readiness</td>\n",
       "      <td>NaN</td>\n",
       "      <td>NaN</td>\n",
       "      <td>NaN</td>\n",
       "      <td>NaN</td>\n",
       "      <td>NaN</td>\n",
       "      <td>NaN</td>\n",
       "      <td>NaN</td>\n",
       "    </tr>\n",
       "    <tr>\n",
       "      <th>8</th>\n",
       "      <td>NaN</td>\n",
       "      <td>NaN</td>\n",
       "      <td>NaN</td>\n",
       "      <td>NaN</td>\n",
       "      <td>NaN</td>\n",
       "      <td>NaN</td>\n",
       "      <td>NaN</td>\n",
       "      <td>NaN</td>\n",
       "      <td>NaN</td>\n",
       "      <td>NaN</td>\n",
       "      <td>...</td>\n",
       "      <td>NaN</td>\n",
       "      <td>NaN</td>\n",
       "      <td>Pillar 4: Insurance Market Readiness</td>\n",
       "      <td>NaN</td>\n",
       "      <td>NaN</td>\n",
       "      <td>NaN</td>\n",
       "      <td>NaN</td>\n",
       "      <td>NaN</td>\n",
       "      <td>NaN</td>\n",
       "      <td>NaN</td>\n",
       "    </tr>\n",
       "    <tr>\n",
       "      <th>9</th>\n",
       "      <td>NaN</td>\n",
       "      <td>NaN</td>\n",
       "      <td>NaN</td>\n",
       "      <td>NaN</td>\n",
       "      <td>NaN</td>\n",
       "      <td>NaN</td>\n",
       "      <td>NaN</td>\n",
       "      <td>NaN</td>\n",
       "      <td>NaN</td>\n",
       "      <td>NaN</td>\n",
       "      <td>...</td>\n",
       "      <td>NaN</td>\n",
       "      <td>NaN</td>\n",
       "      <td>NaN</td>\n",
       "      <td>NaN</td>\n",
       "      <td>NaN</td>\n",
       "      <td>NaN</td>\n",
       "      <td>NaN</td>\n",
       "      <td>NaN</td>\n",
       "      <td>NaN</td>\n",
       "      <td>NaN</td>\n",
       "    </tr>\n",
       "    <tr>\n",
       "      <th>10</th>\n",
       "      <td>NaN</td>\n",
       "      <td>NaN</td>\n",
       "      <td>NaN</td>\n",
       "      <td>Pillar 1: Institutional Readiness</td>\n",
       "      <td>NaN</td>\n",
       "      <td>NaN</td>\n",
       "      <td>NaN</td>\n",
       "      <td>NaN</td>\n",
       "      <td>NaN</td>\n",
       "      <td>NaN</td>\n",
       "      <td>...</td>\n",
       "      <td>NaN</td>\n",
       "      <td>NaN</td>\n",
       "      <td>NaN</td>\n",
       "      <td>NaN</td>\n",
       "      <td>NaN</td>\n",
       "      <td>NaN</td>\n",
       "      <td>NaN</td>\n",
       "      <td>NaN</td>\n",
       "      <td>NaN</td>\n",
       "      <td>NaN</td>\n",
       "    </tr>\n",
       "    <tr>\n",
       "      <th>11</th>\n",
       "      <td>NaN</td>\n",
       "      <td>NaN</td>\n",
       "      <td>NaN</td>\n",
       "      <td>NaN</td>\n",
       "      <td>NaN</td>\n",
       "      <td>NaN</td>\n",
       "      <td>NaN</td>\n",
       "      <td>NaN</td>\n",
       "      <td>NaN</td>\n",
       "      <td>NaN</td>\n",
       "      <td>...</td>\n",
       "      <td>NaN</td>\n",
       "      <td>NaN</td>\n",
       "      <td>NaN</td>\n",
       "      <td>NaN</td>\n",
       "      <td>NaN</td>\n",
       "      <td>NaN</td>\n",
       "      <td>NaN</td>\n",
       "      <td>NaN</td>\n",
       "      <td>NaN</td>\n",
       "      <td>NaN</td>\n",
       "    </tr>\n",
       "    <tr>\n",
       "      <th>12</th>\n",
       "      <td>NaN</td>\n",
       "      <td>NaN</td>\n",
       "      <td>NaN</td>\n",
       "      <td>Question:</td>\n",
       "      <td>NaN</td>\n",
       "      <td>NaN</td>\n",
       "      <td>NaN</td>\n",
       "      <td>NaN</td>\n",
       "      <td>NaN</td>\n",
       "      <td>NaN</td>\n",
       "      <td>...</td>\n",
       "      <td>NaN</td>\n",
       "      <td>NaN</td>\n",
       "      <td>NaN</td>\n",
       "      <td>NaN</td>\n",
       "      <td>NaN</td>\n",
       "      <td>NaN</td>\n",
       "      <td>NaN</td>\n",
       "      <td>NaN</td>\n",
       "      <td>NaN</td>\n",
       "      <td>Response:</td>\n",
       "    </tr>\n",
       "    <tr>\n",
       "      <th>13</th>\n",
       "      <td>NaN</td>\n",
       "      <td>NaN</td>\n",
       "      <td>NaN</td>\n",
       "      <td>NaN</td>\n",
       "      <td>NaN</td>\n",
       "      <td>NaN</td>\n",
       "      <td>NaN</td>\n",
       "      <td>NaN</td>\n",
       "      <td>NaN</td>\n",
       "      <td>NaN</td>\n",
       "      <td>...</td>\n",
       "      <td>NaN</td>\n",
       "      <td>NaN</td>\n",
       "      <td>NaN</td>\n",
       "      <td>NaN</td>\n",
       "      <td>NaN</td>\n",
       "      <td>NaN</td>\n",
       "      <td>NaN</td>\n",
       "      <td>NaN</td>\n",
       "      <td>NaN</td>\n",
       "      <td>NaN</td>\n",
       "    </tr>\n",
       "    <tr>\n",
       "      <th>14</th>\n",
       "      <td>NaN</td>\n",
       "      <td>NaN</td>\n",
       "      <td>NaN</td>\n",
       "      <td>1.</td>\n",
       "      <td>Are public assets owned and administered centr...</td>\n",
       "      <td>NaN</td>\n",
       "      <td>NaN</td>\n",
       "      <td>NaN</td>\n",
       "      <td>NaN</td>\n",
       "      <td>NaN</td>\n",
       "      <td>...</td>\n",
       "      <td>NaN</td>\n",
       "      <td>NaN</td>\n",
       "      <td>NaN</td>\n",
       "      <td>NaN</td>\n",
       "      <td>NaN</td>\n",
       "      <td>NaN</td>\n",
       "      <td>NaN</td>\n",
       "      <td>NaN</td>\n",
       "      <td>NaN</td>\n",
       "      <td>NaN</td>\n",
       "    </tr>\n",
       "    <tr>\n",
       "      <th>15</th>\n",
       "      <td>NaN</td>\n",
       "      <td>NaN</td>\n",
       "      <td>NaN</td>\n",
       "      <td>NaN</td>\n",
       "      <td>NaN</td>\n",
       "      <td>NaN</td>\n",
       "      <td>NaN</td>\n",
       "      <td>NaN</td>\n",
       "      <td>NaN</td>\n",
       "      <td>NaN</td>\n",
       "      <td>...</td>\n",
       "      <td>NaN</td>\n",
       "      <td>NaN</td>\n",
       "      <td>NaN</td>\n",
       "      <td>NaN</td>\n",
       "      <td>NaN</td>\n",
       "      <td>NaN</td>\n",
       "      <td>NaN</td>\n",
       "      <td>NaN</td>\n",
       "      <td>NaN</td>\n",
       "      <td>NaN</td>\n",
       "    </tr>\n",
       "    <tr>\n",
       "      <th>16</th>\n",
       "      <td>NaN</td>\n",
       "      <td>NaN</td>\n",
       "      <td>NaN</td>\n",
       "      <td>NaN</td>\n",
       "      <td>NaN</td>\n",
       "      <td>NaN</td>\n",
       "      <td>NaN</td>\n",
       "      <td>NaN</td>\n",
       "      <td>NaN</td>\n",
       "      <td>NaN</td>\n",
       "      <td>...</td>\n",
       "      <td>NaN</td>\n",
       "      <td>NaN</td>\n",
       "      <td>NaN</td>\n",
       "      <td>NaN</td>\n",
       "      <td>NaN</td>\n",
       "      <td>NaN</td>\n",
       "      <td>NaN</td>\n",
       "      <td>NaN</td>\n",
       "      <td>NaN</td>\n",
       "      <td>NaN</td>\n",
       "    </tr>\n",
       "    <tr>\n",
       "      <th>17</th>\n",
       "      <td>NaN</td>\n",
       "      <td>NaN</td>\n",
       "      <td>NaN</td>\n",
       "      <td>NaN</td>\n",
       "      <td>NaN</td>\n",
       "      <td>NaN</td>\n",
       "      <td>NaN</td>\n",
       "      <td>NaN</td>\n",
       "      <td>NaN</td>\n",
       "      <td>NaN</td>\n",
       "      <td>...</td>\n",
       "      <td>NaN</td>\n",
       "      <td>NaN</td>\n",
       "      <td>NaN</td>\n",
       "      <td>NaN</td>\n",
       "      <td>NaN</td>\n",
       "      <td>NaN</td>\n",
       "      <td>NaN</td>\n",
       "      <td>NaN</td>\n",
       "      <td>NaN</td>\n",
       "      <td>NaN</td>\n",
       "    </tr>\n",
       "    <tr>\n",
       "      <th>18</th>\n",
       "      <td>NaN</td>\n",
       "      <td>NaN</td>\n",
       "      <td>NaN</td>\n",
       "      <td>NaN</td>\n",
       "      <td>NaN</td>\n",
       "      <td>a.     Assets are owned centrally</td>\n",
       "      <td>NaN</td>\n",
       "      <td>NaN</td>\n",
       "      <td>NaN</td>\n",
       "      <td>NaN</td>\n",
       "      <td>...</td>\n",
       "      <td>NaN</td>\n",
       "      <td>NaN</td>\n",
       "      <td>NaN</td>\n",
       "      <td>NaN</td>\n",
       "      <td>NaN</td>\n",
       "      <td>NaN</td>\n",
       "      <td>NaN</td>\n",
       "      <td>NaN</td>\n",
       "      <td>NaN</td>\n",
       "      <td>NaN</td>\n",
       "    </tr>\n",
       "    <tr>\n",
       "      <th>19</th>\n",
       "      <td>NaN</td>\n",
       "      <td>NaN</td>\n",
       "      <td>NaN</td>\n",
       "      <td>NaN</td>\n",
       "      <td>NaN</td>\n",
       "      <td>NaN</td>\n",
       "      <td>NaN</td>\n",
       "      <td>NaN</td>\n",
       "      <td>NaN</td>\n",
       "      <td>NaN</td>\n",
       "      <td>...</td>\n",
       "      <td>NaN</td>\n",
       "      <td>NaN</td>\n",
       "      <td>NaN</td>\n",
       "      <td>NaN</td>\n",
       "      <td>NaN</td>\n",
       "      <td>NaN</td>\n",
       "      <td>NaN</td>\n",
       "      <td>NaN</td>\n",
       "      <td>NaN</td>\n",
       "      <td>NaN</td>\n",
       "    </tr>\n",
       "    <tr>\n",
       "      <th>20</th>\n",
       "      <td>NaN</td>\n",
       "      <td>NaN</td>\n",
       "      <td>NaN</td>\n",
       "      <td>NaN</td>\n",
       "      <td>NaN</td>\n",
       "      <td>NaN</td>\n",
       "      <td>NaN</td>\n",
       "      <td>NaN</td>\n",
       "      <td>NaN</td>\n",
       "      <td>NaN</td>\n",
       "      <td>...</td>\n",
       "      <td>NaN</td>\n",
       "      <td>NaN</td>\n",
       "      <td>NaN</td>\n",
       "      <td>NaN</td>\n",
       "      <td>NaN</td>\n",
       "      <td>NaN</td>\n",
       "      <td>NaN</td>\n",
       "      <td>NaN</td>\n",
       "      <td>NaN</td>\n",
       "      <td>NaN</td>\n",
       "    </tr>\n",
       "    <tr>\n",
       "      <th>21</th>\n",
       "      <td>NaN</td>\n",
       "      <td>NaN</td>\n",
       "      <td>NaN</td>\n",
       "      <td>NaN</td>\n",
       "      <td>NaN</td>\n",
       "      <td>b.     Assets are managed centrally</td>\n",
       "      <td>NaN</td>\n",
       "      <td>NaN</td>\n",
       "      <td>NaN</td>\n",
       "      <td>NaN</td>\n",
       "      <td>...</td>\n",
       "      <td>NaN</td>\n",
       "      <td>NaN</td>\n",
       "      <td>NaN</td>\n",
       "      <td>NaN</td>\n",
       "      <td>NaN</td>\n",
       "      <td>NaN</td>\n",
       "      <td>NaN</td>\n",
       "      <td>NaN</td>\n",
       "      <td>NaN</td>\n",
       "      <td>NaN</td>\n",
       "    </tr>\n",
       "    <tr>\n",
       "      <th>22</th>\n",
       "      <td>NaN</td>\n",
       "      <td>NaN</td>\n",
       "      <td>NaN</td>\n",
       "      <td>NaN</td>\n",
       "      <td>NaN</td>\n",
       "      <td>NaN</td>\n",
       "      <td>NaN</td>\n",
       "      <td>NaN</td>\n",
       "      <td>NaN</td>\n",
       "      <td>NaN</td>\n",
       "      <td>...</td>\n",
       "      <td>NaN</td>\n",
       "      <td>NaN</td>\n",
       "      <td>NaN</td>\n",
       "      <td>NaN</td>\n",
       "      <td>NaN</td>\n",
       "      <td>NaN</td>\n",
       "      <td>NaN</td>\n",
       "      <td>NaN</td>\n",
       "      <td>NaN</td>\n",
       "      <td>NaN</td>\n",
       "    </tr>\n",
       "    <tr>\n",
       "      <th>23</th>\n",
       "      <td>NaN</td>\n",
       "      <td>NaN</td>\n",
       "      <td>NaN</td>\n",
       "      <td>NaN</td>\n",
       "      <td>NaN</td>\n",
       "      <td>NaN</td>\n",
       "      <td>NaN</td>\n",
       "      <td>NaN</td>\n",
       "      <td>NaN</td>\n",
       "      <td>NaN</td>\n",
       "      <td>...</td>\n",
       "      <td>NaN</td>\n",
       "      <td>NaN</td>\n",
       "      <td>NaN</td>\n",
       "      <td>NaN</td>\n",
       "      <td>NaN</td>\n",
       "      <td>NaN</td>\n",
       "      <td>NaN</td>\n",
       "      <td>NaN</td>\n",
       "      <td>NaN</td>\n",
       "      <td>NaN</td>\n",
       "    </tr>\n",
       "    <tr>\n",
       "      <th>24</th>\n",
       "      <td>NaN</td>\n",
       "      <td>NaN</td>\n",
       "      <td>NaN</td>\n",
       "      <td>NaN</td>\n",
       "      <td>NaN</td>\n",
       "      <td>c.     Assets are owned at relevant line minis...</td>\n",
       "      <td>NaN</td>\n",
       "      <td>NaN</td>\n",
       "      <td>NaN</td>\n",
       "      <td>NaN</td>\n",
       "      <td>...</td>\n",
       "      <td>NaN</td>\n",
       "      <td>NaN</td>\n",
       "      <td>NaN</td>\n",
       "      <td>NaN</td>\n",
       "      <td>NaN</td>\n",
       "      <td>NaN</td>\n",
       "      <td>NaN</td>\n",
       "      <td>NaN</td>\n",
       "      <td>NaN</td>\n",
       "      <td>NaN</td>\n",
       "    </tr>\n",
       "    <tr>\n",
       "      <th>25</th>\n",
       "      <td>NaN</td>\n",
       "      <td>NaN</td>\n",
       "      <td>NaN</td>\n",
       "      <td>NaN</td>\n",
       "      <td>NaN</td>\n",
       "      <td>NaN</td>\n",
       "      <td>NaN</td>\n",
       "      <td>NaN</td>\n",
       "      <td>NaN</td>\n",
       "      <td>NaN</td>\n",
       "      <td>...</td>\n",
       "      <td>NaN</td>\n",
       "      <td>NaN</td>\n",
       "      <td>NaN</td>\n",
       "      <td>NaN</td>\n",
       "      <td>NaN</td>\n",
       "      <td>NaN</td>\n",
       "      <td>NaN</td>\n",
       "      <td>NaN</td>\n",
       "      <td>NaN</td>\n",
       "      <td>NaN</td>\n",
       "    </tr>\n",
       "    <tr>\n",
       "      <th>26</th>\n",
       "      <td>NaN</td>\n",
       "      <td>NaN</td>\n",
       "      <td>NaN</td>\n",
       "      <td>NaN</td>\n",
       "      <td>NaN</td>\n",
       "      <td>NaN</td>\n",
       "      <td>NaN</td>\n",
       "      <td>NaN</td>\n",
       "      <td>NaN</td>\n",
       "      <td>NaN</td>\n",
       "      <td>...</td>\n",
       "      <td>NaN</td>\n",
       "      <td>NaN</td>\n",
       "      <td>NaN</td>\n",
       "      <td>NaN</td>\n",
       "      <td>NaN</td>\n",
       "      <td>NaN</td>\n",
       "      <td>NaN</td>\n",
       "      <td>NaN</td>\n",
       "      <td>NaN</td>\n",
       "      <td>NaN</td>\n",
       "    </tr>\n",
       "    <tr>\n",
       "      <th>27</th>\n",
       "      <td>NaN</td>\n",
       "      <td>NaN</td>\n",
       "      <td>NaN</td>\n",
       "      <td>NaN</td>\n",
       "      <td>NaN</td>\n",
       "      <td>d.     Assets are managed at relevant line min...</td>\n",
       "      <td>NaN</td>\n",
       "      <td>NaN</td>\n",
       "      <td>NaN</td>\n",
       "      <td>NaN</td>\n",
       "      <td>...</td>\n",
       "      <td>NaN</td>\n",
       "      <td>NaN</td>\n",
       "      <td>NaN</td>\n",
       "      <td>NaN</td>\n",
       "      <td>NaN</td>\n",
       "      <td>NaN</td>\n",
       "      <td>NaN</td>\n",
       "      <td>NaN</td>\n",
       "      <td>NaN</td>\n",
       "      <td>NaN</td>\n",
       "    </tr>\n",
       "    <tr>\n",
       "      <th>28</th>\n",
       "      <td>NaN</td>\n",
       "      <td>NaN</td>\n",
       "      <td>NaN</td>\n",
       "      <td>NaN</td>\n",
       "      <td>NaN</td>\n",
       "      <td>NaN</td>\n",
       "      <td>NaN</td>\n",
       "      <td>NaN</td>\n",
       "      <td>NaN</td>\n",
       "      <td>NaN</td>\n",
       "      <td>...</td>\n",
       "      <td>NaN</td>\n",
       "      <td>NaN</td>\n",
       "      <td>NaN</td>\n",
       "      <td>NaN</td>\n",
       "      <td>NaN</td>\n",
       "      <td>NaN</td>\n",
       "      <td>NaN</td>\n",
       "      <td>NaN</td>\n",
       "      <td>NaN</td>\n",
       "      <td>NaN</td>\n",
       "    </tr>\n",
       "    <tr>\n",
       "      <th>29</th>\n",
       "      <td>NaN</td>\n",
       "      <td>NaN</td>\n",
       "      <td>NaN</td>\n",
       "      <td>NaN</td>\n",
       "      <td>NaN</td>\n",
       "      <td>NaN</td>\n",
       "      <td>NaN</td>\n",
       "      <td>NaN</td>\n",
       "      <td>NaN</td>\n",
       "      <td>NaN</td>\n",
       "      <td>...</td>\n",
       "      <td>NaN</td>\n",
       "      <td>NaN</td>\n",
       "      <td>NaN</td>\n",
       "      <td>NaN</td>\n",
       "      <td>NaN</td>\n",
       "      <td>NaN</td>\n",
       "      <td>NaN</td>\n",
       "      <td>NaN</td>\n",
       "      <td>NaN</td>\n",
       "      <td>NaN</td>\n",
       "    </tr>\n",
       "    <tr>\n",
       "      <th>30</th>\n",
       "      <td>NaN</td>\n",
       "      <td>NaN</td>\n",
       "      <td>NaN</td>\n",
       "      <td>NaN</td>\n",
       "      <td>NaN</td>\n",
       "      <td>NaN</td>\n",
       "      <td>NaN</td>\n",
       "      <td>NaN</td>\n",
       "      <td>NaN</td>\n",
       "      <td>NaN</td>\n",
       "      <td>...</td>\n",
       "      <td>NaN</td>\n",
       "      <td>NaN</td>\n",
       "      <td>NaN</td>\n",
       "      <td>NaN</td>\n",
       "      <td>NaN</td>\n",
       "      <td>NaN</td>\n",
       "      <td>NaN</td>\n",
       "      <td>NaN</td>\n",
       "      <td>NaN</td>\n",
       "      <td>NaN</td>\n",
       "    </tr>\n",
       "    <tr>\n",
       "      <th>31</th>\n",
       "      <td>NaN</td>\n",
       "      <td>NaN</td>\n",
       "      <td>NaN</td>\n",
       "      <td>NaN</td>\n",
       "      <td>NaN</td>\n",
       "      <td>NaN</td>\n",
       "      <td>NaN</td>\n",
       "      <td>NaN</td>\n",
       "      <td>NaN</td>\n",
       "      <td>NaN</td>\n",
       "      <td>...</td>\n",
       "      <td>NaN</td>\n",
       "      <td>NaN</td>\n",
       "      <td>NaN</td>\n",
       "      <td>NaN</td>\n",
       "      <td>NaN</td>\n",
       "      <td>NaN</td>\n",
       "      <td>NaN</td>\n",
       "      <td>NaN</td>\n",
       "      <td>NaN</td>\n",
       "      <td>NaN</td>\n",
       "    </tr>\n",
       "    <tr>\n",
       "      <th>32</th>\n",
       "      <td>NaN</td>\n",
       "      <td>NaN</td>\n",
       "      <td>NaN</td>\n",
       "      <td>Please add any additional information here</td>\n",
       "      <td>NaN</td>\n",
       "      <td>NaN</td>\n",
       "      <td>NaN</td>\n",
       "      <td>NaN</td>\n",
       "      <td>NaN</td>\n",
       "      <td>NaN</td>\n",
       "      <td>...</td>\n",
       "      <td>NaN</td>\n",
       "      <td>NaN</td>\n",
       "      <td>NaN</td>\n",
       "      <td>NaN</td>\n",
       "      <td>NaN</td>\n",
       "      <td>NaN</td>\n",
       "      <td>NaN</td>\n",
       "      <td>NaN</td>\n",
       "      <td>NaN</td>\n",
       "      <td>NaN</td>\n",
       "    </tr>\n",
       "    <tr>\n",
       "      <th>33</th>\n",
       "      <td>NaN</td>\n",
       "      <td>NaN</td>\n",
       "      <td>NaN</td>\n",
       "      <td>NaN</td>\n",
       "      <td>NaN</td>\n",
       "      <td>NaN</td>\n",
       "      <td>NaN</td>\n",
       "      <td>NaN</td>\n",
       "      <td>NaN</td>\n",
       "      <td>NaN</td>\n",
       "      <td>...</td>\n",
       "      <td>NaN</td>\n",
       "      <td>NaN</td>\n",
       "      <td>NaN</td>\n",
       "      <td>NaN</td>\n",
       "      <td>NaN</td>\n",
       "      <td>NaN</td>\n",
       "      <td>NaN</td>\n",
       "      <td>NaN</td>\n",
       "      <td>NaN</td>\n",
       "      <td>NaN</td>\n",
       "    </tr>\n",
       "    <tr>\n",
       "      <th>34</th>\n",
       "      <td>NaN</td>\n",
       "      <td>NaN</td>\n",
       "      <td>NaN</td>\n",
       "      <td>NaN</td>\n",
       "      <td>NaN</td>\n",
       "      <td>NaN</td>\n",
       "      <td>NaN</td>\n",
       "      <td>NaN</td>\n",
       "      <td>NaN</td>\n",
       "      <td>NaN</td>\n",
       "      <td>...</td>\n",
       "      <td>NaN</td>\n",
       "      <td>NaN</td>\n",
       "      <td>NaN</td>\n",
       "      <td>NaN</td>\n",
       "      <td>NaN</td>\n",
       "      <td>NaN</td>\n",
       "      <td>NaN</td>\n",
       "      <td>NaN</td>\n",
       "      <td>NaN</td>\n",
       "      <td>NaN</td>\n",
       "    </tr>\n",
       "    <tr>\n",
       "      <th>35</th>\n",
       "      <td>NaN</td>\n",
       "      <td>NaN</td>\n",
       "      <td>NaN</td>\n",
       "      <td>NaN</td>\n",
       "      <td>NaN</td>\n",
       "      <td>NaN</td>\n",
       "      <td>NaN</td>\n",
       "      <td>NaN</td>\n",
       "      <td>NaN</td>\n",
       "      <td>NaN</td>\n",
       "      <td>...</td>\n",
       "      <td>NaN</td>\n",
       "      <td>NaN</td>\n",
       "      <td>NaN</td>\n",
       "      <td>NaN</td>\n",
       "      <td>NaN</td>\n",
       "      <td>NaN</td>\n",
       "      <td>NaN</td>\n",
       "      <td>NaN</td>\n",
       "      <td>NaN</td>\n",
       "      <td>NaN</td>\n",
       "    </tr>\n",
       "    <tr>\n",
       "      <th>36</th>\n",
       "      <td>NaN</td>\n",
       "      <td>NaN</td>\n",
       "      <td>NaN</td>\n",
       "      <td>NaN</td>\n",
       "      <td>NaN</td>\n",
       "      <td>NaN</td>\n",
       "      <td>NaN</td>\n",
       "      <td>NaN</td>\n",
       "      <td>NaN</td>\n",
       "      <td>NaN</td>\n",
       "      <td>...</td>\n",
       "      <td>NaN</td>\n",
       "      <td>NaN</td>\n",
       "      <td>NaN</td>\n",
       "      <td>NaN</td>\n",
       "      <td>NaN</td>\n",
       "      <td>NaN</td>\n",
       "      <td>NaN</td>\n",
       "      <td>NaN</td>\n",
       "      <td>NaN</td>\n",
       "      <td>NaN</td>\n",
       "    </tr>\n",
       "    <tr>\n",
       "      <th>37</th>\n",
       "      <td>NaN</td>\n",
       "      <td>NaN</td>\n",
       "      <td>NaN</td>\n",
       "      <td>NaN</td>\n",
       "      <td>NaN</td>\n",
       "      <td>NaN</td>\n",
       "      <td>NaN</td>\n",
       "      <td>NaN</td>\n",
       "      <td>NaN</td>\n",
       "      <td>NaN</td>\n",
       "      <td>...</td>\n",
       "      <td>NaN</td>\n",
       "      <td>NaN</td>\n",
       "      <td>NaN</td>\n",
       "      <td>NaN</td>\n",
       "      <td>NaN</td>\n",
       "      <td>NaN</td>\n",
       "      <td>NaN</td>\n",
       "      <td>NaN</td>\n",
       "      <td>NaN</td>\n",
       "      <td>NaN</td>\n",
       "    </tr>\n",
       "    <tr>\n",
       "      <th>38</th>\n",
       "      <td>NaN</td>\n",
       "      <td>NaN</td>\n",
       "      <td>NaN</td>\n",
       "      <td>NaN</td>\n",
       "      <td>NaN</td>\n",
       "      <td>NaN</td>\n",
       "      <td>NaN</td>\n",
       "      <td>NaN</td>\n",
       "      <td>NaN</td>\n",
       "      <td>NaN</td>\n",
       "      <td>...</td>\n",
       "      <td>NaN</td>\n",
       "      <td>NaN</td>\n",
       "      <td>NaN</td>\n",
       "      <td>NaN</td>\n",
       "      <td>NaN</td>\n",
       "      <td>NaN</td>\n",
       "      <td>NaN</td>\n",
       "      <td>NaN</td>\n",
       "      <td>NaN</td>\n",
       "      <td>NaN</td>\n",
       "    </tr>\n",
       "    <tr>\n",
       "      <th>39</th>\n",
       "      <td>NaN</td>\n",
       "      <td>NaN</td>\n",
       "      <td>NaN</td>\n",
       "      <td>NaN</td>\n",
       "      <td>NaN</td>\n",
       "      <td>NaN</td>\n",
       "      <td>NaN</td>\n",
       "      <td>NaN</td>\n",
       "      <td>NaN</td>\n",
       "      <td>NaN</td>\n",
       "      <td>...</td>\n",
       "      <td>NaN</td>\n",
       "      <td>NaN</td>\n",
       "      <td>NaN</td>\n",
       "      <td>NaN</td>\n",
       "      <td>NaN</td>\n",
       "      <td>NaN</td>\n",
       "      <td>NaN</td>\n",
       "      <td>NaN</td>\n",
       "      <td>NaN</td>\n",
       "      <td>NaN</td>\n",
       "    </tr>\n",
       "    <tr>\n",
       "      <th>40</th>\n",
       "      <td>NaN</td>\n",
       "      <td>NaN</td>\n",
       "      <td>NaN</td>\n",
       "      <td>NaN</td>\n",
       "      <td>NaN</td>\n",
       "      <td>NaN</td>\n",
       "      <td>NaN</td>\n",
       "      <td>NaN</td>\n",
       "      <td>NaN</td>\n",
       "      <td>NaN</td>\n",
       "      <td>...</td>\n",
       "      <td>NaN</td>\n",
       "      <td>NaN</td>\n",
       "      <td>NaN</td>\n",
       "      <td>NaN</td>\n",
       "      <td>NaN</td>\n",
       "      <td>NaN</td>\n",
       "      <td>NaN</td>\n",
       "      <td>NaN</td>\n",
       "      <td>NaN</td>\n",
       "      <td>NaN</td>\n",
       "    </tr>\n",
       "    <tr>\n",
       "      <th>41</th>\n",
       "      <td>NaN</td>\n",
       "      <td>NaN</td>\n",
       "      <td>NaN</td>\n",
       "      <td>NaN</td>\n",
       "      <td>NaN</td>\n",
       "      <td>NaN</td>\n",
       "      <td>NaN</td>\n",
       "      <td>NaN</td>\n",
       "      <td>NaN</td>\n",
       "      <td>NaN</td>\n",
       "      <td>...</td>\n",
       "      <td>NaN</td>\n",
       "      <td>NaN</td>\n",
       "      <td>NaN</td>\n",
       "      <td>NaN</td>\n",
       "      <td>NaN</td>\n",
       "      <td>Previous</td>\n",
       "      <td>NaN</td>\n",
       "      <td>NaN</td>\n",
       "      <td>NaN</td>\n",
       "      <td>Next</td>\n",
       "    </tr>\n",
       "  </tbody>\n",
       "</table>\n",
       "<p>42 rows × 52 columns</p>\n",
       "</div>"
      ],
      "text/plain": [
       "    Unnamed: 0  Unnamed: 1  Unnamed: 2  \\\n",
       "0          NaN         NaN         NaN   \n",
       "1          NaN         NaN         NaN   \n",
       "2          NaN         NaN         NaN   \n",
       "3          NaN         NaN         NaN   \n",
       "4          NaN         NaN         NaN   \n",
       "5          NaN         NaN         NaN   \n",
       "6          NaN         NaN         NaN   \n",
       "7          NaN         NaN         NaN   \n",
       "8          NaN         NaN         NaN   \n",
       "9          NaN         NaN         NaN   \n",
       "10         NaN         NaN         NaN   \n",
       "11         NaN         NaN         NaN   \n",
       "12         NaN         NaN         NaN   \n",
       "13         NaN         NaN         NaN   \n",
       "14         NaN         NaN         NaN   \n",
       "15         NaN         NaN         NaN   \n",
       "16         NaN         NaN         NaN   \n",
       "17         NaN         NaN         NaN   \n",
       "18         NaN         NaN         NaN   \n",
       "19         NaN         NaN         NaN   \n",
       "20         NaN         NaN         NaN   \n",
       "21         NaN         NaN         NaN   \n",
       "22         NaN         NaN         NaN   \n",
       "23         NaN         NaN         NaN   \n",
       "24         NaN         NaN         NaN   \n",
       "25         NaN         NaN         NaN   \n",
       "26         NaN         NaN         NaN   \n",
       "27         NaN         NaN         NaN   \n",
       "28         NaN         NaN         NaN   \n",
       "29         NaN         NaN         NaN   \n",
       "30         NaN         NaN         NaN   \n",
       "31         NaN         NaN         NaN   \n",
       "32         NaN         NaN         NaN   \n",
       "33         NaN         NaN         NaN   \n",
       "34         NaN         NaN         NaN   \n",
       "35         NaN         NaN         NaN   \n",
       "36         NaN         NaN         NaN   \n",
       "37         NaN         NaN         NaN   \n",
       "38         NaN         NaN         NaN   \n",
       "39         NaN         NaN         NaN   \n",
       "40         NaN         NaN         NaN   \n",
       "41         NaN         NaN         NaN   \n",
       "\n",
       "                                    Unnamed: 3  \\\n",
       "0                                          NaN   \n",
       "1                                          NaN   \n",
       "2                                          NaN   \n",
       "3                                          NaN   \n",
       "4                                          NaN   \n",
       "5                 Part A: Enabling Environment   \n",
       "6                  Part B: Progress Assessment   \n",
       "7                                          NaN   \n",
       "8                                          NaN   \n",
       "9                                          NaN   \n",
       "10           Pillar 1: Institutional Readiness   \n",
       "11                                         NaN   \n",
       "12                                   Question:   \n",
       "13                                         NaN   \n",
       "14                                          1.   \n",
       "15                                         NaN   \n",
       "16                                         NaN   \n",
       "17                                         NaN   \n",
       "18                                         NaN   \n",
       "19                                         NaN   \n",
       "20                                         NaN   \n",
       "21                                         NaN   \n",
       "22                                         NaN   \n",
       "23                                         NaN   \n",
       "24                                         NaN   \n",
       "25                                         NaN   \n",
       "26                                         NaN   \n",
       "27                                         NaN   \n",
       "28                                         NaN   \n",
       "29                                         NaN   \n",
       "30                                         NaN   \n",
       "31                                         NaN   \n",
       "32  Please add any additional information here   \n",
       "33                                         NaN   \n",
       "34                                         NaN   \n",
       "35                                         NaN   \n",
       "36                                         NaN   \n",
       "37                                         NaN   \n",
       "38                                         NaN   \n",
       "39                                         NaN   \n",
       "40                                         NaN   \n",
       "41                                         NaN   \n",
       "\n",
       "                                           Unnamed: 4  \\\n",
       "0          Public Assets Financial Protection Program   \n",
       "1        Enabling Environment and Progress Assessment   \n",
       "2                                                 NaN   \n",
       "3                                                 NaN   \n",
       "4                                                 NaN   \n",
       "5                                                 NaN   \n",
       "6                                                 NaN   \n",
       "7                                                 NaN   \n",
       "8                                                 NaN   \n",
       "9                                                 NaN   \n",
       "10                                                NaN   \n",
       "11                                                NaN   \n",
       "12                                                NaN   \n",
       "13                                                NaN   \n",
       "14  Are public assets owned and administered centr...   \n",
       "15                                                NaN   \n",
       "16                                                NaN   \n",
       "17                                                NaN   \n",
       "18                                                NaN   \n",
       "19                                                NaN   \n",
       "20                                                NaN   \n",
       "21                                                NaN   \n",
       "22                                                NaN   \n",
       "23                                                NaN   \n",
       "24                                                NaN   \n",
       "25                                                NaN   \n",
       "26                                                NaN   \n",
       "27                                                NaN   \n",
       "28                                                NaN   \n",
       "29                                                NaN   \n",
       "30                                                NaN   \n",
       "31                                                NaN   \n",
       "32                                                NaN   \n",
       "33                                                NaN   \n",
       "34                                                NaN   \n",
       "35                                                NaN   \n",
       "36                                                NaN   \n",
       "37                                                NaN   \n",
       "38                                                NaN   \n",
       "39                                                NaN   \n",
       "40                                                NaN   \n",
       "41                                                NaN   \n",
       "\n",
       "                                           Unnamed: 5  Unnamed: 6  Unnamed: 7  \\\n",
       "0                                                 NaN         NaN         NaN   \n",
       "1                                                 NaN         NaN         NaN   \n",
       "2                                                 NaN         NaN         NaN   \n",
       "3                                                 NaN         NaN         NaN   \n",
       "4                                                 NaN         NaN         NaN   \n",
       "5                                                 NaN         NaN         NaN   \n",
       "6                                                 NaN         NaN         NaN   \n",
       "7                                                 NaN         NaN         NaN   \n",
       "8                                                 NaN         NaN         NaN   \n",
       "9                                                 NaN         NaN         NaN   \n",
       "10                                                NaN         NaN         NaN   \n",
       "11                                                NaN         NaN         NaN   \n",
       "12                                                NaN         NaN         NaN   \n",
       "13                                                NaN         NaN         NaN   \n",
       "14                                                NaN         NaN         NaN   \n",
       "15                                                NaN         NaN         NaN   \n",
       "16                                                NaN         NaN         NaN   \n",
       "17                                                NaN         NaN         NaN   \n",
       "18                  a.     Assets are owned centrally         NaN         NaN   \n",
       "19                                                NaN         NaN         NaN   \n",
       "20                                                NaN         NaN         NaN   \n",
       "21                b.     Assets are managed centrally         NaN         NaN   \n",
       "22                                                NaN         NaN         NaN   \n",
       "23                                                NaN         NaN         NaN   \n",
       "24  c.     Assets are owned at relevant line minis...         NaN         NaN   \n",
       "25                                                NaN         NaN         NaN   \n",
       "26                                                NaN         NaN         NaN   \n",
       "27  d.     Assets are managed at relevant line min...         NaN         NaN   \n",
       "28                                                NaN         NaN         NaN   \n",
       "29                                                NaN         NaN         NaN   \n",
       "30                                                NaN         NaN         NaN   \n",
       "31                                                NaN         NaN         NaN   \n",
       "32                                                NaN         NaN         NaN   \n",
       "33                                                NaN         NaN         NaN   \n",
       "34                                                NaN         NaN         NaN   \n",
       "35                                                NaN         NaN         NaN   \n",
       "36                                                NaN         NaN         NaN   \n",
       "37                                                NaN         NaN         NaN   \n",
       "38                                                NaN         NaN         NaN   \n",
       "39                                                NaN         NaN         NaN   \n",
       "40                                                NaN         NaN         NaN   \n",
       "41                                                NaN         NaN         NaN   \n",
       "\n",
       "    Unnamed: 8  Unnamed: 9  ...  Unnamed: 42  Unnamed: 43  \\\n",
       "0          NaN         NaN  ...          NaN          NaN   \n",
       "1          NaN         NaN  ...          NaN          NaN   \n",
       "2          NaN         NaN  ...          NaN          NaN   \n",
       "3          NaN         NaN  ...          NaN          NaN   \n",
       "4          NaN         NaN  ...          NaN          NaN   \n",
       "5          NaN         NaN  ...          NaN          NaN   \n",
       "6          NaN         NaN  ...          NaN          NaN   \n",
       "7          NaN         NaN  ...          NaN          NaN   \n",
       "8          NaN         NaN  ...          NaN          NaN   \n",
       "9          NaN         NaN  ...          NaN          NaN   \n",
       "10         NaN         NaN  ...          NaN          NaN   \n",
       "11         NaN         NaN  ...          NaN          NaN   \n",
       "12         NaN         NaN  ...          NaN          NaN   \n",
       "13         NaN         NaN  ...          NaN          NaN   \n",
       "14         NaN         NaN  ...          NaN          NaN   \n",
       "15         NaN         NaN  ...          NaN          NaN   \n",
       "16         NaN         NaN  ...          NaN          NaN   \n",
       "17         NaN         NaN  ...          NaN          NaN   \n",
       "18         NaN         NaN  ...          NaN          NaN   \n",
       "19         NaN         NaN  ...          NaN          NaN   \n",
       "20         NaN         NaN  ...          NaN          NaN   \n",
       "21         NaN         NaN  ...          NaN          NaN   \n",
       "22         NaN         NaN  ...          NaN          NaN   \n",
       "23         NaN         NaN  ...          NaN          NaN   \n",
       "24         NaN         NaN  ...          NaN          NaN   \n",
       "25         NaN         NaN  ...          NaN          NaN   \n",
       "26         NaN         NaN  ...          NaN          NaN   \n",
       "27         NaN         NaN  ...          NaN          NaN   \n",
       "28         NaN         NaN  ...          NaN          NaN   \n",
       "29         NaN         NaN  ...          NaN          NaN   \n",
       "30         NaN         NaN  ...          NaN          NaN   \n",
       "31         NaN         NaN  ...          NaN          NaN   \n",
       "32         NaN         NaN  ...          NaN          NaN   \n",
       "33         NaN         NaN  ...          NaN          NaN   \n",
       "34         NaN         NaN  ...          NaN          NaN   \n",
       "35         NaN         NaN  ...          NaN          NaN   \n",
       "36         NaN         NaN  ...          NaN          NaN   \n",
       "37         NaN         NaN  ...          NaN          NaN   \n",
       "38         NaN         NaN  ...          NaN          NaN   \n",
       "39         NaN         NaN  ...          NaN          NaN   \n",
       "40         NaN         NaN  ...          NaN          NaN   \n",
       "41         NaN         NaN  ...          NaN          NaN   \n",
       "\n",
       "                             Unnamed: 44  Unnamed: 45  Unnamed: 46  \\\n",
       "0                                    NaN          NaN          NaN   \n",
       "1                                    NaN          NaN          NaN   \n",
       "2                                    NaN          NaN          NaN   \n",
       "3                                    NaN          NaN          NaN   \n",
       "4                                    NaN          NaN          NaN   \n",
       "5      Pillar 1: Institutional Readiness          NaN          NaN   \n",
       "6               Pillar 2: Data Readiness          NaN          NaN   \n",
       "7        Pillar 3: Operational Readiness          NaN          NaN   \n",
       "8   Pillar 4: Insurance Market Readiness          NaN          NaN   \n",
       "9                                    NaN          NaN          NaN   \n",
       "10                                   NaN          NaN          NaN   \n",
       "11                                   NaN          NaN          NaN   \n",
       "12                                   NaN          NaN          NaN   \n",
       "13                                   NaN          NaN          NaN   \n",
       "14                                   NaN          NaN          NaN   \n",
       "15                                   NaN          NaN          NaN   \n",
       "16                                   NaN          NaN          NaN   \n",
       "17                                   NaN          NaN          NaN   \n",
       "18                                   NaN          NaN          NaN   \n",
       "19                                   NaN          NaN          NaN   \n",
       "20                                   NaN          NaN          NaN   \n",
       "21                                   NaN          NaN          NaN   \n",
       "22                                   NaN          NaN          NaN   \n",
       "23                                   NaN          NaN          NaN   \n",
       "24                                   NaN          NaN          NaN   \n",
       "25                                   NaN          NaN          NaN   \n",
       "26                                   NaN          NaN          NaN   \n",
       "27                                   NaN          NaN          NaN   \n",
       "28                                   NaN          NaN          NaN   \n",
       "29                                   NaN          NaN          NaN   \n",
       "30                                   NaN          NaN          NaN   \n",
       "31                                   NaN          NaN          NaN   \n",
       "32                                   NaN          NaN          NaN   \n",
       "33                                   NaN          NaN          NaN   \n",
       "34                                   NaN          NaN          NaN   \n",
       "35                                   NaN          NaN          NaN   \n",
       "36                                   NaN          NaN          NaN   \n",
       "37                                   NaN          NaN          NaN   \n",
       "38                                   NaN          NaN          NaN   \n",
       "39                                   NaN          NaN          NaN   \n",
       "40                                   NaN          NaN          NaN   \n",
       "41                                   NaN          NaN          NaN   \n",
       "\n",
       "   Unnamed: 47  Unnamed: 48  Unnamed: 49  Unnamed: 50  Unnamed: 51  \n",
       "0          NaN          NaN          NaN          NaN          NaN  \n",
       "1          NaN          NaN          NaN          NaN          NaN  \n",
       "2          NaN          NaN          NaN          NaN          NaN  \n",
       "3          NaN          NaN          NaN          NaN          NaN  \n",
       "4          NaN          NaN          NaN          NaN          NaN  \n",
       "5          NaN          NaN          NaN          NaN          NaN  \n",
       "6          NaN          NaN          NaN          NaN          NaN  \n",
       "7          NaN          NaN          NaN          NaN          NaN  \n",
       "8          NaN          NaN          NaN          NaN          NaN  \n",
       "9          NaN          NaN          NaN          NaN          NaN  \n",
       "10         NaN          NaN          NaN          NaN          NaN  \n",
       "11         NaN          NaN          NaN          NaN          NaN  \n",
       "12         NaN          NaN          NaN          NaN    Response:  \n",
       "13         NaN          NaN          NaN          NaN          NaN  \n",
       "14         NaN          NaN          NaN          NaN          NaN  \n",
       "15         NaN          NaN          NaN          NaN          NaN  \n",
       "16         NaN          NaN          NaN          NaN          NaN  \n",
       "17         NaN          NaN          NaN          NaN          NaN  \n",
       "18         NaN          NaN          NaN          NaN          NaN  \n",
       "19         NaN          NaN          NaN          NaN          NaN  \n",
       "20         NaN          NaN          NaN          NaN          NaN  \n",
       "21         NaN          NaN          NaN          NaN          NaN  \n",
       "22         NaN          NaN          NaN          NaN          NaN  \n",
       "23         NaN          NaN          NaN          NaN          NaN  \n",
       "24         NaN          NaN          NaN          NaN          NaN  \n",
       "25         NaN          NaN          NaN          NaN          NaN  \n",
       "26         NaN          NaN          NaN          NaN          NaN  \n",
       "27         NaN          NaN          NaN          NaN          NaN  \n",
       "28         NaN          NaN          NaN          NaN          NaN  \n",
       "29         NaN          NaN          NaN          NaN          NaN  \n",
       "30         NaN          NaN          NaN          NaN          NaN  \n",
       "31         NaN          NaN          NaN          NaN          NaN  \n",
       "32         NaN          NaN          NaN          NaN          NaN  \n",
       "33         NaN          NaN          NaN          NaN          NaN  \n",
       "34         NaN          NaN          NaN          NaN          NaN  \n",
       "35         NaN          NaN          NaN          NaN          NaN  \n",
       "36         NaN          NaN          NaN          NaN          NaN  \n",
       "37         NaN          NaN          NaN          NaN          NaN  \n",
       "38         NaN          NaN          NaN          NaN          NaN  \n",
       "39         NaN          NaN          NaN          NaN          NaN  \n",
       "40         NaN          NaN          NaN          NaN          NaN  \n",
       "41    Previous          NaN          NaN          NaN         Next  \n",
       "\n",
       "[42 rows x 52 columns]"
      ]
     },
     "execution_count": 11,
     "metadata": {},
     "output_type": "execute_result"
    }
   ],
   "source": [
    "path = \"EEPA Tool v28 23 Feb 2023.xlsx\"\n",
    "sh = pd.read_excel(path, sheet_name=\"PartA_Q1\") \n",
    "sh"
   ]
  }
 ],
 "metadata": {
  "kernelspec": {
   "display_name": "base2",
   "language": "python",
   "name": "python3"
  },
  "language_info": {
   "codemirror_mode": {
    "name": "ipython",
    "version": 3
   },
   "file_extension": ".py",
   "mimetype": "text/x-python",
   "name": "python",
   "nbconvert_exporter": "python",
   "pygments_lexer": "ipython3",
   "version": "3.11.9"
  }
 },
 "nbformat": 4,
 "nbformat_minor": 5
}
